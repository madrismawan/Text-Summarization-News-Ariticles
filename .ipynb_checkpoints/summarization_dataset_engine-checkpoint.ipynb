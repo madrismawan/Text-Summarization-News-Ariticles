{
 "cells": [
  {
   "cell_type": "code",
   "execution_count": 17,
   "metadata": {},
   "outputs": [],
   "source": [
    "from nltk.tokenize import sent_tokenize, word_tokenize\n",
    "import import_ipynb\n",
    "import re\n",
    "import pandas as pd\n",
    "from algoritma.MMR import *\n",
    "from nltk.corpus import stopwords\n",
    "import string\n",
    "import csv\n",
    "import time\n",
    "import string\n",
    "import nltk\n",
    "import spacy\n",
    "from nltk.stem import PorterStemmer\n",
    "import spacy\n",
    "from spacy.lang.en.stop_words import STOP_WORDS"
   ]
  },
  {
   "cell_type": "code",
   "execution_count": 2,
   "metadata": {},
   "outputs": [],
   "source": [
    "def tokenizeParagraftoKalimat(paragraf):\n",
    "    tokenize = sent_tokenize(paragraf)\n",
    "    return tokenize"
   ]
  },
  {
   "cell_type": "code",
   "execution_count": 9,
   "metadata": {},
   "outputs": [],
   "source": [
    "def cleansingData(text):\n",
    "    no_punct=[words for words in text if words not in string.punctuation]\n",
    "    words_wo_punct=''.join(no_punct)\n",
    "    hasil = re.sub('[^A-Za-z0-9 ]+', '', words_wo_punct)\n",
    "    hasil = hasil.translate(str.maketrans(\"\",\"\",string.punctuation))\n",
    "    return hasil"
   ]
  },
  {
   "cell_type": "code",
   "execution_count": 13,
   "metadata": {},
   "outputs": [],
   "source": [
    "def steamingData(sentence):\n",
    "    porter = PorterStemmer()\n",
    "    token_words=word_tokenize(sentence)\n",
    "    token_words\n",
    "    stem_sentence=[]\n",
    "    for word in token_words:\n",
    "        stem_sentence.append(porter.stem(word))\n",
    "        stem_sentence.append(\" \")\n",
    "    return \"\".join(stem_sentence)"
   ]
  },
  {
   "cell_type": "code",
   "execution_count": 28,
   "metadata": {},
   "outputs": [],
   "source": [
    "def stopwordEN(text):\n",
    "    hasilStopWord = []\n",
    "    stopwordNLTK = nltk.corpus.stopwords.words('english')\n",
    "    stopwordSpacy = list(STOP_WORDS)\n",
    "    for word in text.split():\n",
    "        if not word in stopwordNLTK:\n",
    "            if not word in stopwordSpacy:\n",
    "                hasilStopWord.append(word)\n",
    "    return \" \".join(hasilStopWord)"
   ]
  },
  {
   "cell_type": "code",
   "execution_count": null,
   "metadata": {},
   "outputs": [
    {
     "name": "stdout",
     "output_type": "stream",
     "text": [
      "['WASHINGTON (Reuters) - The head of a conservative Republican faction in the U.S. Congress, who voted this month for a huge expansion of the national debt to pay for tax cuts, called himself a “fiscal conservative” on Sunday and urged budget restraint in 2018.', 'In keeping with a sharp pivot under way among Republicans, U.S. Representative Mark Meadows, speaking on CBS’ “Face the Nation,” drew a hard line on federal spending, which lawmakers are bracing to do battle over in January.', 'When they return from the holidays on Wednesday, lawmakers will begin trying to pass a federal budget in a fight likely to be linked to other issues, such as immigration policy, even as the November congressional election campaigns approach in which Republicans will seek to keep control of Congress.', 'President Donald Trump and his Republicans want a big budget increase in military spending, while Democrats also want proportional increases for non-defense “discretionary” spending on programs that support education, scientific research, infrastructure, public health and environmental protection.', '“The (Trump) administration has already been willing to say: ‘We’re going to increase non-defense discretionary spending ... by about 7 percent,’” Meadows, chairman of the small but influential House Freedom Caucus, said on the program.', '“Now, Democrats are saying that’s not enough, we need to give the government a pay raise of 10 to 11 percent.', 'For a fiscal conservative, I don’t see where the rationale is.', '...', 'Eventually you run out of other people’s money,” he said.', 'Meadows was among Republicans who voted in late December for their party’s debt-financed tax overhaul, which is expected to balloon the federal budget deficit and add about $1.5 trillion over 10 years to the $20 trillion national debt.', '“It’s interesting to hear Mark talk about fiscal responsibility,” Democratic U.S. Representative Joseph Crowley said on CBS.', 'Crowley said the Republican tax bill would require the  United States to borrow $1.5 trillion, to be paid off by future generations, to finance tax cuts for corporations and the rich.', '“This is one of the least ... fiscally responsible bills we’ve ever seen passed in the history of the House of Representatives.', 'I think we’re going to be paying for this for many, many years to come,” Crowley said.', 'Republicans insist the tax package, the biggest U.S. tax overhaul in more than 30 years,  will boost the economy and job growth.', 'House Speaker Paul Ryan, who also supported the tax bill, recently went further than Meadows, making clear in a radio interview that welfare or “entitlement reform,” as the party often calls it, would be a top Republican priority in 2018.', 'In Republican parlance, “entitlement” programs mean food stamps, housing assistance, Medicare and Medicaid health insurance for the elderly, poor and disabled, as well as other programs created by Washington to assist the needy.', 'Democrats seized on Ryan’s early December remarks, saying they showed Republicans would try to pay for their tax overhaul by seeking spending cuts for social programs.', 'But the goals of House Republicans may have to take a back seat to the Senate, where the votes of some Democrats will be needed to approve a budget and prevent a government shutdown.', 'Democrats will use their leverage in the Senate, which Republicans narrowly control, to defend both discretionary non-defense programs and social spending, while tackling the issue of the “Dreamers,” people brought illegally to the country as children.', 'Trump in September put a March 2018 expiration date on the Deferred Action for Childhood Arrivals, or DACA, program, which protects the young immigrants from deportation and provides them with work permits.', 'The president has said in recent Twitter messages he wants funding for his proposed Mexican border wall and other immigration law changes in exchange for agreeing to help the Dreamers.', 'Representative Debbie Dingell told CBS she did not favor linking that issue to other policy objectives, such as wall funding.', '“We need to do DACA clean,” she said.', 'On Wednesday, Trump aides will meet with congressional leaders to discuss those issues.', 'That will be followed by a weekend of strategy sessions for Trump and Republican leaders on Jan. 6 and 7, the White House said.', 'Trump was also scheduled to meet on Sunday with Florida Republican Governor Rick Scott, who wants more emergency aid.', 'The House has passed an $81 billion aid package after hurricanes in Florida, Texas and Puerto Rico, and wildfires in California.', 'The package far exceeded the $44 billion requested by the Trump administration.', 'The Senate has not yet voted on the aid.']\n",
      "['washington reuter head conserv republican faction US congress vote thi month huge expans nation debt pay tax cut fiscal conserv sunday urg budget restraint 2018', 'In sharp pivot way republican US repres mark meadow speak cb face nation drew hard line feder spend lawmak brace battl januari', 'return holiday wednesday lawmak begin tri pass feder budget fight like link issu immigr polici novemb congression elect campaign approach republican seek control congress', 'presid donald trump hi republican want big budget increas militari spend democrat want proport increas nondefens discretionari spend program support educ scientif research infrastructur public health environment protect', 'trump administr ha alreadi increas nondefens discretionari spend 7 percent meadow chairman small influenti hous freedom caucu said program', 'democrat need govern pay rais 10 11 percent', 'fiscal conserv I dont rational', '', 'eventu run peopl money said', 'meadow wa republican vote late decemb parti debtfinanc tax overhaul expect balloon feder budget deficit add 15 trillion 10 year 20 trillion nation debt', 'interest hear mark talk fiscal respons democrat US repres joseph crowley said cb', 'crowley said republican tax bill requir unit state borrow 15 trillion paid futur gener financ tax cut corpor rich', 'thi fiscal respons bill weve seen pass histori hous repres', 'I think pay thi mani mani year come crowley said', 'republican insist tax packag biggest US tax overhaul 30 year boost economi job growth', 'hous speaker paul ryan support tax bill recent went meadow clear radio interview welfar entitl reform parti republican prioriti 2018', 'In republican parlanc entitl program mean food stamp hous assist medicar medicaid health insur elderli poor disabl program creat washington assist needi', 'democrat seiz ryan earli decemb remark republican tri pay tax overhaul seek spend cut social program', 'goal hous republican seat senat vote democrat need approv budget prevent govern shutdown', 'democrat use leverag senat republican narrowli control defend discretionari nondefens program social spend tackl issu dreamer peopl brought illeg countri children', 'trump septemb march 2018 expir date defer action childhood arriv daca program protect young immigr deport provid work permit', 'presid ha said recent twitter messag want fund hi propos mexican border wall immigr law chang exchang agre help dreamer', 'repres debbi dingel told cb favor link issu polici object wall fund', 'We need daca clean said', 'On wednesday trump aid meet congression leader discuss issu', 'follow weekend strategi session trump republican leader jan 6 7 white hous said', 'trump wa schedul meet sunday florida republican governor rick scott want emerg aid', 'hous ha pass 81 billion aid packag hurrican florida texa puerto rico wildfir california', 'packag far exceed 44 billion request trump administr', 'senat ha vote aid']\n",
      "================= Pembatas ================\n",
      "WASHINGTON Reuters  The head of a conservative Republican faction in the US Congress who voted this month for a huge expansion of the national debt to pay for tax cuts called himself a “fiscal conservative” on Sunday and urged budget restraint in 2018 In keeping with a sharp pivot under way among Republicans US Representative Mark Meadows speaking on CBS’ “Face the Nation” drew a hard line on federal spending which lawmakers are bracing to do battle over in January When they return from the holidays on Wednesday lawmakers will begin trying to pass a federal budget in a fight likely to be linked to other issues such as immigration policy even as the November congressional election campaigns approach in which Republicans will seek to keep control of Congress President Donald Trump and his Republicans want a big budget increase in military spending while Democrats also want proportional increases for nondefense “discretionary” spending on programs that support education scientific research infrastructure public health and environmental protection “The Trump administration has already been willing to say ‘We’re going to increase nondefense discretionary spending  by about 7 percent’” Meadows chairman of the small but influential House Freedom Caucus said on the program “Now Democrats are saying that’s not enough we need to give the government a pay raise of 10 to 11 percent For a fiscal conservative I don’t see where the rationale is  Eventually you run out of other people’s money” he said Meadows was among Republicans who voted in late December for their party’s debtfinanced tax overhaul which is expected to balloon the federal budget deficit and add about 15 trillion over 10 years to the 20 trillion national debt “It’s interesting to hear Mark talk about fiscal responsibility” Democratic US Representative Joseph Crowley said on CBS Crowley said the Republican tax bill would require the  United States to borrow 15 trillion to be paid off by future generations to finance tax cuts for corporations and the rich “This is one of the least  fiscally responsible bills we’ve ever seen passed in the history of the House of Representatives I think we’re going to be paying for this for many many years to come” Crowley said Republicans insist the tax package the biggest US tax overhaul in more than 30 years  will boost the economy and job growth House Speaker Paul Ryan who also supported the tax bill recently went further than Meadows making clear in a radio interview that welfare or “entitlement reform” as the party often calls it would be a top Republican priority in 2018 In Republican parlance “entitlement” programs mean food stamps housing assistance Medicare and Medicaid health insurance for the elderly poor and disabled as well as other programs created by Washington to assist the needy Democrats seized on Ryan’s early December remarks saying they showed Republicans would try to pay for their tax overhaul by seeking spending cuts for social programs But the goals of House Republicans may have to take a back seat to the Senate where the votes of some Democrats will be needed to approve a budget and prevent a government shutdown Democrats will use their leverage in the Senate which Republicans narrowly control to defend both discretionary nondefense programs and social spending while tackling the issue of the “Dreamers” people brought illegally to the country as children Trump in September put a March 2018 expiration date on the Deferred Action for Childhood Arrivals or DACA program which protects the young immigrants from deportation and provides them with work permits The president has said in recent Twitter messages he wants funding for his proposed Mexican border wall and other immigration law changes in exchange for agreeing to help the Dreamers Representative Debbie Dingell told CBS she did not favor linking that issue to other policy objectives such as wall funding “We need to do DACA clean” she said  On Wednesday Trump aides will meet with congressional leaders to discuss those issues That will be followed by a weekend of strategy sessions for Trump and Republican leaders on Jan 6 and 7 the White House said Trump was also scheduled to meet on Sunday with Florida Republican Governor Rick Scott who wants more emergency aid The House has passed an 81 billion aid package after hurricanes in Florida Texas and Puerto Rico and wildfires in California The package far exceeded the 44 billion requested by the Trump administration The Senate has not yet voted on the aid \n"
     ]
    },
    {
     "name": "stdout",
     "output_type": "stream",
     "text": [
      "['WASHINGTON (Reuters) - Transgender people will be allowed for the first time to enlist in the U.S. military starting on Monday as ordered by federal courts, the Pentagon said on Friday, after President Donald Trump’s administration decided not to appeal rulings that blocked his transgender ban.', 'Two federal appeals courts, one in Washington and one in Virginia, last week rejected the administration’s request to put on hold orders by lower court judges requiring the military to begin accepting transgender recruits on Jan. 1.', 'A Justice Department official said the administration will not challenge those rulings.', '“The Department of Defense has announced that it will be releasing an independent study of these issues in the coming weeks.', 'So rather than litigate this interim appeal before that occurs, the administration has decided to wait for DOD’s study and will continue to defend the president’s lawful authority in District Court in the meantime,” the official said, speaking on condition of anonymity.', 'In September, the Pentagon said it had created a panel of senior officials to study how to implement a directive by Trump to prohibit transgender individuals from serving.', 'The Defense Department has until Feb. 21 to submit a plan to Trump.', 'Lawyers representing currently-serving transgender service members and aspiring recruits said they had expected the administration to appeal the rulings to the conservative-majority Supreme Court, but were hoping that would not happen.', 'Pentagon spokeswoman Heather Babb said in a statement: “As mandated by court order, the Department of Defense is prepared to begin accessing transgender applicants for military service Jan. 1.', 'All applicants must meet all accession standards.” Jennifer Levi, a lawyer with gay, lesbian and transgender advocacy group GLAD, called the decision not to appeal “great news.” “I’m hoping it means the government has come to see that there is no way to justify a ban and that it’s not good for the military or our country,” Levi said.', 'Both GLAD and the American Civil Liberties Union represent plaintiffs in the lawsuits filed against the administration.', 'In a move that appealed to his hard-line conservative supporters, Trump announced in July that he would prohibit transgender people from serving in the military, reversing Democratic President Barack Obama’s policy of accepting them.', 'Trump said on Twitter at the time that the military “cannot be burdened with the tremendous medical costs and disruption that transgender in the military would entail.” Four federal judges - in Baltimore, Washington, D.C., Seattle and Riverside, California - have issued rulings blocking Trump’s ban while legal challenges to the Republican president’s policy proceed.', 'The judges said the ban would likely violate the right under the U.S. Constitution to equal protection under the law.', 'The Pentagon on Dec. 8 issued guidelines to recruitment personnel in order to enlist transgender applicants by Jan. 1.', 'The memo outlined medical requirements and specified how the applicants’ sex would be identified and even which undergarments they would wear.', 'The Trump administration previously said in legal papers that the armed forces were not prepared to train thousands of personnel on the medical standards needed to process transgender applicants and might have to accept “some individuals who are not medically fit for service.” The Obama administration had set a deadline of July 1, 2017, to begin accepting transgender recruits.', 'But Trump’s defense secretary, James Mattis, postponed that date to Jan. 1, 2018, which the president’s ban then put off indefinitely.', 'Trump has taken other steps aimed at rolling back transgender rights.', 'In October, his administration said a federal law banning gender-based workplace discrimination does not protect transgender employees, reversing another Obama-era position.', 'In February, Trump rescinded guidance issued by the Obama administration saying that public schools should allow transgender students to use the restroom that corresponds to their gender identity.']\n",
      "['washington reuter transgend peopl allow time enlist US militari start monday order feder court pentagon said friday presid donald trump administr decid appeal rule block hi transgend ban', 'feder appeal court washington virginia week reject administr request hold order lower court judg requir militari begin accept transgend recruit jan 1', 'A justic depart offici said administr challeng rule', 'depart defens ha announc releas independ studi issu come week', 'So litig thi interim appeal befor occur administr ha decid wait dod studi continu defend presid law author district court meantim offici said speak condit anonym', 'In septemb pentagon said creat panel senior offici studi implement direct trump prohibit transgend individu serv', 'defens depart ha feb 21 submit plan trump', 'lawyer repres currentlyserv transgend servic member aspir recruit said expect administr appeal rule conservativemajor suprem court hope happen', 'pentagon spokeswoman heather babb said statement As mandat court order depart defens prepar begin access transgend applic militari servic jan 1', 'applic meet access standard jennif levi lawyer gay lesbian transgend advocaci group glad decis appeal great news Im hope mean govern ha come way justifi ban good militari countri levi said', 'glad american civil liberti union repres plaintiff lawsuit file administr', 'In appeal hi hardlin conserv support trump announc juli prohibit transgend peopl serv militari revers democrat presid barack obama polici accept', 'trump said twitter time militari burden tremend medic cost disrupt transgend militari entail feder judg baltimor washington DC seattl riversid california issu rule block trump ban legal challeng republican presid polici proceed', 'judg said ban like violat right US constitut equal protect law', 'pentagon dec 8 issu guidelin recruit personnel order enlist transgend applic jan 1', 'memo outlin medic requir specifi applic sex identifi undergar wear', 'trump administr previous said legal paper arm forc prepar train thousand personnel medic standard need process transgend applic accept individu medic fit servic obama administr set deadlin juli 1 2017 begin accept transgend recruit', 'trump defens secretari jame matti postpon date jan 1 2018 presid ban indefinit', 'trump ha taken step aim roll transgend right', 'In octob hi administr said feder law ban genderbas workplac discrimin doe protect transgend employe revers anoth obamaera posit', 'In februari trump rescind guidanc issu obama administr public school allow transgend student use restroom correspond gender ident']\n",
      "================= Pembatas ================\n",
      "WASHINGTON Reuters  Transgender people will be allowed for the first time to enlist in the US military starting on Monday as ordered by federal courts the Pentagon said on Friday after President Donald Trump’s administration decided not to appeal rulings that blocked his transgender ban Two federal appeals courts one in Washington and one in Virginia last week rejected the administration’s request to put on hold orders by lower court judges requiring the military to begin accepting transgender recruits on Jan 1 A Justice Department official said the administration will not challenge those rulings “The Department of Defense has announced that it will be releasing an independent study of these issues in the coming weeks So rather than litigate this interim appeal before that occurs the administration has decided to wait for DOD’s study and will continue to defend the president’s lawful authority in District Court in the meantime” the official said speaking on condition of anonymity In September the Pentagon said it had created a panel of senior officials to study how to implement a directive by Trump to prohibit transgender individuals from serving The Defense Department has until Feb 21 to submit a plan to Trump Lawyers representing currentlyserving transgender service members and aspiring recruits said they had expected the administration to appeal the rulings to the conservativemajority Supreme Court but were hoping that would not happen Pentagon spokeswoman Heather Babb said in a statement “As mandated by court order the Department of Defense is prepared to begin accessing transgender applicants for military service Jan 1 All applicants must meet all accession standards” Jennifer Levi a lawyer with gay lesbian and transgender advocacy group GLAD called the decision not to appeal “great news” “I’m hoping it means the government has come to see that there is no way to justify a ban and that it’s not good for the military or our country” Levi said Both GLAD and the American Civil Liberties Union represent plaintiffs in the lawsuits filed against the administration In a move that appealed to his hardline conservative supporters Trump announced in July that he would prohibit transgender people from serving in the military reversing Democratic President Barack Obama’s policy of accepting them Trump said on Twitter at the time that the military “cannot be burdened with the tremendous medical costs and disruption that transgender in the military would entail” Four federal judges  in Baltimore Washington DC Seattle and Riverside California  have issued rulings blocking Trump’s ban while legal challenges to the Republican president’s policy proceed The judges said the ban would likely violate the right under the US Constitution to equal protection under the law The Pentagon on Dec 8 issued guidelines to recruitment personnel in order to enlist transgender applicants by Jan 1 The memo outlined medical requirements and specified how the applicants’ sex would be identified and even which undergarments they would wear The Trump administration previously said in legal papers that the armed forces were not prepared to train thousands of personnel on the medical standards needed to process transgender applicants and might have to accept “some individuals who are not medically fit for service” The Obama administration had set a deadline of July 1 2017 to begin accepting transgender recruits But Trump’s defense secretary James Mattis postponed that date to Jan 1 2018 which the president’s ban then put off indefinitely Trump has taken other steps aimed at rolling back transgender rights In October his administration said a federal law banning genderbased workplace discrimination does not protect transgender employees reversing another Obamaera position In February Trump rescinded guidance issued by the Obama administration saying that public schools should allow transgender students to use the restroom that corresponds to their gender identity \n"
     ]
    },
    {
     "name": "stdout",
     "output_type": "stream",
     "text": [
      "['WASHINGTON (Reuters) - The special counsel investigation of links between Russia and President Trump’s 2016 election campaign should continue without interference in 2018, despite calls from some Trump administration allies and Republican lawmakers to shut it down, a prominent Republican senator said on Sunday.', 'Lindsey Graham, who serves on the Senate armed forces and judiciary committees, said Department of Justice Special Counsel Robert Mueller needs to carry on with his Russia investigation without political interference.', '“This investigation will go forward.', 'It will be an investigation conducted without political influence,” Graham said on CBS’s Face the Nation news program.', '“And we all need to let Mr. Mueller do his job.', 'I think he’s the right guy at the right time.”  The question of how Russia may have interfered in the election, and how Trump’s campaign may have had links with or co-ordinated any such effort, has loomed over the White House since Trump took office in January.', 'It shows no sign of receding as Trump prepares for his second year in power, despite intensified rhetoric from some Trump allies in recent weeks accusing Mueller’s team of bias against the Republican president.', 'Trump himself seemed to undercut his supporters in an interview last week with the New York Times in which he said he expected Mueller was “going to be fair.”    Russia’s role in the election and the question of possible links to the Trump campaign are the focus of multiple inquiries in Washington.', 'Three committees of the Senate and the House of Representatives are investigating, as well as Mueller, whose team in May took over an earlier probe launched by the U.S. Federal Bureau of Investigation (FBI).', 'Several members of the Trump campaign and administration have been convicted or indicted in the investigation.', 'Trump and his allies deny any collusion with Russia during the campaign, and the Kremlin has denied meddling in the election.', 'Graham said he still wants an examination of the FBI’s use of a dossier on links between Trump and Russia that was compiled by a former British spy, Christopher Steele, which prompted Trump allies and some Republicans to question Mueller’s inquiry.', 'On Saturday, the New York Times reported that it was not that dossier that triggered an early FBI probe, but a tip from former Trump campaign foreign policy adviser George Papadopoulos to an Australian diplomat that Russia had damaging information about former Trump rival Hillary Clinton.', '“I want somebody to look at the way the Department of Justice used this dossier.', 'It bothers me greatly the way they used it, and I want somebody to look at it,” Graham said.', 'But he said the Russia investigation must continue.', '“As a matter of fact, it would hurt us if we ignored it,” he said.']\n",
      "['washington reuter special counsel investig link russia presid trump 2016 elect campaign continu interfer 2018 despit trump administr alli republican lawmak shut promin republican senat said sunday', 'lindsey graham serv senat arm forc judiciari committe said depart justic special counsel robert mueller need carri hi russia investig polit interfer', 'thi investig forward', 'It investig conduct polit influenc graham said cbss face nation news program', 'need let Mr mueller hi job', 'I think right guy right time question russia interf elect trump campaign link coordin ani effort ha loom white hous sinc trump took offic januari', 'It sign reced trump prepar hi second year power despit intensifi rhetor trump alli recent week accus mueller team bia republican presid', 'trump undercut hi support interview week new york time said expect mueller wa fair russia role elect question possibl link trump campaign focu multipl inquiri washington', 'committe senat hous repres investig mueller team took earlier probe launch US feder bureau investig fbi', 'sever member trump campaign administr convict indict investig', 'trump hi alli deni ani collus russia dure campaign kremlin ha deni meddl elect', 'graham said want examin fbi use dossier link trump russia wa compil british spi christoph steel prompt trump alli republican question mueller inquiri', 'On saturday new york time report wa dossier trigger earli fbi probe tip trump campaign foreign polici advis georg papadopoulo australian diplomat russia damag inform trump rival hillari clinton', 'I want somebodi look way depart justic use thi dossier', 'It bother greatli way use I want somebodi look graham said', 'said russia investig continu', 'As matter fact hurt ignor said']\n",
      "================= Pembatas ================\n",
      "WASHINGTON Reuters  The special counsel investigation of links between Russia and President Trump’s 2016 election campaign should continue without interference in 2018 despite calls from some Trump administration allies and Republican lawmakers to shut it down a prominent Republican senator said on Sunday Lindsey Graham who serves on the Senate armed forces and judiciary committees said Department of Justice Special Counsel Robert Mueller needs to carry on with his Russia investigation without political interference “This investigation will go forward It will be an investigation conducted without political influence” Graham said on CBS’s Face the Nation news program “And we all need to let Mr Mueller do his job I think he’s the right guy at the right time”  The question of how Russia may have interfered in the election and how Trump’s campaign may have had links with or coordinated any such effort has loomed over the White House since Trump took office in January It shows no sign of receding as Trump prepares for his second year in power despite intensified rhetoric from some Trump allies in recent weeks accusing Mueller’s team of bias against the Republican president Trump himself seemed to undercut his supporters in an interview last week with the New York Times in which he said he expected Mueller was “going to be fair”    Russia’s role in the election and the question of possible links to the Trump campaign are the focus of multiple inquiries in Washington Three committees of the Senate and the House of Representatives are investigating as well as Mueller whose team in May took over an earlier probe launched by the US Federal Bureau of Investigation FBI Several members of the Trump campaign and administration have been convicted or indicted in the investigation  Trump and his allies deny any collusion with Russia during the campaign and the Kremlin has denied meddling in the election Graham said he still wants an examination of the FBI’s use of a dossier on links between Trump and Russia that was compiled by a former British spy Christopher Steele which prompted Trump allies and some Republicans to question Mueller’s inquiry   On Saturday the New York Times reported that it was not that dossier that triggered an early FBI probe but a tip from former Trump campaign foreign policy adviser George Papadopoulos to an Australian diplomat that Russia had damaging information about former Trump rival Hillary Clinton  “I want somebody to look at the way the Department of Justice used this dossier It bothers me greatly the way they used it and I want somebody to look at it” Graham said But he said the Russia investigation must continue “As a matter of fact it would hurt us if we ignored it” he said \n"
     ]
    }
   ],
   "source": [
    "df = pd.read_csv(\"data/dataset.csv\")\n",
    "for iteration, data in enumerate(df['text']):\n",
    "    tokenizeKalimat = (tokenizeParagraftoKalimat(data)) \n",
    "    \n",
    "    cleansingTeks = []\n",
    "    kalimatAsli = {}\n",
    "    \n",
    "    for text in tokenizeKalimat:\n",
    "        steam = steamingData(cleansingData(text))\n",
    "        dataFinal = stopwordEN(steam)\n",
    "        cleansingTeks.append(dataFinal)\n",
    "        kalimatAsli[dataFinal] = text\n",
    "    \n",
    "    print(cleansingTeks)\n",
    "    \n",
    "    \n",
    "#     print(removeTandaBaca(tokenizeKalimat))\n",
    "    print(\"================= Pembatas ================\")\n",
    "    print(removeTandaBaca(data))\n",
    "    \n",
    "\n",
    "#     cleansingTeks = []\n",
    "#     kalimatAsli = {}\n",
    "    \n",
    "#     for teks in tokenizeKalimat:\n",
    "        \n",
    "    time.sleep(15)"
   ]
  },
  {
   "cell_type": "code",
   "execution_count": null,
   "metadata": {},
   "outputs": [],
   "source": []
  },
  {
   "cell_type": "code",
   "execution_count": null,
   "metadata": {},
   "outputs": [],
   "source": []
  }
 ],
 "metadata": {
  "kernelspec": {
   "display_name": "Python 3",
   "language": "python",
   "name": "python3"
  },
  "language_info": {
   "codemirror_mode": {
    "name": "ipython",
    "version": 3
   },
   "file_extension": ".py",
   "mimetype": "text/x-python",
   "name": "python",
   "nbconvert_exporter": "python",
   "pygments_lexer": "ipython3",
   "version": "3.8.5"
  }
 },
 "nbformat": 4,
 "nbformat_minor": 4
}

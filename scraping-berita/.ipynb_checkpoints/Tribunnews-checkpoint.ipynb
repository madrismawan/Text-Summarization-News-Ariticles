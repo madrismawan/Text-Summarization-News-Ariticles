{
 "cells": [
  {
   "cell_type": "code",
   "execution_count": 1,
   "metadata": {},
   "outputs": [],
   "source": [
    "from builtins import Exception\n",
    "import urllib3\n",
    "from bs4 import BeautifulSoup\n",
    "from requests import get\n",
    "import mysql.connector\n",
    "import re\n",
    "from datetime import date\n",
    "from datetime import datetime"
   ]
  },
  {
   "cell_type": "code",
   "execution_count": null,
   "metadata": {},
   "outputs": [],
   "source": []
  },
  {
   "cell_type": "code",
   "execution_count": null,
   "metadata": {},
   "outputs": [],
   "source": []
  },
  {
   "cell_type": "code",
   "execution_count": 120,
   "metadata": {},
   "outputs": [],
   "source": [
    "class Tribunnews:\n",
    "    #deklarasi variable global\n",
    "    url = \"\"\n",
    "    mydb = \"\"\n",
    "    keyword = \"\"\n",
    "    urlDetailData = \"\"\n",
    "    today = datetime.now()\n",
    "    \n",
    "    #fungsi dari inisialisasi data saat memanggil class pertama kali\n",
    "    def __init__(self, urlBerita, pencarian):\n",
    "        self.url = urlBerita\n",
    "        self.keyword = pencarian\n",
    "        self.mydb = mysql.connector.connect(host=\"localhost\",user=\"root\", password=\"\",database=\"db-berita-mca\")\n",
    "     \n",
    "    #fungsi menyimpan data ke database\n",
    "    def simpanDatabase(self,data):\n",
    "        mycursor = self.mydb.cursor()\n",
    "        sql = \"INSERT INTO tb_berita (media,judul_berita,label,penulis,release_date,url,content) VALUES (%s,%s,%s,%s,%s,%s,%s)\"\n",
    "        mycursor.execute(sql, data)\n",
    "        self.mydb.commit()\n",
    "        return\n",
    "    \n",
    "    #fungsi buat validasi data duplicate di database\n",
    "    def validasiDataDatabase(self,dataBerita):\n",
    "        mycursor = self.mydb.cursor()\n",
    "        sql = \"SELECT * FROM tb_berita WHERE url = %s\"\n",
    "        dataUrl = dataBerita\n",
    "        url = (dataBerita,)\n",
    "        mycursor.execute(sql, url)\n",
    "        myresult = mycursor.fetchall()\n",
    "        return myresult\n",
    "    \n",
    "    def getAllPage(self):\n",
    "        if (self.keyword == \"\"):\n",
    "            urlGet = (self.url+\"/indeks\")\n",
    "            soup = BeautifulSoup(get(urlGet).text, 'lxml')\n",
    "            page = soup.find('div','content')\n",
    "            pagination = page.find('div','paging')\n",
    "            for x in pagination:\n",
    "                lastPage = x\n",
    "            print(lastPage)       \n",
    "    \n",
    "    def getUrlDetail(self,page):\n",
    "        self.urlDetailData = []\n",
    "        for page in range(page): \n",
    "            if(self.keyword == \"\"):\n",
    "                dateNow = self.today.strftime(\"%Y-%m-%d\")\n",
    "                urlGet = (self.url+\"/index-news?date=\"+dateNow+\"&page={}\".format(page+1))\n",
    "                soup = BeautifulSoup(get(urlGet).text, 'lxml')\n",
    "                getContent = soup.find('ul','lsi')\n",
    "                groupContent = getContent.find_all('h3','f16 fbo')\n",
    "                for x in groupContent:\n",
    "                    news_url = x.find('a', href=True).get('href')\n",
    "                    mergeUrl = (news_url+\"?page=all\")\n",
    "                    self.urlDetailData.append(mergeUrl)\n",
    "            else:\n",
    "                dateNow = self.today.strftime(\"%Y-%m-%d\")\n",
    "                urlGet = (self.url+\"/index-news?date=\"+dateNow+\"&page={}\".format(page+1))\n",
    "                soup = BeautifulSoup(get(urlGet).text, 'lxml')\n",
    "                getContent = soup.find('ul','lsi')\n",
    "                groupContent = getContent.find_all('h3','f16 fbo')\n",
    "                for x in groupContent:\n",
    "                    news_url = x.find('a', href=True).get('href')\n",
    "                    mergeUrl = (news_url+\"?page=all\")\n",
    "                    self.urlDetailData.append(mergeUrl)\n",
    "                                   \n",
    "    def scrapingDataTribun(self):\n",
    "        for dataBerita in self.urlDetailData:\n",
    "            myresult = self.validasiDataDatabase(dataBerita)\n",
    "            if(len(myresult)==0):\n",
    "                try:\n",
    "                    media = \"Tribunnews.com\"\n",
    "                    web_data = get(dataBerita)\n",
    "                    soup = BeautifulSoup(web_data.text, 'html.parser')\n",
    "                    page = soup.find('div','content')\n",
    "                    title = page.find('h1','f50 black2 f400 crimson').text\n",
    "                    label = page.find('h2','red f16').text\n",
    "                    getAuthor = page.find('div',{\"id\":\"penulis\"}).text\n",
    "                    author = getAuthor.replace(\"Penulis: \",\"\")\n",
    "                    release_date = page.find('time','grey').text\n",
    "                    groupContent = page.find('div','side-article txt-article multi-fontsize')\n",
    "                    texts = page.find_all('p')\n",
    "                    news_content = ' '.join([text.text for text in texts])\n",
    "                    data = (media,title,label,author,release_date,dataBerita,news_content)\n",
    "                    self.simpanDatabase(data)\n",
    "                except Exception as e:\n",
    "                    continue \n",
    "            else:\n",
    "                continue\n",
    "        \n",
    "        \n",
    "        \n"
   ]
  },
  {
   "cell_type": "code",
   "execution_count": 121,
   "metadata": {},
   "outputs": [
    {
     "name": "stdout",
     "output_type": "stream",
     "text": [
      "TRIBUNNEWS.COM - Bologna harus menelan kekalahan 0-2 atas Juventus dalam pekan 18 Liga Italia di Stadio Renata Dall'Ara, Minggu (19/12/2021) dini hari WIB. Pahlawan kemenangan Juventus pantas disematkan kepada Alvaro Morata yang mencetak satu gol dan asisst. Alvaro Morata menciptakan satu gol ke gawang Bologna pada babak pertama menit 6. Kemudian asisst Morata dibukukan selepas turun menit 69 untuk rekannya Juan Cuadrado. Atas hasil kemenangan ini, Juventus berhak menempati urutan keenam klasemen Liga Italia dengan raihan 31 poin. Sementara Bologna yang menelan kekalahan dihadapan publiknya sendiri tertahan di posisi 10 dengan koleksi 24 angka. Jalannya Pertandingan Juventus yang datang sebagai tamu langsung mengambil serangan sejak laga dimulai. Peluang perdana anak asuh Massimiliano Allegri tercipta dari pergerakan Juan Cuadrado yang diakhiri dengan sebuah umpan through pass. Sayangnya umpan dari Cuadrado masih bisa diantisipasi oleh pemain bertahanan lawan. Laga berusia enam menit, Juventus sukses membuat publik Bologna terhenyak setelah terciptanya gol Alvaro Morata. Penyerang asal Spanyol ini membawa Juventus unggul 0-1 atas Bologna setelah meneruskan umpan terukur Federico Bernadeschi. Ketertinggalan ini membuat Bologna bangkit bermain menyerang. Dua kali serangan Bologna lewat kaki Musa Barrow dan Roberto Soriano masih belum bisa menembus pertahanan Juventus. Menit 14 gantian Juventus mengancam lewat tembakan Adrien Rabiot dari pinggir kotak penalti. Bola hasil tendangan Rabiot masih bisa diblokir sang kiper Bologna Lukasz Skorupski. Berselang dua menit, Morata berhasrat mencatatkan brace lewat usaha tendangannya dari batas area penalti. Sayangnya bola tendangan Morata masih terlalu mudah bagi Skorupski. Bologna baru bisa mengancam gawang Juventus pada menit 23 melalui tembakan Mattias Svanberg yang memanfaatkan bola rebound. Namun peluang emas tersebut gagal membuahkan gol karena bola tembakan Svanberg masih melenceng ke tiang kiri. Kartu kuning pertama laga ini diberikan kepada pemain Juventus Weston McKennie pada menit 29. Tak hanya McKennie di kubu lawan Nicolas Dominguez juga mendapatkan kartu kuning dari wasit. Sisa waktu yang ada di paruh pertama tidak dapat mengubah papan skor yang ada. Skor 0-1 untuk keunggulan Juventus atas tuan rumah Bologna menghiasi selesainya 45 menit pertama. Berikut Susunan Pemain Bologna Łukasz Skorupski (GK); Adama Soumaoro, Gary Medel, Arthur Theate, Lorenzo De Silvestri, Nicolás Domínguez, Mattias Svanberg, Aaron Hickey, (c) Roberto Soriano, Musa Barrow, Marko Arnautović. Juventus Wojciech Szczęsny (GK); Juan Cuadrado, Matthijs de Ligt, (c) Leonardo Bonucci, Luca Pellegrini, Weston McKennie, Arthur, Adrien Rabiot, Moise Kean, Álvaro Morata, Federico Bernardeschi. (Tribunnews.com/Ipunk)\n",
      "TRIBUNNEWS.COM - Hasil babak pertama Barcelona unggul dua gol tanpa balas dari Elche dalam lanjutan 18 Liga Spanyol, Minggu (19/12/2021) dini hari WIB. Berlangsung di Camp Nou, Barcelona membuka keunggulannya lewat gol Ferran Jutgla pada menit 16. Ferran Jutgla menjebol gawang Edgar Badia setelah menerima umpan terukur Ousmane Dembele. Tiga menit kemudian, giliran Gavin menggandakan keunggulan Blaugrana menjadi 2-0. Gavi sepantasnya berterima kasih kepada Clemen Lenglet yang telah berkontribusi atas golnya. Jalannya Pertandingan Barcelona yang mengusung misi kemenangan langsung menampilkan permainan menyerang sejak laga dimulai. Buktinya pada menit kedua, Ferran Jutgla membuat publik Barcelona bersorak atas lesakannya yang masuk ke gawang Elche. Sayangnya gol Jutgla harus dianulir pengadil lapangan akibat terperangkap offside lebih dahulu. Anak asuh Xavi Hernandez tidak mengendorkan serangannya guna memburu gol pembuka. Pada menit kesembilan, Barcelona mendapatkan kesempatan dua kali tendangan sepak pojok. Semuanya dieksekusi Ousmane Dembele dan tidak memberikan ancaman yang berarti. Barulah menit 16, Dembele sukses memberikan umpan sepak pojok yang terukur untuk Jutgla di dalam kotak penalti. Jutgla menjangkau umpan Dembele dengan sebuah sundulan yang masuk ke gawang Edgar Badia. Skor pun berubah menjadi 1-0 untuk keunggulan Barcelona. Meskipun telah leading satu gol, Barcelona tetap memaska tamunya untuk bermain bertahan. Situasi ini pun dimanfaatkan Barcelona untuk menggandakan keunggulannya. Kali ini gantian Gavi yang mencatatkan namanya di papan skor. Gavi memaksa Badia memungut bola untuk kedua kalinya setelah umpan panjang Clement Lenglet diteruskan dengan akselerasi dan sebuah tembakan yang akurat. Barcelona kian menjauh 2-0 dari Elche. Menit 28, Jutgla hampir mencetak brace andai tembakannya dari dalam kotak penalti masuk. Bola tembakan Jutgla nampak masih lemah dan sangat mudah diamankan oleh Badia. Menit 33, Dembele menyianyiakan peluang emas yang memanfaatkan blunder pemain lawan. Dembele mengeksekusi tembakan di dalam kotak penalti dan bola itu hanya melebar tipis dari tiang kanan gawang. Sisa waktu babak pertama tidak bisa merubah kedudukan 2-0 untuk keunggulan Barcelona atas tamunya Elche. Berikut Susunan Pemain Barcelona: 1-Marc-Andre ter Stegen, 4-Ronald Araujo, 5-Sergio Busquets, 7-Ousmane Dembele, 15-Clement Lenglet, 18-Jordi Alba, 21-Frenkie de Jong, 24-Eric Garcia, 29-Ferran Jutgla, 30-Gavi, 33-Abde Ezzalzouli Pelatih: Xavi Hernandez Elche: 13-Edgar Badia, 22-Johan Mojica, 4-Diego Gonzalez, 3-Enzo Roco, 14-Helibelton Palacios, 16-Fidel, 21-Omar Mascarell, 23-Ivan Marcone, 17-Josan Ferrandez, 9-Lucas Boye, 12-Lucas Perez Pelatih: Francisco Escriba (Tribunnews.com/Ipunk)\n",
      "TRIBUNNEWS.COM - Hasil babak pertama Leeds United tertinggal tiga gol tanpa balas dari sang tamu Arsenal dalam lanjutan pekan 18 Liga Inggris, Minggu (19/12/2021) dini hari WIB. Berlangsung di Ellan Road, anak asuh Mikel Arteta mulai menciptakan pesta gol pada menit 16. Gabriel Martinelli datang sebagai pembuka keunggulan Arsenal setelah lesakan bolanya tidak bisa diantisipasi Illan Meslier. Penyerang berusia 20 tahun itu berhasil menciptakan brace golnya pada menit 28. Gol kedua Martinelli ke gawang Meslier berkat andil umpan Granit Xhaka. Berikutnya penutup pesta gol Arsenal di babak pertama dibuat oleh Bukayo Saka pada menit 42. Brace Martinelli dan satu gol Saka menutup 45 menit pertama dengan kedudukan 0-3 untuk keunggulan Arsenal atas Leeds United. Jalannya Pertandingan Sejak laga dimulai, Arsenal langsung mengambil inisiatif menyerang. Buktinya pada menit ketiga, Bukayo Saka mengancam gawang Leeds dari dalam kotak penalti. Sayangnya peluang tembakan Saka masih melebar tipis ke kanan gawang. Arsenal kembali melepaskan tembakan ke gawang Illan Meslier lewat Thomas Partey yang berada di dalam batas kotak penalti. Bola hasil tembakan Partey mengarah ke kanan bawah dan berhasil ditepis Meslier yang berbuah sepak pojok untuk Arsenal. Namun kesempatan sepak pojok ini tidak bisa dimaksimal untuk merubah skor yang masih kaca mata. Serangan Arsenal akhirnya berhasil berbuah gol pada menit 16 lewat tembakan Gabriel Martinelli. Skor pun berubah menjadi 0-1 untuk keunggulan Arsenal. The Gooners yang leading satu gol nampak tidak mengendurkan serangannya. Permainan menyerang Arsenal memaska Leeds kerap bertahan dan hanya mengandalkan counter attack. Menit 24 peluang emas Partey yang menyambut umpan Martin Odegaard masih bisa digagalkan Meslier. Empat menit kemudian, Arsenal menggandakan keunggulan menjadi 0-2. Martinelli berhasil mencatatkan bracenya setelah meneruskan umpan Granit Xhaka. Tak mau kalah dengan Martinelli, penyerang senior Arsenal Alexandre Lacazette mencoba peruntungannya di dalam kotak penalti. Lacazette melepaskan sebuah tembakan terukur mengarah ke kiri gawang. Bola hasil tembakan Lacazette pun masih dimentahkan oleh Meslier. Penghujung babak pertama, Bukayo Saka sukses menjauhkan skor menjadi 0-3. Gol Saka sekaligus mengakhiri 45 menit pertama untuk membawa Arsenal unggul tiga gol tanpa balas dari Leeds United. (Tribunnews.com/Ipunk)\n",
      "TRIBUNNEWS.COM - Hasil babak pertama Bologna tertinggal satu gol tanpa balas dari sang tamu Juventus dalam lanjutan pekan 18 Liga Italia, Minggu (19/12/2021) dini hari WIB. Berlangsung di Stadio Renato Dall'Ara, Juventus langsung membuka keunggulannya ketika laga berusia enam menit. Alvaro Morata menjadi pemain pertama Juventus yang sukses membobol gawang Lukasz Skorupski. Gol Morata berkat asisst Federico Bernadeschi sekaligus menjadi satu-satunya di 45 menit pertama. Jalannya Pertandingan Juventus yang datang sebagai tamu langsung mengambil serangan sejak laga dimulai. Peluang perdana anak asuh Massimiliano Allegri tercipta dari pergerakan Juan Cuadrado yang diakhiri dengan sebuah umpan through pass. Sayangnya umpan dari Cuadrado masih bisa diantisipasi oleh pemain bertahanan lawan. Laga berusia enam menit, Juventus sukses membuat publik Bologna terhenyak setelah terciptanya gol Alvaro Morata. Penyerang asal Spanyol ini membawa Juventus unggul 0-1 atas Bologna setelah meneruskan umpan terukur Federico Bernadeschi. Ketertinggalan ini membuat Bologna bangkit bermain menyerang. Dua kali serangan Bologna lewat kaki Musa Barrow dan Roberto Soriano masih belum bisa menembus pertahanan Juventus. Menit 14 gantian Juventus mengancam lewat tembakan Adrien Rabiot dari pinggir kotak penalti. Bola hasil tendangan Rabiot masih bisa diblokir sang kiper Bologna Lukasz Skorupski. Berselang dua menit, Morata berhasrat mencatatkan brace lewat usaha tendangannya dari batas area penalti. Sayangnya bola tendangan Morata masih terlalu mudah bagi Skorupski. Bologna baru bisa mengancam gawang Juventus pada menit 23 melalui tembakan Mattias Svanberg yang memanfaatkan bola rebound. Namun peluang emas tersebut gagal membuahkan gol karena bola tembakan Svanberg masih melenceng ke tiang kiri. Kartu kuning pertama laga ini diberikan kepada pemain Juventus Weston McKennie pada menit 29. Tak hanya McKennie di kubu lawan Nicolas Dominguez juga mendapatkan kartu kuning dari wasit. Sisa waktu yang ada di paruh pertama tidak dapat mengubah papan skor yang ada. Skor 0-1 untuk keunggulan Juventus atas tuan rumah Bologna menghiasi selesainya 45 menit pertama. Berikut Susunan Pemain Bologna Łukasz Skorupski (GK); Adama Soumaoro, Gary Medel, Arthur Theate, Lorenzo De Silvestri, Nicolás Domínguez, Mattias Svanberg, Aaron Hickey, (c) Roberto Soriano, Musa Barrow, Marko Arnautović. Juventus Wojciech Szczęsny (GK); Juan Cuadrado, Matthijs de Ligt, (c) Leonardo Bonucci, Luca Pellegrini, Weston McKennie, Arthur, Adrien Rabiot, Moise Kean, Álvaro Morata, Federico Bernardeschi. (Tribunnews.com/Ipunk)\n"
     ]
    },
    {
     "name": "stdout",
     "output_type": "stream",
     "text": [
      "Laporan Wartawan Tribunnews.com, Abdul Majid TRIBUNNEWS.COM, JAKARTA – Pemain kawakan Bhayangkara FC, Indra Kahfi Ardhiyasa tak terlalu memikirkan predikat juara paruh musim yang disematkan kepada Bhayangkara FC di ajang Liga 1 2021/2022 ini. Menurut Indra Kahfi, predikat tersebut tidak penting mengingat persaingan masih sangat ketat untuk merengkuh gelar juara sesungguhnya di akhir musim ini. Untuk itu, skuat berjuluk The Guardian tersebut  kini masih sibuk menjalani latihan guna menjaga kondisi tubuh para pemain di jeda Liga 1. “Ya menurut saya juara paruh musim ini kami belum dapat apa-apa ya. Itu Cuma predikat. Jadi kami tidak boleh jumawa karena kita tahu banyak klub-klub yang juara paruh musim tapi di akhir musim malah tidak bertahan,” kata Indra Kahfi saat dihubungi Tribunnews, Sabtu (18/12/2021). “Makanya kami sekarang masih latihan lagi setelah sebelumnya dapat libur. Intinya kami jangan santai-santai, kami belum dapat apa-apa jadi kami harus kerja keras baik saat latihan maupun bertanding,” sambungnya. Indra Kahfi dkk masih berlatih hingga sebelum natal. Kemudian mereka akan kembali dapat jatah libur sebelum akhirnya di awal Januari  kembali menjalani latihan bersama lagi. Seperti diketahui, The Guardian sukses menutup seri ketiga atau setengah musim Liga 1 ini dengan bertengger di puncak klasemen sementara. The Guardian mencatatkan 37 poin dari 17 laga yang telah mereka lakoni. Sementara itu di posisi kedua Persib Bandung dengan 34 poin dan Arema FC yang masih menyisakan satu laga dengan 33 poin. Pertandingan seri keempat dan kelima Liga 1 2021/2022 rencananya akan dimulai pada 6 Januari di Pulau Bali.\n",
      "Laporan Wartawan Tribunnews.com, Abdul Majid TRIBUNNEWS.COM, JAKARTA – Pelatih Timnas Indonesia, Shin Tae-yong mengaku baru mengetahui soal persaingan ketat yang terjadi antara Indonesia dan Malaysia. Untuk itu agar mendapatkan hasil positif dan lolos ke semifinal, Shin Tae-yong pun meminta kepada para pemain agar tetap tampil rileks. Tak hanya itu, dalam pertandingan berjuluk derbi Melayu ini, Shin Tae-yong berharap para pemainnya bisa memperkuat mental bertanding. “Sebenarnya sama seperti pertandingan biasa, jadi saya minta kepada pemain agar bisa persiapkan dengan baik dan rileks saja,” kata Shin Tae-yong dalam sesi konferensi pers sebelum laga kontra Malaysia, Sabtu (18/12/2012). “Tapi setelah saya di Singapura saya tahu Malaysia merupakan salah satu tim yang bersaing ketat dengan Indonesia. Jadi saya minta kepada para pemain perkuat mental, dengan begitu saya yakin kami tidak akan kualitas dari Malaysia,” sambungnya. Lebih lanjut dalam kesempatan itu Shin Tae-yong turut membeberkan kondisi para pemainnya yang dalam keadaan baik. Hana ada beberapa pemain yang cedera tapi tidak parah dan mereka masih bisa diturunkan saat menghadapi Malaysia. “Kalau kondisi para pemain baik walaupun ada cedera ringan tapi bukan cedera yang pengaruhi pertandingan berikutnya, tidak perlu kuatir intinya kalau kami persiapkan mental dengan baik pastikan akan dapat hasil yang baik,” ujarnya. Seperti diketahui, Indonesia yang kini berada di puncak klasemen grup B dengan torehan tujuh poin dari tiga laga hanya butuh hasil seri saja guna bisa melaju ke babak semifinal Piala AFF 2020. Sementara itu, Malaysia harus meraih kemenangan guna melaju ke babak semifinal, pasalnya pada laga ketiga mereka dikalahkan 3-0 oleh Vietnam. Pertandingan Indonesia vs Malaysia di fase grup B Piala AFF 2020 akan tersaji di Stadion Nasional Singapura, Minggu (19/12/2021) pukul 19.30 WIB.\n",
      "TRIBUNNEWS.COM - Sedang tayang live streaming Bologna vs Juventus dalam lanjutan pekan 18 Liga Italia, Minggu (19/12/2021) malam WIB. Pertandingan antara Bologna vs Juventus berlangsung di Stadio Renato Dall'Ara, mulai pukul 00.00 WIB. Keseruan duel Bologna vs Juventus dapat disaksikan secara Live beIN Sports 2 dan Vidio.com. Baca juga:  Hasil Atalanta vs AS Roma Liga Italia: Brace Tammy Abraham Bawa Giallorossi Libas La Dea 1-4 Berikut Susunan Pemain Bologna Łukasz Skorupski (GK); Adama Soumaoro, Gary Medel, Arthur Theate, Lorenzo De Silvestri, Nicolás Domínguez, Mattias Svanberg, Aaron Hickey, (c) Roberto Soriano, Musa Barrow, Marko Arnautović. Juventus Wojciech Szczęsny (GK); Juan Cuadrado, Matthijs de Ligt, (c) Leonardo Bonucci, Luca Pellegrini, Weston McKennie, Arthur, Adrien Rabiot, Moise Kean, Álvaro Morata, Federico Bernardeschi. Live Streaming Bologna vs Juventus Akses di Sini <<<< Akses di Sini <<<< Jelang laga kontra Bologna, badai masalah dan inkonsistensi menimpa Juventus yang masih terseok-seok sejak awal musim. Imbasnya, posisi Juventus terbilang mengalami fenomena yang luar biasa. Si Nyonya Tua berada di luar lima besar penghuni klasemen Liga Italia. Saat ini skuat besutan Massimiliano Allegri ini berada di tangga ketujuh dengan koleksi 28 poin. Federico Chiesa dkk berjarak dua poin saja dari Fiorentina yang menghuni urutan kelima. Artinya, Bianconeri memiliki kesempatan untuk kembali ke \"habitatnya\" sebagai penghuni papan atas Serie A. Meski demikian, kemenangan tak lantas menjadi jaminan bagi Bianconeri untuk menjamin posisinya masuk lima besar. Klub sekota Torino ini wajib bergantung hasil minor yang dituai AS Roma dan Fiorentina yang notabene-nya posisinya di atas Juventus. Pasukan Massimiliano Allegri teranyar ditahan tim promosi Venezia.  Kendati demikian, Bologna asuhan Sinisa Mihajlovic juga dalam performa buruk usai menderita dua kekalahan beruntun hingga terlempar ke peringkat 10. Laga ini juga menjadi sebuah tuntutan bagi Bianconeri tak sekedar menang \"di atas kertas saja\". Namun dibuktikan lewat raihan tiga poin di akhir pertandingan. Dominasi Juventus dalam beberapa musim terakhir membuat Bianconeri selalu dipandang digdaya. Bahkan musim ini pun status tersebut masih melekat, meski pada kenyataannya sejumlah tim medioker mampu menahan atau bahkan mengalahkan Juventus. Massimiliano Allegri mengamini bahwa mengalahkan Bologna bukan perkara yang mudah. Terlebih melihat bagaimana pamor kegemilangan Juventus yang terus meredup. \"Bermain di Bologna tidak mudah dan kami harus mempersiapkan diri untuk pertandingan yang sulit. Bologna telah mencetak banyak gol di babak kedua, sebuah tanda bahwa mereka dalam kondisi fisik dan mental yang baik,\" terang Allegri, dikutip dari laman resmi Juventus. Sejumlah pemain nampaknya akan absen, khususnya penghuni reguler posisi penyerangan. Nama Paulo Dybala dan Federico Chiesa diprediksi belum bisa ambil bagian dalam laga ini. \"Kami telah berlatih dengan baik minggu ini, bagaimanapun, Dybala tidak akan tersedia untuk pertandingan besok. Kami tidak dapat mengambil risiko dengan Dybala.\" \"Sama halnya dengan Chiesa, pemulihannya berjalan lancar, namun dia belum bisa bermain,\" terang eks pelatih AC Milan ini. Melihat absennya tukang gedor andalan Juventus, Allegri berkesempatan untuk menurunkan Morata, Kaio Jorge atau Moise Kean sejak menit awal laga. (Tribunnews.com/Ipunk, Giri)\n",
      "Laporan Wartawan Tribunnews.com, Abdul Majid TRIBUNNEWS.COM, JAKARTA – Timnas Indonesia akan melakoni laga pamungkas pada fase grup B Piala AFF 2020 dengan menghadapi Malaysia di Stadion Nasional Singapura, Minggu (19/12/2021) pukul 19.30 WIB. Pertandingan ini akan jadi penentuan kedua klub guna bisa melaju ke babak semifinal Piala AFF 2020. Pelatih kepala Timnas Indonesia, Shin Tae-yong mengatakan sebelum pertandingan, dirinya sudah menganalisis permainan Malaysia baik kelemahan maupun keunggulannya. Dari situ ia memastikan gaya permainan Indonesia akan berbeda dari laga sebelumnya menghadapi Vietnam yang saat itu memang benar-benar Indonesia harus melakukan bertahan secara penuh. “Saya sebagai pelatih memang bertanggung jawab untuk memimpin tim ini dan juga punya tugas juga bagaimana menghadapi lawan dengan menganalisa kelemahan dan keunggulan tim lawan seperti apa,” kata Shin Tae-yong dalam sesi konferensi pers, Sabtu (18/12/2021). “Memang Vietnam tim terbaik dan terkuat di AFF ini oleh karena itu kami tidak fokus ke penguasaan bola,” sambungnya “Kami tahu seri saja kami bisa lolos ke semifinal tapi pastinya Malaysia punya kelebihan dan kelemahan tapi saya sudah analisa dari strategi lawan seperti apa. Saya akan persiapkan tim dan bawa sistem yang sesuai dengan lawan dari hasil analisa saya,” jelas Shin Tae-yong. Seperti diketahui, Malaysia telah mengemas enam poin dari tiga laga yang mereka lakoni. Kemenangan mereka didapatkan saat menghadapi Kamboja dan Laos. Sementara di laga ketiga mereka takluk dari Vietnam dengan skor 3-0. Untuk itu, tim berjuluk Harimau Malaya itu pun wajib meraih kemenangan saat bertemu Indonesia untuk bisa lolos. Sementara itu, Indonesia yang kini berada di puncak klasemen dengan mengoleksi tujuh poin hanya butuh hasil imbang saja guna melaju ke babak semifinal Piala AFF 2020.\n"
     ]
    },
    {
     "name": "stdout",
     "output_type": "stream",
     "text": [
      "TRIBUNNEWS.COM - Atalanta harus mengakui keunggulan tamuny AS Roma dengan skor mencolok 1-4 dalam lanjutan pekan 18 Liga Italia di Stadio Gewiss, Sabtu (18/12/2021) malam WIB. Tim tamu AS Roma berhasil membuka keunggulannya pada menit pertama melalui lesakan Tammy Abraham. Tak berselang lama, pasukan Jose Mourinho sanggup menggandakan keunggulannya pada menit 27. Kali ini lewat Nicolo Zaniolo yang sukses meneruskan umpan terukur Jordan Vertout. Baca juga:  Nahasnya Inzaghi, Inter Milan Ingin Hindari Liverpool, Malah Jadi Lawan Mereka di Liga Champions Baca juga:  Kolektivitas Inter Milan, Ramuan Simone Inzaghi, Peran Barella & Calhanoglu, Ketajaman Lini Depan Tim besutan Gian Pierro Gasperini memperkecil kedudukan pada penghujung paruh pertama. Luis Muriel menjadi aktor La Dea membobol gawang AS Roma yang dikawal Rui Patricio. Selepas turun minum, Duvan Zapata hampir saja menyamakan kedudukan lewat golnya menit 68. Namun pengadil lapangan menganulir gol Zapata karena terperangkap offside lebih dahulu. Petaka justru datang untuk La Dea yang harus kebobolan untuk ketiga kalinya. Chris Smalling yang melakukan overlap melepaskan sebuah tembakan tepat sasaran pada menit 72. Belum puas dengan keunggulannya, 10 menit berselang Tammy Abraham mencetak brace nya pada laga ini. Gol eks striker Chelsea itu sekaligus menutup laga dengan skor 1-4 untuk kemenangan Giallorossi. Atas hasil ini, AS Roma mengamankan posisi kelima klasemen Liga Italia dengan raihan 31 poin. Adapun La Dea tertahan di urutan ketiga yang masih unggul 6 angka dari anak asuh Mourinho. Kemenangan AS Roma juga diikuti dua tim lainnya yang telah bertanding lebih dahulu. Giornata pekan 18 Liga Italia dibuka dengan kemenangan Lazio dari tamunya Genoa. Tim besutan Maurizio Sarri berhasil meraih poin penuh setelah memaksa Genoa menyerah 3-1 di Stadio Olimpico. Lazio membuka kemenangannya lewat gol Pedro pada menit 36 berkat asisst Felipe Anderson. Baca juga:  Hasil Salernitana vs Inter: Sanchez Pecah Telur, Calhanoglu Cetak 2 Asisst, Nerazzurri Menang 0-5 Baca juga:  Sejarah Baru Inter Milan usai Gilas Salernitana di Liga Italia: Servis Calhanoglu Makin Yahud Selepas turun minum, Lazio menggandakan keunggulannya dari gol sundulan Francesco Acerbi yang meneruskan umpan sepak pojok Luis Alberto. Pada menit 82, Alberto mencatatkan asisst keduanya untuk terciptanya gol Mattia Zaccagni. Sayangnya Lazio gagal clean sheet karena kebobolan di penghujung laga menit 86 lewat lesakan Filippo Melegoni. Dengan hasil ini, Lazio naik satu tingkat dari posisi sembilan ke delapan dengan 28 poin. Sementara itu, Genoa masih terjerembab di urutan ke-19 dengan 10 poin. Beralih ke tempat lain, sang pemuncak klasemen Liga Italia Inter Milan ketika bertandang ke markas Salernitana. Pasukan Simone Inzaghi membantai Salernitana dengan skor lima gol tanpa balas di publiknya sendiri Stadio Arechi. Pesta lima gol Inter Milan ke gawang Salernitana masing-masing dibuat oleh Ivan Perisic (11'), Denzel Dumfries (33'), Alexis Sanchez (52'), Lautaro Martinez (77) dan Roberto Gagliardini (87'). Atas hasil ini, Inter Milan semakin nyaman memuncaki klasemen Liga Italia dengan 43 poin. Adapun Salernitana semakin terbenam di juru kunci dengan raihan 8 angka. Hasil Liga Italia, Sabtu (18/12/2021) Lazio 3-1 Genoa Salernitana 0-5 Inter Milan Atalanta 1-4 AS Roma Klasemen Sementara Liga Italia\n"
     ]
    }
   ],
   "source": [
    "url = 'https://www.tribunnews.com'\n",
    "pencarian = ''\n",
    "testing = Tribunnews(url, pencarian)\n",
    "testing.getUrlDetail(1)\n",
    "testing.scrapingDataTribun()"
   ]
  },
  {
   "cell_type": "code",
   "execution_count": null,
   "metadata": {},
   "outputs": [],
   "source": []
  },
  {
   "cell_type": "code",
   "execution_count": null,
   "metadata": {},
   "outputs": [],
   "source": []
  }
 ],
 "metadata": {
  "kernelspec": {
   "display_name": "Python 3",
   "language": "python",
   "name": "python3"
  },
  "language_info": {
   "codemirror_mode": {
    "name": "ipython",
    "version": 3
   },
   "file_extension": ".py",
   "mimetype": "text/x-python",
   "name": "python",
   "nbconvert_exporter": "python",
   "pygments_lexer": "ipython3",
   "version": "3.8.5"
  }
 },
 "nbformat": 4,
 "nbformat_minor": 4
}

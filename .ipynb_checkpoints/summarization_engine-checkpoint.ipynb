{
 "cells": [
  {
   "cell_type": "code",
   "execution_count": 1,
   "metadata": {},
   "outputs": [
    {
     "name": "stdout",
     "output_type": "stream",
     "text": [
      "importing Jupyter notebook from MMR.ipynb\n"
     ]
    }
   ],
   "source": [
    "import mysql.connector\n",
    "from nltk.tokenize import sent_tokenize\n",
    "import import_ipynb\n",
    "import re# Membuat stemmer pakai sastrawi\n",
    "import time\n",
    "from Sastrawi.Stemmer.StemmerFactory import StemmerFactory\n",
    "import pandas as pd\n",
    "from MMR import *"
   ]
  },
  {
   "cell_type": "markdown",
   "metadata": {},
   "source": [
    "# Deklarasi Connection Database"
   ]
  },
  {
   "cell_type": "code",
   "execution_count": 2,
   "metadata": {},
   "outputs": [],
   "source": [
    "mydb = mysql.connector.connect(\n",
    "    host=\"localhost\",\n",
    "    user=\"root\",\n",
    "    password=\"\",\n",
    "    database=\"db-berita-mca\"  \n",
    ") "
   ]
  },
  {
   "cell_type": "code",
   "execution_count": 3,
   "metadata": {},
   "outputs": [],
   "source": [
    "# Membuat stemmer pakai sastrawi\n",
    "\n",
    "factory = StemmerFactory()\n",
    "stemmer = factory.create_stemmer()"
   ]
  },
  {
   "cell_type": "code",
   "execution_count": 4,
   "metadata": {},
   "outputs": [
    {
     "name": "stdout",
     "output_type": "stream",
     "text": [
      "[('Jakarta, CNBC Indonesia - Satgas Penanganan Covid-19 melaporkan ada tambahan 339 kasus Covid-19 dalam kurun waktu Sabtu (13/11/2021) pukul 12.00 WIB hingga Minggu (14/11/2021) pukul 12.00 WIB.Tambahan itu lebih rendah dibandingkan dengan kemarin yang tercatat 359. Dengan tambahan 339 kasus hari ini, total kasus Covid-19 di RI mencapai 4.250.855.DKI Jakarta mencatatkan kasus harian Covid-19 paling banyak hari ini, yaitu 92. Disusul Jawa Tengah (30) dan Jawa Timur (28).Inilah 5 provinsi teratas dari sisi tambahan kasus baru Covid-19: DKI Jakarta: 92 Jawa Tengah: 30 Jawa Timur: 28 Kalimantan Barat: 26 Jawa Barat: 25   Sementara itu pasien sembuh dari Covid-19 bertambah 503 menjadi 4.098.178. Sedangkan pasien yang meninggal akibat Covid-19 bertambah 15 menjadi 143.659.Secara kumulatif, total kasus aktif saat ini 9.018, turun 179 pada hari ini.',), ('Jakarta, CNBC Indonesia - Satgas Penanganan Covid-19 melaporkan ada tambahan 339 kasus Covid-19 dalam kurun waktu Sabtu (13/11/2021) pukul 12.00 WIB hingga Minggu (14/11/2021) pukul 12.00 WIB.Tambahan itu lebih rendah dibandingkan dengan kemarin yang tercatat 359. Dengan tambahan 339 kasus hari ini, total kasus Covid-19 di RI mencapai 4.250.855.Sementara itu pasien sembuh dari Covid-19 bertambah 503 menjadi 4.098.178. Sedangkan pasien yang meninggal akibat Covid-19 bertambah 15 menjadi 143.659.\\n\\n\\n\\n\\n\\nSecara kumulatif, total kasus aktif saat ini 9.018, turun 179 pada hari ini.',)]\n"
     ]
    },
    {
     "data": {
      "text/html": [
       "<div>\n",
       "<style scoped>\n",
       "    .dataframe tbody tr th:only-of-type {\n",
       "        vertical-align: middle;\n",
       "    }\n",
       "\n",
       "    .dataframe tbody tr th {\n",
       "        vertical-align: top;\n",
       "    }\n",
       "\n",
       "    .dataframe thead th {\n",
       "        text-align: right;\n",
       "    }\n",
       "</style>\n",
       "<table border=\"1\" class=\"dataframe\">\n",
       "  <thead>\n",
       "    <tr style=\"text-align: right;\">\n",
       "      <th></th>\n",
       "      <th>article</th>\n",
       "    </tr>\n",
       "  </thead>\n",
       "  <tbody>\n",
       "    <tr>\n",
       "      <th>0</th>\n",
       "      <td>Jakarta, CNBC Indonesia - Satgas Penanganan Co...</td>\n",
       "    </tr>\n",
       "    <tr>\n",
       "      <th>1</th>\n",
       "      <td>Jakarta, CNBC Indonesia - Satgas Penanganan Co...</td>\n",
       "    </tr>\n",
       "  </tbody>\n",
       "</table>\n",
       "</div>"
      ],
      "text/plain": [
       "                                             article\n",
       "0  Jakarta, CNBC Indonesia - Satgas Penanganan Co...\n",
       "1  Jakarta, CNBC Indonesia - Satgas Penanganan Co..."
      ]
     },
     "execution_count": 4,
     "metadata": {},
     "output_type": "execute_result"
    }
   ],
   "source": [
    "mycursor = mydb.cursor()\n",
    "\n",
    "mycursor.execute(\"SELECT content FROM tb_berita\")\n",
    "\n",
    "myresult = mycursor.fetchall()\n",
    "print(myresult)\n",
    "\n",
    "df = pd.DataFrame(myresult,columns=['article'])\n",
    "df"
   ]
  },
  {
   "cell_type": "code",
   "execution_count": 5,
   "metadata": {},
   "outputs": [],
   "source": [
    "# Fungsi proses stemming kata\n",
    "def cleanData(sentence):\n",
    "    #sentence = re.sub('[^A-Za-z0-9 ]+', '', sentence)\n",
    "    #sentence filter(None, re.split(\"[.!?\", setence))\n",
    "    ret = []\n",
    "    sentence = stemmer.stem(sentence)\n",
    "    for word in sentence.split():\n",
    "        if not word in stopwords:\n",
    "            ret.append(word)\n",
    "    return \" \".join(ret)"
   ]
  },
  {
   "cell_type": "code",
   "execution_count": 6,
   "metadata": {},
   "outputs": [],
   "source": [
    "# Load Stopwords dengan mengambil dari link url repo github\n",
    "import requests\n",
    "def load_stopWords():\n",
    "    url = \"https://raw.githubusercontent.com/Wayan123/Sentiment-Analysis/main/stopwordlist.txt\"\n",
    "    ina_stopword = requests.get(url).content\n",
    "    return ina_stopword.split()\n",
    "\n",
    "stopwords = load_stopWords()"
   ]
  },
  {
   "cell_type": "code",
   "execution_count": 21,
   "metadata": {},
   "outputs": [
    {
     "name": "stdout",
     "output_type": "stream",
     "text": [
      "['Jakarta, CNBC Indonesia - Satgas Penanganan Covid-19 melaporkan ada tambahan 339 kasus Covid-19 dalam kurun waktu Sabtu (13/11/2021) pukul 12.00 WIB hingga Minggu (14/11/2021) pukul 12.00 WIB.Tambahan itu lebih rendah dibandingkan dengan kemarin yang tercatat 359.', 'Dengan tambahan 339 kasus hari ini, total kasus Covid-19 di RI mencapai 4.250.855.Sementara itu pasien sembuh dari Covid-19 bertambah 503 menjadi 4.098.178.', 'Sedangkan pasien yang meninggal akibat Covid-19 bertambah 15 menjadi 143.659.', 'Secara kumulatif, total kasus aktif saat ini 9.018, turun 179 pada hari ini.']\n"
     ]
    }
   ],
   "source": [
    "print(teksPerkata)"
   ]
  },
  {
   "cell_type": "code",
   "execution_count": 30,
   "metadata": {
    "scrolled": false
   },
   "outputs": [
    {
     "name": "stdout",
     "output_type": "stream",
     "text": [
      "0\n",
      "4\n",
      "1\n",
      "4\n"
     ]
    }
   ],
   "source": [
    "from nltk.tokenize import sent_tokenize\n",
    "sentences = []\n",
    "for iteration, s in enumerate(df['article']):\n",
    "    teksKalimat = sent_tokenize(s)\n",
    "\n",
    "\n",
    "    \n",
    "\n",
    "#     sentences1 = []\n",
    "#     clean = []\n",
    "#     originalSentenceOf = {}\n",
    "\n",
    "#     for x in teksPerkata:\n",
    "# #         time.sleep(2)\n",
    "# #         print(x)\n",
    "#         cl = cleanData(x)\n",
    "#         time.sleep(2)\n",
    "#         print(cl)\n",
    "#         sentences1.append(x)\n",
    "#         clean.append(cl)\n",
    "#         originalSentenceOf[cl] = x\n",
    "#     setClean = set(clean)\n",
    "    \n",
    "#     print(setClean)\n",
    "    \n",
    "#     iteration = MMR()\n",
    "#     score = iteration.similarityScore(clean)\n",
    "# #     print(score)\n",
    "#     summarySet = iteration.calculateMMR(score,sentences1)\n",
    "#     print ('\\nSummary (hasil teks yang diringkas):\\n')\n",
    "#     for sentence in summarySet:\n",
    "#         print (originalSentenceOf [sentence].lstrip(' '))\n",
    "    "
   ]
  },
  {
   "cell_type": "code",
   "execution_count": 9,
   "metadata": {},
   "outputs": [],
   "source": [
    "sentences1 = []\n",
    "clean = []\n",
    "originalSentenceOf = {}\n",
    "\n",
    "for x in sentences:\n",
    "#     print(x)\n",
    "    cl = cleanData(x)\n",
    "    print(cl)\n",
    "    sentences1.append(x)\n",
    "    clean.append(cl)\n",
    "    originalSentenceOf[cl] = x\n",
    "setClean = set(clean)"
   ]
  },
  {
   "cell_type": "code",
   "execution_count": 10,
   "metadata": {
    "scrolled": true
   },
   "outputs": [
    {
     "name": "stdout",
     "output_type": "stream",
     "text": [
      "set()\n"
     ]
    }
   ],
   "source": [
    "print(setClean)"
   ]
  },
  {
   "cell_type": "code",
   "execution_count": null,
   "metadata": {},
   "outputs": [],
   "source": []
  },
  {
   "cell_type": "code",
   "execution_count": null,
   "metadata": {},
   "outputs": [],
   "source": []
  },
  {
   "cell_type": "code",
   "execution_count": null,
   "metadata": {},
   "outputs": [],
   "source": []
  },
  {
   "cell_type": "code",
   "execution_count": null,
   "metadata": {},
   "outputs": [],
   "source": []
  },
  {
   "cell_type": "code",
   "execution_count": null,
   "metadata": {},
   "outputs": [],
   "source": []
  },
  {
   "cell_type": "code",
   "execution_count": 11,
   "metadata": {},
   "outputs": [],
   "source": [
    "p = MMR()"
   ]
  },
  {
   "cell_type": "code",
   "execution_count": 12,
   "metadata": {},
   "outputs": [
    {
     "name": "stdout",
     "output_type": "stream",
     "text": [
      "\n",
      "Summary (hasil teks yang diringkas):\n",
      "\n"
     ]
    }
   ],
   "source": [
    "score = p.similarityScore(clean)\n",
    "summarySet = p.calculateMMR(score,sentences)\n",
    "print ('\\nSummary (hasil teks yang diringkas):\\n')\n",
    "for sentence in summarySet:\n",
    "\tprint (originalSentenceOf [sentence].lstrip(' '))"
   ]
  }
 ],
 "metadata": {
  "kernelspec": {
   "display_name": "Python 3",
   "language": "python",
   "name": "python3"
  },
  "language_info": {
   "codemirror_mode": {
    "name": "ipython",
    "version": 3
   },
   "file_extension": ".py",
   "mimetype": "text/x-python",
   "name": "python",
   "nbconvert_exporter": "python",
   "pygments_lexer": "ipython3",
   "version": "3.8.5"
  }
 },
 "nbformat": 4,
 "nbformat_minor": 4
}

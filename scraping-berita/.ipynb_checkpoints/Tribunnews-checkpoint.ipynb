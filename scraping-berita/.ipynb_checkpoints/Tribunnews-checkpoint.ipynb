{
 "cells": [
  {
   "cell_type": "code",
   "execution_count": 2,
   "metadata": {},
   "outputs": [],
   "source": [
    "from builtins import Exception\n",
    "import urllib3\n",
    "from bs4 import BeautifulSoup\n",
    "from requests import get\n",
    "import mysql.connector\n",
    "import re\n",
    "from datetime import date\n",
    "from datetime import datetime"
   ]
  },
  {
   "cell_type": "markdown",
   "metadata": {},
   "source": [
    "# Class Tribunnews Scraping"
   ]
  },
  {
   "cell_type": "markdown",
   "metadata": {},
   "source": [
    "class dibawah merupakan proses pengambilan data dari website berita Tribunnews.com yang dimana pemanggilan semua fungsi dibawah tersebut nantinya akan dipanggil pada fungsi [scrapingDataTribunnews]"
   ]
  },
  {
   "cell_type": "code",
   "execution_count": 10,
   "metadata": {},
   "outputs": [],
   "source": [
    "class Tribunnews:\n",
    "    #deklarasi variable global\n",
    "    url = \"\"\n",
    "    mydb = \"\"\n",
    "    keyword = \"\"\n",
    "    urlDetailData = \"\"\n",
    "    today = datetime.now()\n",
    "    \n",
    "    #fungsi dari inisialisasi data saat memanggil class pertama kali\n",
    "    def __init__(self, urlBerita, pencarian):\n",
    "        self.url = urlBerita\n",
    "        self.keyword = pencarian\n",
    "        self.mydb = mysql.connector.connect(host=\"localhost\",user=\"root\", password=\"\",database=\"db-berita-mca\")\n",
    "     \n",
    "    #fungsi menyimpan data ke database\n",
    "    def simpanDatabase(self,data):\n",
    "        mycursor = self.mydb.cursor()\n",
    "        sql = \"INSERT INTO tb_berita (media,judul_berita,label,penulis,release_date,url,content) VALUES (%s,%s,%s,%s,%s,%s,%s)\"\n",
    "        mycursor.execute(sql, data)\n",
    "        self.mydb.commit()\n",
    "        return\n",
    "    \n",
    "    #fungsi buat validasi data duplicate di database\n",
    "    def validasiDataDatabase(self,dataBerita):\n",
    "        mycursor = self.mydb.cursor()\n",
    "        sql = \"SELECT * FROM tb_berita WHERE url = %s\"\n",
    "        dataUrl = dataBerita\n",
    "        url = (dataBerita,)\n",
    "        mycursor.execute(sql, url)\n",
    "        myresult = mycursor.fetchall()\n",
    "        return myresult\n",
    "    \n",
    "    def getAllPage(self):\n",
    "        if (self.keyword == \"\"):\n",
    "            urlGet = (self.url+\"/indeks\")\n",
    "            soup = BeautifulSoup(get(urlGet).text, 'lxml')\n",
    "            page = soup.find('div','content')\n",
    "            pagination = page.find('div','paging')\n",
    "            for x in pagination:\n",
    "                lastPage = x\n",
    "            print(lastPage)       \n",
    "    \n",
    "    def getUrlDetail(self,page):\n",
    "        self.urlDetailData = []\n",
    "        for page in range(page): \n",
    "            try:\n",
    "                if(self.keyword == \"\"):\n",
    "                    dateNow = self.today.strftime(\"%Y-%m-%d\")\n",
    "                    urlGet = (self.url+\"/index-news?date=\"+dateNow+\"&page={}\".format(page+1))\n",
    "                    soup = BeautifulSoup(get(urlGet).text, 'lxml')\n",
    "                    getContent = soup.find('ul','lsi')\n",
    "                    groupContent = getContent.find_all('h3','f16 fbo')\n",
    "                    for x in groupContent:\n",
    "                        news_url = x.find('a', href=True).get('href')\n",
    "                        mergeUrl = (news_url+\"?page=all\")\n",
    "                        self.urlDetailData.append(mergeUrl)\n",
    "                else:\n",
    "                    dateNow = self.today.strftime(\"%Y-%m-%d\")\n",
    "                    urlGet = (self.url+\"/index-news?date=\"+dateNow+\"&page={}\".format(page+1))\n",
    "                    soup = BeautifulSoup(get(urlGet).text, 'lxml')\n",
    "                    getContent = soup.find('ul','lsi')\n",
    "                    groupContent = getContent.find_all('h3','f16 fbo')\n",
    "                    for x in groupContent:\n",
    "                        news_url = x.find('a', href=True).get('href')\n",
    "                        mergeUrl = (news_url+\"?page=all\")\n",
    "                        self.urlDetailData.append(mergeUrl)\n",
    "            except Exception as e:\n",
    "                continue \n",
    "                                   \n",
    "    def scrapingDataTribun(self):\n",
    "        self.getUrlDetail(3)\n",
    "        for dataBerita in self.urlDetailData:\n",
    "            myresult = self.validasiDataDatabase(dataBerita)\n",
    "            if(len(myresult)==0):\n",
    "                try:\n",
    "                    media = \"Tribunnews.com\"\n",
    "                    web_data = get(dataBerita)\n",
    "                    soup = BeautifulSoup(web_data.text, 'html.parser')\n",
    "                    page = soup.find('div','content')\n",
    "                    title = page.find('h1','f50 black2 f400 crimson').text\n",
    "                    label = page.find('h2','red f16').text\n",
    "                    getAuthor = page.find('div',{\"id\":\"penulis\"}).text\n",
    "                    author = getAuthor.replace(\"Penulis: \",\"\")\n",
    "                    release_date = page.find('time','grey').text\n",
    "                    groupContent = page.find('div','side-article txt-article multi-fontsize')\n",
    "                    texts = page.find_all('p')\n",
    "                    news_content = ' '.join([text.text for text in texts])\n",
    "                    data = (media,title,label,author,release_date,dataBerita,news_content)\n",
    "                    self.simpanDatabase(data)\n",
    "                except Exception as e:\n",
    "                    continue \n",
    "            else:\n",
    "                continue"
   ]
  },
  {
   "cell_type": "code",
   "execution_count": 11,
   "metadata": {},
   "outputs": [],
   "source": [
    "url = 'https://www.tribunnews.com'\n",
    "pencarian = ''\n",
    "testing = Tribunnews(url, pencarian)\n",
    "testing.scrapingDataTribun()"
   ]
  },
  {
   "cell_type": "code",
   "execution_count": null,
   "metadata": {},
   "outputs": [],
   "source": []
  },
  {
   "cell_type": "code",
   "execution_count": null,
   "metadata": {},
   "outputs": [],
   "source": []
  }
 ],
 "metadata": {
  "kernelspec": {
   "display_name": "Python 3",
   "language": "python",
   "name": "python3"
  },
  "language_info": {
   "codemirror_mode": {
    "name": "ipython",
    "version": 3
   },
   "file_extension": ".py",
   "mimetype": "text/x-python",
   "name": "python",
   "nbconvert_exporter": "python",
   "pygments_lexer": "ipython3",
   "version": "3.8.5"
  }
 },
 "nbformat": 4,
 "nbformat_minor": 4
}

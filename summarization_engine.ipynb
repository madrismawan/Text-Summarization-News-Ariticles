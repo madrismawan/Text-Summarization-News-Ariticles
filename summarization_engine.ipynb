{
 "cells": [
  {
   "cell_type": "code",
   "execution_count": 1,
   "metadata": {},
   "outputs": [
    {
     "name": "stdout",
     "output_type": "stream",
     "text": [
      "importing Jupyter notebook from MMR.ipynb\n"
     ]
    }
   ],
   "source": [
    "import mysql.connector\n",
    "from nltk.tokenize import sent_tokenize\n",
    "import import_ipynb\n",
    "import re\n",
    "from Sastrawi.Stemmer.StemmerFactory import StemmerFactory\n",
    "import pandas as pd\n",
    "from MMR import *\n",
    "from nltk.corpus import stopwords\n",
    "import string\n",
    "from termcolor import colored\n",
    "import time"
   ]
  },
  {
   "cell_type": "markdown",
   "metadata": {},
   "source": [
    "# Deklarasi Connection Database"
   ]
  },
  {
   "cell_type": "markdown",
   "metadata": {},
   "source": [
    "Membuat koneksi kedatabase lokal dengan database 'db-berita-mca'"
   ]
  },
  {
   "cell_type": "code",
   "execution_count": 2,
   "metadata": {},
   "outputs": [],
   "source": [
    "mydb = mysql.connector.connect(\n",
    "    host=\"localhost\",\n",
    "    user=\"root\",\n",
    "    password=\"\",\n",
    "    database=\"db-berita-mca\"  \n",
    ") "
   ]
  },
  {
   "cell_type": "markdown",
   "metadata": {},
   "source": [
    "# Membuat Fungsi Steaming Use Sastrawi"
   ]
  },
  {
   "cell_type": "markdown",
   "metadata": {},
   "source": [
    "Membuat stemmer pakai sastrawi \n",
    "Digunakan untuk melakukan steaming kalimat (menjadi kalimat dasar Menggunakan Library Sastrawi)"
   ]
  },
  {
   "cell_type": "code",
   "execution_count": 3,
   "metadata": {},
   "outputs": [],
   "source": [
    "factory = StemmerFactory()\n",
    "stemmer = factory.create_stemmer()"
   ]
  },
  {
   "cell_type": "markdown",
   "metadata": {},
   "source": [
    "# Mengambil Data pada Database"
   ]
  },
  {
   "cell_type": "markdown",
   "metadata": {},
   "source": [
    "Mengambil data pada database,data yang diambil hanya 2 kolom saja"
   ]
  },
  {
   "cell_type": "code",
   "execution_count": 4,
   "metadata": {},
   "outputs": [
    {
     "data": {
      "text/html": [
       "<div>\n",
       "<style scoped>\n",
       "    .dataframe tbody tr th:only-of-type {\n",
       "        vertical-align: middle;\n",
       "    }\n",
       "\n",
       "    .dataframe tbody tr th {\n",
       "        vertical-align: top;\n",
       "    }\n",
       "\n",
       "    .dataframe thead th {\n",
       "        text-align: right;\n",
       "    }\n",
       "</style>\n",
       "<table border=\"1\" class=\"dataframe\">\n",
       "  <thead>\n",
       "    <tr style=\"text-align: right;\">\n",
       "      <th></th>\n",
       "      <th>id</th>\n",
       "      <th>article</th>\n",
       "    </tr>\n",
       "  </thead>\n",
       "  <tbody>\n",
       "    <tr>\n",
       "      <th>0</th>\n",
       "      <td>217</td>\n",
       "      <td>Jakarta, CNBC Indonesia - Krisis mainan jelang...</td>\n",
       "    </tr>\n",
       "    <tr>\n",
       "      <th>1</th>\n",
       "      <td>222</td>\n",
       "      <td>Jakarta, CNBC Indonesia - Aset kripto (cryptoc...</td>\n",
       "    </tr>\n",
       "    <tr>\n",
       "      <th>2</th>\n",
       "      <td>224</td>\n",
       "      <td>Jakarta, CNBC Indonesia - Internet merupakan s...</td>\n",
       "    </tr>\n",
       "    <tr>\n",
       "      <th>3</th>\n",
       "      <td>225</td>\n",
       "      <td>Jakarta, CNBC Indonesia - Asal muasal virus co...</td>\n",
       "    </tr>\n",
       "    <tr>\n",
       "      <th>4</th>\n",
       "      <td>226</td>\n",
       "      <td>Jakarta, CNBC Indonesia - Dunia mata uang krip...</td>\n",
       "    </tr>\n",
       "    <tr>\n",
       "      <th>5</th>\n",
       "      <td>227</td>\n",
       "      <td>Jakarta, CNBC Indonesia - Staples Center akan ...</td>\n",
       "    </tr>\n",
       "    <tr>\n",
       "      <th>6</th>\n",
       "      <td>228</td>\n",
       "      <td>Jakarta, CNBC Indonesia - Tren investasi kript...</td>\n",
       "    </tr>\n",
       "  </tbody>\n",
       "</table>\n",
       "</div>"
      ],
      "text/plain": [
       "    id                                            article\n",
       "0  217  Jakarta, CNBC Indonesia - Krisis mainan jelang...\n",
       "1  222  Jakarta, CNBC Indonesia - Aset kripto (cryptoc...\n",
       "2  224  Jakarta, CNBC Indonesia - Internet merupakan s...\n",
       "3  225  Jakarta, CNBC Indonesia - Asal muasal virus co...\n",
       "4  226  Jakarta, CNBC Indonesia - Dunia mata uang krip...\n",
       "5  227  Jakarta, CNBC Indonesia - Staples Center akan ...\n",
       "6  228  Jakarta, CNBC Indonesia - Tren investasi kript..."
      ]
     },
     "execution_count": 4,
     "metadata": {},
     "output_type": "execute_result"
    }
   ],
   "source": [
    "mycursor = mydb.cursor()\n",
    "mycursor.execute(\"SELECT id, content FROM tb_berita\")\n",
    "myresult = mycursor.fetchall()\n",
    "\n",
    "df = pd.DataFrame(myresult,columns=['id','article'])\n",
    "df"
   ]
  },
  {
   "cell_type": "markdown",
   "metadata": {},
   "source": [
    "# Load Data Stopword Lib & File Internal"
   ]
  },
  {
   "cell_type": "markdown",
   "metadata": {},
   "source": [
    "Mengambil data stopword bahasa indonesia yang pertama menggunakan file list dari stop word 917 dan menggunakan library nltk sebanyak panjang data 789"
   ]
  },
  {
   "cell_type": "code",
   "execution_count": 5,
   "metadata": {},
   "outputs": [],
   "source": [
    "def load_stopWords():\n",
    "    r = open(\"stopwordlist-indonesia.txt\", \"r\")\n",
    "    readTxt = r.read()\n",
    "    idStopWord = readTxt.split() \n",
    "    return idStopWord"
   ]
  },
  {
   "cell_type": "code",
   "execution_count": 6,
   "metadata": {
    "scrolled": true
   },
   "outputs": [],
   "source": [
    "def load_stopWordsNLTK():\n",
    "    stop_words = stopwords.words('indonesian')\n",
    "    return stop_words"
   ]
  },
  {
   "cell_type": "markdown",
   "metadata": {},
   "source": [
    "# Simpan hasil summary ke database"
   ]
  },
  {
   "cell_type": "markdown",
   "metadata": {},
   "source": [
    "Menyimpan data yang telah dihasilakan melalui summary ke database dengan cara mengupdate data tersebut dan memasukan text summary pada field tersebut"
   ]
  },
  {
   "cell_type": "code",
   "execution_count": 7,
   "metadata": {},
   "outputs": [],
   "source": [
    "def simpanSummary(mydb,summary,id):\n",
    "    mycursor = mydb.cursor()\n",
    "    id = int(id)\n",
    "    sql = \"UPDATE tb_berita SET summary = %s WHERE id = %s\"\n",
    "    param = (summary,id)\n",
    "    mycursor.execute(sql, param)\n",
    "    mydb.commit()"
   ]
  },
  {
   "cell_type": "markdown",
   "metadata": {},
   "source": [
    "# Proses Text Preprocessing "
   ]
  },
  {
   "cell_type": "markdown",
   "metadata": {},
   "source": [
    "[tokenizeParagraftoKalimat, cleansingData, steamingData, indoStopWord]\n",
    "\n",
    "Fungsi diatas merupakan fungsi yang digunakan untuk melakukan preprocessing article sebuah berita, penjelasan mengenai fungsi akan dijelaskan lebih lanjut"
   ]
  },
  {
   "cell_type": "markdown",
   "metadata": {},
   "source": [
    "[tokenizeParagraftoKalimat]\n",
    "\n",
    "berfungsi sebagai tokenize pargraf menjadi bagian perkalimat "
   ]
  },
  {
   "cell_type": "code",
   "execution_count": 8,
   "metadata": {},
   "outputs": [],
   "source": [
    "def tokenizeParagraftoKalimat(paragraf):\n",
    "    tokenize = sent_tokenize(paragraf)\n",
    "    return tokenize"
   ]
  },
  {
   "cell_type": "markdown",
   "metadata": {},
   "source": [
    "[cleansingData]\n",
    "\n",
    "berfungsi sebagai membersihkan data dari huruf tanda petik dan masih kata besar atau keceil"
   ]
  },
  {
   "cell_type": "code",
   "execution_count": 9,
   "metadata": {},
   "outputs": [],
   "source": [
    "def cleansingData(text):\n",
    "    hasil = re.sub('[^A-Za-z0-9 ]+', '', text)\n",
    "    hasil = hasil.translate(str.maketrans(\"\",\"\",string.punctuation))\n",
    "    return hasil"
   ]
  },
  {
   "cell_type": "markdown",
   "metadata": {},
   "source": [
    "[steamingData]\n",
    "\n",
    "berguna sebagai menjadikan kata dasar sebuah kalimat dan fungsi stemmer tersebut sekaligus menjadikan kalimat menjadi lower atau huruf kecil"
   ]
  },
  {
   "cell_type": "code",
   "execution_count": 10,
   "metadata": {},
   "outputs": [],
   "source": [
    "def steamingData(text):\n",
    "    steamingData = stemmer.stem(text)\n",
    "    return steamingData"
   ]
  },
  {
   "cell_type": "markdown",
   "metadata": {},
   "source": [
    "[indoStopWord]\n",
    "\n",
    "berguna dalam menghilangkan kata sambung atau tidak diperlukan, ini berfungsi dlam menghitung kesamaan antar kalimat pada algoritma MMR agar lebih mudah dan mendapatkan hasil yang akurat (Lib NLTK & List Stopword)"
   ]
  },
  {
   "cell_type": "code",
   "execution_count": 11,
   "metadata": {},
   "outputs": [],
   "source": [
    "def indoStopWord(stopNLTK, stopTxt, kalimat):\n",
    "    hasilStopWord = []\n",
    "    for kata in kalimat.split():\n",
    "        if not kata in stopNLTK:\n",
    "            if not kata in stopTxt:\n",
    "                hasilStopWord.append(kata)\n",
    "    return \" \".join(hasilStopWord)"
   ]
  },
  {
   "cell_type": "markdown",
   "metadata": {},
   "source": [
    "[hasilSummary]\n",
    "\n",
    "fungsi yang berguna dalam menampilkan hasil summarization pada algoritma MMR"
   ]
  },
  {
   "cell_type": "code",
   "execution_count": 12,
   "metadata": {},
   "outputs": [],
   "source": [
    "def hasilSummary(kalimatAsli, summarySet):\n",
    "    hasil = []\n",
    "    for sentence in summarySet:\n",
    "        hasil.append(kalimatAsli [sentence].lstrip(' ')) \n",
    "    return \" \".join(hasil)"
   ]
  },
  {
   "cell_type": "markdown",
   "metadata": {},
   "source": [
    "[visualisasiSummaryOri]\n",
    "\n",
    "menampilkan visualisasi yang sangat berguna dalam mengetahui kata mana saja yang dipakai atau ditampilkan pada summarization"
   ]
  },
  {
   "cell_type": "code",
   "execution_count": 13,
   "metadata": {},
   "outputs": [],
   "source": [
    "def visualisasiSummaryOri(cleansingTeks,summarySet,kalimatAsli):\n",
    "    for sentence in cleansingTeks:\n",
    "        if sentence in summarySet:\n",
    "            print(colored(kalimatAsli[sentence].lstrip(' '),'red'))\n",
    "        else:\n",
    "            print(kalimatAsli[sentence].lstrip(' '))"
   ]
  },
  {
   "cell_type": "markdown",
   "metadata": {},
   "source": [
    "bisa dibilang sebagai code utama, dimana disini tempat menjalankan semua code dengan melakukan pemanggilan semua fungsi dan class algoritam MMR "
   ]
  },
  {
   "cell_type": "code",
   "execution_count": null,
   "metadata": {},
   "outputs": [
    {
     "name": "stdout",
     "output_type": "stream",
     "text": [
      "\n",
      "Summary dari Berita ID : 217 (hasil teks yang diringkas):\n",
      "\n",
      "Bos retail mainan The Entertainer, Gary Grant, memperingatkan penundaan ini akan mengakibatkan kekurangan stok mainan menjelang Natal. Pelabuhan komersial terbesar di Inggris Felixstowe mengatakan kepada BBC bahwa saat ini ada 50.000 kontainer yang menunggu untuk dikumpulkan, karena kekurangan pengemudi truk HGV. Kini stok boneka Barbie dan mainan Paw Patrol, salah satu mainan favorit anak-anak, diperkirakan akan cepat habis. \"Ini tantangan bagi pengecer kecil karena mereka tidak memiliki uang tunai untuk menimbun.\" Padahal tarif normal US$ 2.500 pada tahun 2020.\n",
      "=============================================================\n",
      "\\Oringinal Article (Teks Asli):\n",
      "\n",
      "Jakarta, CNBC Indonesia - Krisis mainan jelang Natal terjadi di Inggris.\n",
      "Fenomena ini terjadi karena adanya penundaan penurunan barang-barang dari kontainer di pelabuhan Inggris.\n",
      "\u001b[31mBos retail mainan The Entertainer, Gary Grant, memperingatkan penundaan ini akan mengakibatkan kekurangan stok mainan menjelang Natal.\u001b[0m\n",
      "\u001b[31mKini stok boneka Barbie dan mainan Paw Patrol, salah satu mainan favorit anak-anak, diperkirakan akan cepat habis.\u001b[0m\n",
      "Grant mengatakan 170 tokonya terlihat \"sangat penuh sekarang\".\n",
      "Namun dia mengatakan permintaan \"akan melebihi ketersediaan\" karena tidak ada cukup driver untuk memindahkan stok mainan perusahaan.\n",
      "\"Tidak akan pernah ada toko mainan tanpa mainan.\n",
      "Akan ada toko mainan tanpa semua mainan yang biasanya mereka harapkan karena kelangkaan, dan itu sebagian besar karena masalah transportasi dan gudang, bukan karena kekurangan mainan,\" kata Grant, dikutip dari BBC International, Jumat (26/11/2021).\n",
      "Hal yang sama juga juga terjadi pada retail lain.\n",
      "Thomas O'Brien, direktur pelaksana desainer mainan Boxer Gifts yang berbasis di Leeds, yang memproduksi produknya di China, mengatakan ada \"banyak stok\" tetapi jadi sulit karena penundaan ini.\n",
      "Kini retailnya kekurangan barang-barang best seller, seperti mainan lunak sloth dan bola stres sapi yang murung.\n",
      "Meskipun ada mainan alternatif, O'Brien mengatakan perusahaan kehilangan waktu perencanaan enam minggu untuk mengisi kembali stok dalam waktu singkat.\n",
      "Dia mengatakan kontainer yang dikirim dari Qingdao, China ke Felixstowe menelan biaya US$ 15.000.\n",
      "\u001b[31mPadahal tarif normal US$ 2.500 pada tahun 2020.\u001b[0m\n",
      "Meski begitu, Kepala Eksekutif British Independent Retailers Association, Andrew Goodacre, mengatakan tidak perlu panik dalam membeli.\n",
      "Ia menyarankan pelanggan untuk memulai proses belanja normal mereka lebih awal.\n",
      "\"Jika Anda melihat sesuatu yang Anda inginkan, sekaranglah waktunya untuk membeli karena pengecer memiliki sebagian besar stok Natal mereka, tetapi kami tidak dapat menjamin memiliki persediaan semuanya selama beberapa minggu ke depan,\" katanya.\n",
      "\u001b[31m\"Ini tantangan bagi pengecer kecil karena mereka tidak memiliki uang tunai untuk menimbun.\"\u001b[0m\n",
      "Pemerintah Inggris mengatakan bahwa Felixstowe telah melaporkan \"peningkatan kapasitas selama beberapa hari terakhir\".\n",
      "Sebuah kemacetan peti kemas di pelabuhan, termasuk Felixstowe, dan kekurangan pengemudi truk HGV memicu kekhawatiran di kalangan retail terkait stok produk mereka.\n",
      "Kekurangan pengemudi berarti bahwa kontainer pengiriman sedang diturunkan tetapi dibiarkan menumpuk di dermaga menunggu pengumpulan.\n",
      "Kelangkaan pengemudi juga berarti ada keterlambatan pengembalian kontainer kosong untuk digunakan kembali.\n",
      "\u001b[31mPelabuhan komersial terbesar di Inggris Felixstowe mengatakan kepada BBC bahwa saat ini ada 50.000 kontainer yang menunggu untuk dikumpulkan, karena kekurangan pengemudi truk HGV.\u001b[0m\n",
      "Kini pejabat di pelabuhan telah meminta jalur pelayaran untuk mengurangi stok kontainer kosong mereka secepat mungkin.\n",
      "\n",
      "Summary dari Berita ID : 222 (hasil teks yang diringkas):\n",
      "\n",
      "Jakarta, CNBC Indonesia - Aset kripto (cryptocurrency) mengalami pekan yang berat, setelah mayoritas koin berkapitalisasi pasar besar (big cap) ambles seiring adanya kabar buruk lagi untuk bitcoin yang datang dari China dan sentimen negatif lainnya. Dalam sepekan ini, kripto WAX (WAXP) menjadi jawara dengan melonjak 52,93%. Namun, beberapa analis melihat pelemahan saat ini bisa menjadi tanda peringatan penurunan harga BTC lebih lanjut. Perubahan nama itu akan berlaku pada Hari Natal, saat Lakers menjamu Brooklyn Nets. Dogecoin naik 2,36%, sedangkan Shiba Inu melesat 9,24% hari ini. Dari Negeri Paman Sam AS, beberapa analis menilai bahwa kembali terkoreksinya pasar kripto pada hari ini karena perkembangan peraturan terkait industri kripto.\n",
      "=============================================================\n",
      "\\Oringinal Article (Teks Asli):\n",
      "\n",
      "\u001b[31mJakarta, CNBC Indonesia - Aset kripto (cryptocurrency) mengalami pekan yang berat, setelah mayoritas koin berkapitalisasi pasar besar (big cap) ambles seiring adanya kabar buruk lagi untuk bitcoin yang datang dari China dan sentimen negatif lainnya.\u001b[0m\n",
      "Menurut data Coinmarketcap.com, koin kripto dengan kapitalisasi pasar (market cap) terjumbo bitcoin ambles 8,26% dalam sepekan terakhir.\n",
      "Namun, hari ini koin kripto pertama itu berhasil rebound 2,71% ke US$ 58.701,17.\n",
      "Kemudian, koin kripto terbesar kedua ethereum juga anjlok 7,72% dalam seminggu dan mencoba pulih dengan naik 3,71% ke US$ 4.309,87.\n",
      "10 Besar Kripto Big Cap (Tanpa Stablecoin, seperti Tether) Nama Kode Harga Terakhir (US$) % 24 Jam % Sepekan Bitcoin BTC 58,701.17 2.71 -8.26 Ethereum ETH 43,09.87 3.71 -7.72 Binance Coin BNB 586.71 4.23 -7.11 Solana SOL 216.89 6.15 -4.8 Cardano ADA 1.88 3.02 -8.66 XRP XRP 1.09 2.28 -8.32 Polkadot DOT 41.77 3.91 -8.87 Dogecoin DOGE 0.2332 2.36 -9.06 SHIBA INU SHIB 0.00004869 9.24 -5.03 Avalanche AVAX 118.37 10.31 34.84 Sumber: Coinmarketcap.com | Harga terakhir per 20 November 2021, pukul 16.17 WIB Tidak hanya duo bitcoin dan ethereum, duo token meme berlogo anjing asal Jepang dengan market cap terbesar, DOGE dan SHIB pun ambles masing-masing 9,05% dan 5,03%.\n",
      "Seperti bitcoin dan ethereum, keduanya mencoba rebound hari ini.\n",
      "\u001b[31mDogecoin naik 2,36%, sedangkan Shiba Inu melesat 9,24% hari ini.\u001b[0m\n",
      "\u001b[31mDalam sepekan ini, kripto WAX (WAXP) menjadi jawara dengan melonjak 52,93%.\u001b[0m\n",
      "Koin Crypto.com (CRO) juga menjadi idola investor kripto selama sepekan ini dengan melejit 45,07%.\n",
      "Melesatnya CRO terjadi seiring platform perdagangan cryptocurrency ini mendapatkan kesepakatan kontrak 20 tahun senilai US$ 700 juta dengan Anschutz Entertainment Group (AEG) untuk membeli hak penamaan Staples Center di Los Angeles, kandang tim bola basket Amerika Serikat (AS) Los Angeles Lakers.\n",
      "\u001b[31mPerubahan nama itu akan berlaku pada Hari Natal, saat Lakers menjamu Brooklyn Nets.\u001b[0m\n",
      "Sementara, kripto 'pecundang' sepekan disematkan kepada token OMG Network (OMG) yang ambles 18,62%.\n",
      "Adapun koin 'jagoan' selama 24 jam terakhir adalah Immutable X (IMX) yang terkerek naik 33,25%, sedangkan Kadena (KDA) menjadi top losers dengan turun 4,26%.\n",
      "Melansir Coindesk, sentimen pasar tampaknya masih bearish/sideways jangka pendek.\n",
      "\"Orang-orang terus-menerus menjual BTC di pasar berjangka,\" Ki Young Ju, CEO CryptoQuant, menulis dalam sebuah posting blog pada Jumat (19/11) dilansir Coindesk.\n",
      "Dari perspektif teknikal, tren naik jangka panjang bitcoin tetap terjaga selama BTC berada di atas level support US$ 53.000.\n",
      "\u001b[31mNamun, beberapa analis melihat pelemahan saat ini bisa menjadi tanda peringatan penurunan harga BTC lebih lanjut.\u001b[0m\n",
      "\"Penurunan total kapitalisasi pasar 5% lagi akan menandakan dimulainya bearish market, dengan asumsi cryptocurrency menganut hukum psikologi yang sama yang mendukung analisis teknikal,\" Alex Kuptsikevich, seorang analis di FxPro, menulis kepada CoinDesk.\n",
      "Sentimen negatif kripto sepanjang pekan ini berasal dari Timur sampai Barat, yakni dari China dan AS.\n",
      "Pemerintahan Ji Xinping benar-benar mau mematikan cryptocurrency seperti Bitcoin, Ethereum, dan Dogecoin.\n",
      "Setelah menutup akses masyarakat ke uang kripto, kini China mengambil tindakan keras pada aktivitas penambangan kripto.\n",
      "Juru Bicara National Development and Reform Commission (NDRC) Meng Wei mengatakan pihaknya akan meluncurkan tindakan keras \"skala penuh\" pada penambangan cryptocurrency dengan berfokus pada penambangan komersial dan peran perusahaan milik negara dalam industri.\n",
      "Sebagai bagian tindakan tegas, NDRC bakal menaikkan tarif listrik untuk institusi mana pun yang ditemukan menyalahgunakan akses ke listrik bersubsidi untuk berpartisipasi dalam penambangan kripto.\n",
      "China diketahui memberikan subsidi tarif listrik pada sekolah, pusat komunitas atau lembaga kesejahteraan masyarakat lainnya.\n",
      "\u001b[31mDari Negeri Paman Sam AS, beberapa analis menilai bahwa kembali terkoreksinya pasar kripto pada hari ini karena perkembangan peraturan terkait industri kripto.\u001b[0m\n",
      "\"Pejabat bank sentral mengatakan perubahan tren dan perkembangan di sisi peraturan serta moneter juga dapat menghentikan keuntungan untuk aset digital,\" kata Freddie Evans, trader di broker aset digital yang berbasis di Inggris, GlobalBlock, menulis dalam email kepada CoinDesk.\n",
      "Pada Kamis lalu waktu AS, anggota parlemen AS memperkenalkan undang-undang untuk mengubah ketentuan terkait kripto dalam undang-undang infrastruktur bipartisan yang telah ditandatangani pada awal pekan ini.\n",
      "Amandemen yang diusulkan dapat mengklarifikasi aturan pajak tertentu untuk industri kripto.\n",
      "TIM RISET CNBC INDONESIA\n"
     ]
    }
   ],
   "source": [
    "for iteration, article in enumerate(df['article']):\n",
    "    id = df['id'][iteration]\n",
    "    tokenizeKalimat = tokenizeParagraftoKalimat(article)\n",
    "    \n",
    "    kalimat = []\n",
    "    cleansingTeks = []\n",
    "    kalimatAsli = {}\n",
    "\n",
    "    for teks in tokenizeKalimat:\n",
    "        kataDasar = steamingData(cleansingData(teks))\n",
    "        dataFinal = indoStopWord(load_stopWordsNLTK(),load_stopWords(),kataDasar)\n",
    "        cleansingTeks.append(dataFinal)\n",
    "        kalimat.append(teks)\n",
    "        kalimatAsli[dataFinal] = teks\n",
    "\n",
    "    iteration = MMR()\n",
    "    score = iteration.similarityScore(cleansingTeks)\n",
    "    summarySet = iteration.calculateMMR(score,cleansingTeks)\n",
    "    \n",
    "\n",
    "    summary = hasilSummary(kalimatAsli,summarySet)\n",
    "    simpanSummary(mydb,summary,id)\n",
    "    print ('\\nSummary dari Berita ID : {} (hasil teks yang diringkas):\\n'.format(id))\n",
    "    print(summary)\n",
    "\n",
    "    print ('=============================================================')\n",
    "    print ('\\Oringinal Article (Teks Asli):\\n')\n",
    "    visualisasiSummaryOri(cleansingTeks,summarySet,kalimatAsli)"
   ]
  },
  {
   "cell_type": "code",
   "execution_count": null,
   "metadata": {},
   "outputs": [],
   "source": []
  },
  {
   "cell_type": "code",
   "execution_count": null,
   "metadata": {},
   "outputs": [],
   "source": []
  }
 ],
 "metadata": {
  "kernelspec": {
   "display_name": "Python 3",
   "language": "python",
   "name": "python3"
  },
  "language_info": {
   "codemirror_mode": {
    "name": "ipython",
    "version": 3
   },
   "file_extension": ".py",
   "mimetype": "text/x-python",
   "name": "python",
   "nbconvert_exporter": "python",
   "pygments_lexer": "ipython3",
   "version": "3.8.5"
  }
 },
 "nbformat": 4,
 "nbformat_minor": 4
}

{
 "cells": [
  {
   "cell_type": "code",
   "execution_count": 8,
   "metadata": {},
   "outputs": [],
   "source": [
    "import mysql.connector\n",
    "from nltk.tokenize import sent_tokenize\n",
    "import import_ipynb\n",
    "import re\n",
    "from Sastrawi.Stemmer.StemmerFactory import StemmerFactory\n",
    "import pandas as pd"
   ]
  },
  {
   "cell_type": "markdown",
   "metadata": {},
   "source": [
    "# Deklarasi Connection Database"
   ]
  },
  {
   "cell_type": "code",
   "execution_count": 9,
   "metadata": {},
   "outputs": [],
   "source": [
    "mydb = mysql.connector.connect(\n",
    "    host=\"localhost\",\n",
    "    user=\"root\",\n",
    "    password=\"\",\n",
    "    database=\"db-berita-mca\"  \n",
    ") "
   ]
  },
  {
   "cell_type": "code",
   "execution_count": 10,
   "metadata": {},
   "outputs": [
    {
     "name": "stdout",
     "output_type": "stream",
     "text": [
      "[('Jakarta, CNBC Indonesia - Satgas Penanganan Covid-19 melaporkan ada tambahan 339 kasus Covid-19 dalam kurun waktu Sabtu (13/11/2021) pukul 12.00 WIB hingga Minggu (14/11/2021) pukul 12.00 WIB.Tambahan itu lebih rendah dibandingkan dengan kemarin yang tercatat 359. Dengan tambahan 339 kasus hari ini, total kasus Covid-19 di RI mencapai 4.250.855.DKI Jakarta mencatatkan kasus harian Covid-19 paling banyak hari ini, yaitu 92. Disusul Jawa Tengah (30) dan Jawa Timur (28).Inilah 5 provinsi teratas dari sisi tambahan kasus baru Covid-19: DKI Jakarta: 92 Jawa Tengah: 30 Jawa Timur: 28 Kalimantan Barat: 26 Jawa Barat: 25   Sementara itu pasien sembuh dari Covid-19 bertambah 503 menjadi 4.098.178. Sedangkan pasien yang meninggal akibat Covid-19 bertambah 15 menjadi 143.659.Secara kumulatif, total kasus aktif saat ini 9.018, turun 179 pada hari ini.',), ('Jakarta, CNBC Indonesia - Satgas Penanganan Covid-19 melaporkan ada tambahan 339 kasus Covid-19 dalam kurun waktu Sabtu (13/11/2021) pukul 12.00 WIB hingga Minggu (14/11/2021) pukul 12.00 WIB.Tambahan itu lebih rendah dibandingkan dengan kemarin yang tercatat 359. Dengan tambahan 339 kasus hari ini, total kasus Covid-19 di RI mencapai 4.250.855.Sementara itu pasien sembuh dari Covid-19 bertambah 503 menjadi 4.098.178. Sedangkan pasien yang meninggal akibat Covid-19 bertambah 15 menjadi 143.659.\\n\\n\\n\\n\\n\\nSecara kumulatif, total kasus aktif saat ini 9.018, turun 179 pada hari ini.',)]\n"
     ]
    },
    {
     "data": {
      "text/html": [
       "<div>\n",
       "<style scoped>\n",
       "    .dataframe tbody tr th:only-of-type {\n",
       "        vertical-align: middle;\n",
       "    }\n",
       "\n",
       "    .dataframe tbody tr th {\n",
       "        vertical-align: top;\n",
       "    }\n",
       "\n",
       "    .dataframe thead th {\n",
       "        text-align: right;\n",
       "    }\n",
       "</style>\n",
       "<table border=\"1\" class=\"dataframe\">\n",
       "  <thead>\n",
       "    <tr style=\"text-align: right;\">\n",
       "      <th></th>\n",
       "      <th>article</th>\n",
       "    </tr>\n",
       "  </thead>\n",
       "  <tbody>\n",
       "    <tr>\n",
       "      <th>0</th>\n",
       "      <td>Jakarta, CNBC Indonesia - Satgas Penanganan Co...</td>\n",
       "    </tr>\n",
       "    <tr>\n",
       "      <th>1</th>\n",
       "      <td>Jakarta, CNBC Indonesia - Satgas Penanganan Co...</td>\n",
       "    </tr>\n",
       "  </tbody>\n",
       "</table>\n",
       "</div>"
      ],
      "text/plain": [
       "                                             article\n",
       "0  Jakarta, CNBC Indonesia - Satgas Penanganan Co...\n",
       "1  Jakarta, CNBC Indonesia - Satgas Penanganan Co..."
      ]
     },
     "execution_count": 10,
     "metadata": {},
     "output_type": "execute_result"
    }
   ],
   "source": [
    "mycursor = mydb.cursor()\n",
    "\n",
    "mycursor.execute(\"SELECT content FROM tb_berita\")\n",
    "\n",
    "myresult = mycursor.fetchall()\n",
    "print(myresult)\n",
    "\n",
    "df = pd.DataFrame(myresult,columns=['article'])\n",
    "df"
   ]
  },
  {
   "cell_type": "code",
   "execution_count": 15,
   "metadata": {},
   "outputs": [
    {
     "name": "stdout",
     "output_type": "stream",
     "text": [
      "['Jakarta, CNBC Indonesia - Satgas Penanganan Covid-19 melaporkan ada tambahan 339 kasus Covid-19 dalam kurun waktu Sabtu (13/11/2021) pukul 12.00 WIB hingga Minggu (14/11/2021) pukul 12.00 WIB.Tambahan itu lebih rendah dibandingkan dengan kemarin yang tercatat 359.', 'Dengan tambahan 339 kasus hari ini, total kasus Covid-19 di RI mencapai 4.250.855.DKI Jakarta mencatatkan kasus harian Covid-19 paling banyak hari ini, yaitu 92.', 'Disusul Jawa Tengah (30) dan Jawa Timur (28).Inilah 5 provinsi teratas dari sisi tambahan kasus baru Covid-19: DKI Jakarta: 92 Jawa Tengah: 30 Jawa Timur: 28 Kalimantan Barat: 26 Jawa Barat: 25   Sementara itu pasien sembuh dari Covid-19 bertambah 503 menjadi 4.098.178.', 'Sedangkan pasien yang meninggal akibat Covid-19 bertambah 15 menjadi 143.659.Secara kumulatif, total kasus aktif saat ini 9.018, turun 179 pada hari ini.']\n"
     ]
    }
   ],
   "source": [
    "from nltk.tokenize import sent_tokenize\n",
    "sentences = []\n",
    "for s in df['article']:\n",
    "    sentences.append(sent_tokenize(s))\n",
    "for x in senteces:\n",
    "    sentences = []\n",
    "    clean = []\n",
    "    originalSentenceOf = {}\n",
    "\n",
    "    #Data cleansing\n",
    "    for line in texts:\n",
    "        parts = line.split('.')\n",
    "        for part in parts:\n",
    "            cl = cleanData(part)\n",
    "    #         print (cl)\n",
    "            sentences.append(part)\n",
    "            clean.append(cl)\n",
    "            originalSentenceOf[cl] = part\n",
    "    setClean = set(clean)"
   ]
  },
  {
   "cell_type": "code",
   "execution_count": 12,
   "metadata": {},
   "outputs": [],
   "source": [
    "# "
   ]
  },
  {
   "cell_type": "code",
   "execution_count": null,
   "metadata": {},
   "outputs": [],
   "source": []
  }
 ],
 "metadata": {
  "kernelspec": {
   "display_name": "Python 3",
   "language": "python",
   "name": "python3"
  },
  "language_info": {
   "codemirror_mode": {
    "name": "ipython",
    "version": 3
   },
   "file_extension": ".py",
   "mimetype": "text/x-python",
   "name": "python",
   "nbconvert_exporter": "python",
   "pygments_lexer": "ipython3",
   "version": "3.8.5"
  }
 },
 "nbformat": 4,
 "nbformat_minor": 4
}

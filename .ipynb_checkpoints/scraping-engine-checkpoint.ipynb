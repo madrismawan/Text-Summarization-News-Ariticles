{
 "cells": [
  {
   "cell_type": "code",
   "execution_count": 9,
   "metadata": {},
   "outputs": [
    {
     "name": "stdout",
     "output_type": "stream",
     "text": [
      "importing Jupyter notebook from C:\\Users\\risma\\Kuliah\\MCA\\Text-Summarization-News-Ariticles\\algoritma\\MMR.ipynb\n"
     ]
    }
   ],
   "source": [
    "import mysql.connector\n",
    "from nltk.tokenize import sent_tokenize\n",
    "import import_ipynb\n",
    "import re\n",
    "from Sastrawi.Stemmer.StemmerFactory import StemmerFactory\n",
    "import pandas as pd\n",
    "from algoritma.MMR import *\n",
    "from nltk.corpus import stopwords\n",
    "import string\n",
    "from termcolor import colored\n",
    "import time"
   ]
  },
  {
   "cell_type": "code",
   "execution_count": 10,
   "metadata": {},
   "outputs": [],
   "source": [
    "import import_ipynb\n",
    "from scraping.CNBC import *\n",
    "from scraping.Detik import *\n",
    "from scraping.Kompas import *\n",
    "from scraping.Kumparan import *\n",
    "from scraping.Liputan6 import *\n",
    "from scraping.Tribunnews import *"
   ]
  },
  {
   "cell_type": "code",
   "execution_count": 21,
   "metadata": {},
   "outputs": [],
   "source": [
    "def scrapingData(pencarian):\n",
    "    mydb = mysql.connector.connect(\n",
    "        host=\"localhost\",\n",
    "        user=\"root\",\n",
    "        password=\"\",\n",
    "        database=\"db-berita-mca\" \n",
    "    ) \n",
    "    mycursor = mydb.cursor()\n",
    "    mycursor.execute(\"SELECT nama_media, link FROM tb_source_berita\")\n",
    "    myresult = mycursor.fetchall()\n",
    "    df = pd.DataFrame(myresult,columns=['nama_media','link'])\n",
    "\n",
    "    for iteration, article in enumerate(df['nama_media']):\n",
    "        link = df['link'][iteration]\n",
    "        if(article == \"CBNC-Indonesia\"):\n",
    "            iteration = CNBC(link,pencarian)\n",
    "            iteration.scrapingDataBeritaCNBC()\n",
    "            print(\"Berhasil mengambil data berita di \"+ article)\n",
    "        elif(article == \"kompas-News\"):\n",
    "            iteration = Kompas(link, pencarian)\n",
    "            iteration.scrapingDataKompas()\n",
    "            print(\"Berhasil mengambil data berita di \"+ article)\n",
    "        elif(article == \"Detik.com\"):\n",
    "            iteration = Detik(link,pencarian)\n",
    "            iteration.scrapingDataDetik()\n",
    "            print(\"Berhasil mengambil data berita di \"+ article)\n",
    "        elif(article == \"Kumparan\"):\n",
    "            iteration = Kumparan(link, pencarian)\n",
    "            iteration.scrapingDataKumparan()\n",
    "            print(\"Berhasil mengambil data berita di \"+ article)\n",
    "        elif(article == \"Liputan6\"):\n",
    "            iteration = Liputan6(link, pencarian)\n",
    "            iteration.scrapingLiputan6()\n",
    "            print(\"Berhasil mengambil data berita di \"+ article)\n",
    "        elif(article == \"Tribunnews\"):\n",
    "            iteration = Tribunnews(link, pencarian)\n",
    "            iteration.scrapingDataTribun()\n",
    "            print(\"Berhasil mengambil data berita di \"+ article)\n",
    "        else:\n",
    "            continue"
   ]
  },
  {
   "cell_type": "markdown",
   "metadata": {},
   "source": [
    "Fungsi Engine Utama Scraping Data"
   ]
  },
  {
   "cell_type": "code",
   "execution_count": null,
   "metadata": {},
   "outputs": [
    {
     "name": "stdout",
     "output_type": "stream",
     "text": [
      "CBNC-Indonesia\n",
      "kompas-News\n",
      "Detik.com\n",
      "Kumparan\n",
      "Liputan6\n",
      "Tribunnews\n"
     ]
    }
   ],
   "source": [
    "keyword = \"\"\n",
    "scrapingData(keyword)"
   ]
  },
  {
   "cell_type": "code",
   "execution_count": null,
   "metadata": {},
   "outputs": [],
   "source": []
  }
 ],
 "metadata": {
  "kernelspec": {
   "display_name": "Python 3",
   "language": "python",
   "name": "python3"
  }
 },
 "nbformat": 4,
 "nbformat_minor": 4
}

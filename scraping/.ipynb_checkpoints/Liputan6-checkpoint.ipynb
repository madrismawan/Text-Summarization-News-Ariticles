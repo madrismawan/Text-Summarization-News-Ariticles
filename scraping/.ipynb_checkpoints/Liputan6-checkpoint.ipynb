{
 "cells": [
  {
   "cell_type": "code",
   "execution_count": 1,
   "metadata": {},
   "outputs": [],
   "source": [
    "from builtins import Exception\n",
    "import urllib3\n",
    "from bs4 import BeautifulSoup\n",
    "from requests import get\n",
    "import mysql.connector\n",
    "import re\n",
    "import datetime"
   ]
  },
  {
   "cell_type": "markdown",
   "metadata": {},
   "source": [
    "# Class Liputan6 Scraping"
   ]
  },
  {
   "cell_type": "markdown",
   "metadata": {},
   "source": [
    "class dibawah merupakan proses pengambilan data dari website berita Liputan6.com yang dimana pemanggilan semua fungsi dibawah tersebut nantinya akan dipanggil pada fungsi [scrapingDataLiputan6]"
   ]
  },
  {
   "cell_type": "code",
   "execution_count": 16,
   "metadata": {},
   "outputs": [],
   "source": [
    "class Liputan6:\n",
    "     #deklarasi variable global\n",
    "    url = \"\"\n",
    "    mydb = \"\"\n",
    "    keyword = \"\"\n",
    "    urlDetailData = \"\"\n",
    "    date = \"\"\n",
    "    \n",
    "    #fungsi dari inisialisasi data saat memanggil class pertama kali\n",
    "    def __init__(self, urlBerita, pencarian,searchDate):\n",
    "        self.url = urlBerita\n",
    "        self.keyword = pencarian\n",
    "        try:\n",
    "            if(searchDate == \"\"):\n",
    "                self.date = datetime.datetime.now()\n",
    "            else:\n",
    "                self.date = datetime.datetime.strptime(searchDate, '%d-%m-%Y')\n",
    "        except Exception as e:\n",
    "            print(e)\n",
    "        self.mydb = mysql.connector.connect(host=\"localhost\",user=\"root\", password=\"\",database=\"db-berita-mca\")\n",
    "    \n",
    "    #fungsi menyimpan data ke database\n",
    "    def simpanDatabase(self,data):\n",
    "        mycursor = self.mydb.cursor()\n",
    "        sql = \"INSERT INTO tb_berita (media,judul_berita,label,penulis,release_date,url,content) VALUES (%s,%s,%s,%s,%s,%s,%s)\"\n",
    "        mycursor.execute(sql, data)\n",
    "        self.mydb.commit()\n",
    "        return\n",
    "    \n",
    "    #fungsi buat validasi data duplicate di database\n",
    "    def validasiDataDatabase(self,dataBerita):\n",
    "        mycursor = self.mydb.cursor()\n",
    "        sql = \"SELECT * FROM tb_berita WHERE url = %s\"\n",
    "        dataUrl = dataBerita\n",
    "        url = (dataBerita,)\n",
    "        mycursor.execute(sql, url)\n",
    "        myresult = mycursor.fetchall()\n",
    "        return myresult\n",
    "        \n",
    "    def getUrlDetail(self,page):\n",
    "        self.urlDetailData = []\n",
    "        for page in range(page): \n",
    "            try:\n",
    "                if(self.keyword == \"\"):\n",
    "                    urlGet = (self.url+\"/news/indeks/\"+self.date.strftime(\"%Y/%m/%d\")+\"?page={}\".format(page+1))\n",
    "                    soup = BeautifulSoup(get(urlGet).text, 'lxml')\n",
    "                    getContent = soup.find('article','main')\n",
    "                    groupContent = getContent.find_all('h4','articles--rows--item__title')\n",
    "                    for x in groupContent:\n",
    "                        news_url = x.find('a', href=True).get('href')\n",
    "                        mergeUrl = (news_url+\"?page=all\")\n",
    "                        self.urlDetailData.append(mergeUrl)\n",
    "                else:\n",
    "                    dateNow = self.date.strftime(\"%d/%m/%Y\")\n",
    "                    date = dateNow.replace('/','%2F')\n",
    "                    urlGet = (self.url+\"/search?order=latest&chammel_id=&from_date=\"+date+\"&to_date=\"+date+\"&type=all&q=\"+self.keyword)\n",
    "                    soup = BeautifulSoup(get(urlGet).text, 'lxml')\n",
    "                    getContent = soup.find('article','main')\n",
    "                    groupContent = getContent.find_all('h4','articles--iridescent-list--text-item__title')\n",
    "                    for x in groupContent:\n",
    "                        news_url = x.find('a', href=True).get('href')\n",
    "                        mergeUrl = (news_url+\"?page=all\")\n",
    "                        self.urlDetailData.append(mergeUrl)\n",
    "            except Exception as e:\n",
    "                print(\"format tanggal anda masukan salah\")\n",
    "                break\n",
    "                    \n",
    "                    \n",
    "    def scrapingLiputan6(self):\n",
    "        self.getUrlDetail(5)\n",
    "        for dataBerita in self.urlDetailData:\n",
    "            myresult = self.validasiDataDatabase(dataBerita)\n",
    "            if(len(myresult)==0):\n",
    "                try:\n",
    "                    media = \"Liputan6.com\"\n",
    "                    web_data = get(dataBerita)\n",
    "                    soup = BeautifulSoup(web_data.text, 'html.parser')\n",
    "                    page = soup.find('div','inner-container-article')\n",
    "                    title = page.find('h1','read-page--header--title entry-title').text\n",
    "                    labelGroup = page.find_all('a','read-page--breadcrumb--item__title')\n",
    "                    for x in labelGroup:\n",
    "                        label = x.find('span').text\n",
    "                    author = page.find('span','read-page--header--author__name fn').text\n",
    "                    release_date = page.find('time','read-page--header--author__datetime updated').text      \n",
    "                    groupContent = page.find('div','read-page--content')\n",
    "                    texts = groupContent.find_all('p')\n",
    "                    news_content = ' '.join([text.text for text in texts])           \n",
    "                    data = (media,title,label,author,release_date,dataBerita,news_content)\n",
    "                    self.simpanDatabase(data)\n",
    "                except Exception as e:\n",
    "                    continue \n",
    "            else:\n",
    "                continue"
   ]
  },
  {
   "cell_type": "code",
   "execution_count": 19,
   "metadata": {},
   "outputs": [],
   "source": [
    "# url = 'https://www.liputan6.com'\n",
    "# pencarian = ''\n",
    "# tanggal = '125-12-2021'\n",
    "# testing = Liputan6(url, pencarian,tanggal)\n",
    "# testing.getUrlDetail(4)"
   ]
  },
  {
   "cell_type": "code",
   "execution_count": null,
   "metadata": {},
   "outputs": [],
   "source": []
  },
  {
   "cell_type": "code",
   "execution_count": null,
   "metadata": {},
   "outputs": [],
   "source": []
  }
 ],
 "metadata": {
  "kernelspec": {
   "display_name": "Python 3",
   "language": "python",
   "name": "python3"
  },
  "language_info": {
   "codemirror_mode": {
    "name": "ipython",
    "version": 3
   },
   "file_extension": ".py",
   "mimetype": "text/x-python",
   "name": "python",
   "nbconvert_exporter": "python",
   "pygments_lexer": "ipython3",
   "version": "3.8.5"
  }
 },
 "nbformat": 4,
 "nbformat_minor": 4
}

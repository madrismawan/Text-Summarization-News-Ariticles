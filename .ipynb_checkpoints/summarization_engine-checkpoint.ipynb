{
 "cells": [
  {
   "cell_type": "code",
   "execution_count": 30,
   "metadata": {},
   "outputs": [],
   "source": [
    "import mysql.connector\n",
    "from nltk.tokenize import sent_tokenize\n",
    "import import_ipynb\n",
    "import re\n",
    "import time\n",
    "from Sastrawi.Stemmer.StemmerFactory import StemmerFactory\n",
    "import pandas as pd\n",
    "from MMR import *\n",
    "from nltk.corpus import stopwords"
   ]
  },
  {
   "cell_type": "markdown",
   "metadata": {},
   "source": [
    "# Deklarasi Connection Database"
   ]
  },
  {
   "cell_type": "markdown",
   "metadata": {},
   "source": [
    "Membuat koneksi kedatabase lokal dengan database 'db-berita-mca'"
   ]
  },
  {
   "cell_type": "code",
   "execution_count": 4,
   "metadata": {},
   "outputs": [],
   "source": [
    "mydb = mysql.connector.connect(\n",
    "    host=\"localhost\",\n",
    "    user=\"root\",\n",
    "    password=\"\",\n",
    "    database=\"db-berita-mca\"  \n",
    ") "
   ]
  },
  {
   "cell_type": "markdown",
   "metadata": {},
   "source": [
    "# Membuat Fungsi Steaming Use Sastrawi"
   ]
  },
  {
   "cell_type": "markdown",
   "metadata": {},
   "source": [
    "Membuat stemmer pakai sastrawi \n",
    "Digunakan untuk melakukan steaming kalimat (menjadi kalimat dasar Menggunakan Library Sastrawi)"
   ]
  },
  {
   "cell_type": "code",
   "execution_count": 5,
   "metadata": {},
   "outputs": [],
   "source": [
    "factory = StemmerFactory()\n",
    "stemmer = factory.create_stemmer()"
   ]
  },
  {
   "cell_type": "markdown",
   "metadata": {},
   "source": [
    "# Mengambil Data pada Database"
   ]
  },
  {
   "cell_type": "markdown",
   "metadata": {},
   "source": [
    "Mengambil data pada database,data yang diambil hanya 2 kolom saja"
   ]
  },
  {
   "cell_type": "code",
   "execution_count": 6,
   "metadata": {},
   "outputs": [
    {
     "data": {
      "text/html": [
       "<div>\n",
       "<style scoped>\n",
       "    .dataframe tbody tr th:only-of-type {\n",
       "        vertical-align: middle;\n",
       "    }\n",
       "\n",
       "    .dataframe tbody tr th {\n",
       "        vertical-align: top;\n",
       "    }\n",
       "\n",
       "    .dataframe thead th {\n",
       "        text-align: right;\n",
       "    }\n",
       "</style>\n",
       "<table border=\"1\" class=\"dataframe\">\n",
       "  <thead>\n",
       "    <tr style=\"text-align: right;\">\n",
       "      <th></th>\n",
       "      <th>id</th>\n",
       "      <th>article</th>\n",
       "    </tr>\n",
       "  </thead>\n",
       "  <tbody>\n",
       "    <tr>\n",
       "      <th>0</th>\n",
       "      <td>217</td>\n",
       "      <td>Jakarta, CNBC Indonesia - Krisis mainan jelang...</td>\n",
       "    </tr>\n",
       "    <tr>\n",
       "      <th>1</th>\n",
       "      <td>222</td>\n",
       "      <td>Jakarta, CNBC Indonesia - Aset kripto (cryptoc...</td>\n",
       "    </tr>\n",
       "    <tr>\n",
       "      <th>2</th>\n",
       "      <td>224</td>\n",
       "      <td>Jakarta, CNBC Indonesia - Internet merupakan s...</td>\n",
       "    </tr>\n",
       "    <tr>\n",
       "      <th>3</th>\n",
       "      <td>225</td>\n",
       "      <td>Jakarta, CNBC Indonesia - Asal muasal virus co...</td>\n",
       "    </tr>\n",
       "    <tr>\n",
       "      <th>4</th>\n",
       "      <td>226</td>\n",
       "      <td>Jakarta, CNBC Indonesia - Dunia mata uang krip...</td>\n",
       "    </tr>\n",
       "    <tr>\n",
       "      <th>5</th>\n",
       "      <td>227</td>\n",
       "      <td>Jakarta, CNBC Indonesia - Staples Center akan ...</td>\n",
       "    </tr>\n",
       "    <tr>\n",
       "      <th>6</th>\n",
       "      <td>228</td>\n",
       "      <td>Jakarta, CNBC Indonesia - Tren investasi kript...</td>\n",
       "    </tr>\n",
       "  </tbody>\n",
       "</table>\n",
       "</div>"
      ],
      "text/plain": [
       "    id                                            article\n",
       "0  217  Jakarta, CNBC Indonesia - Krisis mainan jelang...\n",
       "1  222  Jakarta, CNBC Indonesia - Aset kripto (cryptoc...\n",
       "2  224  Jakarta, CNBC Indonesia - Internet merupakan s...\n",
       "3  225  Jakarta, CNBC Indonesia - Asal muasal virus co...\n",
       "4  226  Jakarta, CNBC Indonesia - Dunia mata uang krip...\n",
       "5  227  Jakarta, CNBC Indonesia - Staples Center akan ...\n",
       "6  228  Jakarta, CNBC Indonesia - Tren investasi kript..."
      ]
     },
     "execution_count": 6,
     "metadata": {},
     "output_type": "execute_result"
    }
   ],
   "source": [
    "mycursor = mydb.cursor()\n",
    "mycursor.execute(\"SELECT id, content FROM tb_berita\")\n",
    "myresult = mycursor.fetchall()\n",
    "\n",
    "\n",
    "df = pd.DataFrame(myresult,columns=['id','article'])\n",
    "df"
   ]
  },
  {
   "cell_type": "code",
   "execution_count": 7,
   "metadata": {},
   "outputs": [],
   "source": [
    "def cleanData(sentence):\n",
    "    sentence = re.sub('[^A-Za-z0-9 ]+', '', sentence)\n",
    "    ret = []\n",
    "    sentence = stemmer.stem(sentence)\n",
    "    for word in sentence.split():\n",
    "        if not word in stopwords:\n",
    "            ret.append(word)\n",
    "#     print(ret)\n",
    "    return \" \".join(ret)"
   ]
  },
  {
   "cell_type": "code",
   "execution_count": 8,
   "metadata": {},
   "outputs": [],
   "source": [
    "def load_stopWords():\n",
    "    r = open(\"stopwordlist-indonesia.txt\", \"r\")\n",
    "    readTxt = r.read()\n",
    "    idStopWord = readTxt.split() \n",
    "    return idStopWord"
   ]
  },
  {
   "cell_type": "code",
   "execution_count": 31,
   "metadata": {
    "scrolled": true
   },
   "outputs": [],
   "source": [
    "def load_stopWordsNLTK():\n",
    "    stop_words = stopwords.words('indonesian')\n",
    "    return stop_words"
   ]
  },
  {
   "cell_type": "code",
   "execution_count": 33,
   "metadata": {},
   "outputs": [],
   "source": [
    "def tokenizeParagraftoKalimat(paragraf):\n",
    "    tokenize = sent_tokenize(paragraf)\n",
    "    return tokenize"
   ]
  },
  {
   "cell_type": "code",
   "execution_count": 32,
   "metadata": {},
   "outputs": [
    {
     "ename": "NameError",
     "evalue": "name 'tokenizeParagraftoKalimat' is not defined",
     "output_type": "error",
     "traceback": [
      "\u001b[1;31m---------------------------------------------------------------------------\u001b[0m",
      "\u001b[1;31mNameError\u001b[0m                                 Traceback (most recent call last)",
      "\u001b[1;32m<ipython-input-32-7d7515902d3b>\u001b[0m in \u001b[0;36m<module>\u001b[1;34m\u001b[0m\n\u001b[0;32m      2\u001b[0m \u001b[0msentences\u001b[0m \u001b[1;33m=\u001b[0m \u001b[1;33m[\u001b[0m\u001b[1;33m]\u001b[0m\u001b[1;33m\u001b[0m\u001b[1;33m\u001b[0m\u001b[0m\n\u001b[0;32m      3\u001b[0m \u001b[1;32mfor\u001b[0m \u001b[0miteration\u001b[0m\u001b[1;33m,\u001b[0m \u001b[0ms\u001b[0m \u001b[1;32min\u001b[0m \u001b[0menumerate\u001b[0m\u001b[1;33m(\u001b[0m\u001b[0mdf\u001b[0m\u001b[1;33m[\u001b[0m\u001b[1;34m'article'\u001b[0m\u001b[1;33m]\u001b[0m\u001b[1;33m)\u001b[0m\u001b[1;33m:\u001b[0m\u001b[1;33m\u001b[0m\u001b[1;33m\u001b[0m\u001b[0m\n\u001b[1;32m----> 4\u001b[1;33m     \u001b[0mtokenizeKalimat\u001b[0m \u001b[1;33m=\u001b[0m \u001b[0mtokenizeParagraftoKalimat\u001b[0m\u001b[1;33m(\u001b[0m\u001b[0ms\u001b[0m\u001b[1;33m)\u001b[0m\u001b[1;33m\u001b[0m\u001b[1;33m\u001b[0m\u001b[0m\n\u001b[0m\u001b[0;32m      5\u001b[0m \u001b[1;33m\u001b[0m\u001b[0m\n\u001b[0;32m      6\u001b[0m \u001b[1;33m\u001b[0m\u001b[0m\n",
      "\u001b[1;31mNameError\u001b[0m: name 'tokenizeParagraftoKalimat' is not defined"
     ]
    }
   ],
   "source": [
    "from nltk.tokenize import sent_tokenize\n",
    "sentences = []\n",
    "for iteration, s in enumerate(df['article']):\n",
    "    tokenizeKalimat = tokenizeParagraftoKalimat(s)\n",
    "\n",
    "    kalimat = []\n",
    "    cleansingTeks = []\n",
    "    kalimatAsli = {}\n",
    "    \n",
    "    for teks in tokenizeKalimat:\n",
    "        cleanTeks = cleanData(teks)\n",
    "        kalimat.append(teks)\n",
    "        cleansingTeks.append(cleanTeks)\n",
    "        kalimatAsli[cleanTeks] = teks\n",
    "    \n",
    "#     setClean = set(cleansingTeks)\n",
    "#     print(setClean)\n",
    "#     time.sleep(2)\n",
    "    \n",
    "    iteration = MMR()\n",
    "    score = iteration.similarityScore(cleansingTeks)\n",
    "    summarySet = iteration.calculateMMR(score,cleansingTeks)\n",
    "#     print(summarySet)\n",
    "    print ('\\nSummary (hasil teks yang diringkas):\\n')\n",
    "    for sentence in summarySet:\n",
    "        print (kalimatAsli [sentence].lstrip(' '))\n",
    "    print ('=============================================================')\n",
    "    print ('\\nOriginal Passages (Teks Asli):\\n')\n",
    "    from termcolor import colored # tools untuk membuat highlight merah\n",
    "\n",
    "    for sentence in cleansingTeks:\n",
    "        if sentence in summarySet:\n",
    "            print (colored(kalimatAsli[sentence].lstrip(' '),'red'))\n",
    "        else:\n",
    "            print (kalimatAsli[sentence].lstrip(' '))\n"
   ]
  },
  {
   "cell_type": "code",
   "execution_count": null,
   "metadata": {},
   "outputs": [],
   "source": []
  },
  {
   "cell_type": "code",
   "execution_count": null,
   "metadata": {},
   "outputs": [],
   "source": []
  },
  {
   "cell_type": "code",
   "execution_count": null,
   "metadata": {},
   "outputs": [],
   "source": []
  },
  {
   "cell_type": "code",
   "execution_count": null,
   "metadata": {},
   "outputs": [],
   "source": []
  },
  {
   "cell_type": "code",
   "execution_count": null,
   "metadata": {},
   "outputs": [],
   "source": []
  },
  {
   "cell_type": "code",
   "execution_count": null,
   "metadata": {},
   "outputs": [],
   "source": []
  },
  {
   "cell_type": "code",
   "execution_count": null,
   "metadata": {},
   "outputs": [],
   "source": []
  },
  {
   "cell_type": "code",
   "execution_count": null,
   "metadata": {},
   "outputs": [],
   "source": []
  },
  {
   "cell_type": "code",
   "execution_count": null,
   "metadata": {},
   "outputs": [],
   "source": []
  },
  {
   "cell_type": "code",
   "execution_count": null,
   "metadata": {},
   "outputs": [],
   "source": []
  },
  {
   "cell_type": "code",
   "execution_count": null,
   "metadata": {},
   "outputs": [],
   "source": []
  },
  {
   "cell_type": "code",
   "execution_count": 48,
   "metadata": {},
   "outputs": [],
   "source": [
    "mycursor = mydb.cursor()\n",
    "update = \"ganteng\"\n",
    "id = 217\n",
    "sql = \"UPDATE tb_berita SET media = %s WHERE id = %s\"\n",
    "param = (update,id)\n",
    "mycursor.execute(sql, param)\n",
    "mydb.commit()"
   ]
  },
  {
   "cell_type": "code",
   "execution_count": 40,
   "metadata": {
    "collapsed": true
   },
   "outputs": [
    {
     "name": "stdout",
     "output_type": "stream",
     "text": [
      "217\n",
      "Jakarta, CNBC Indonesia - Krisis mainan jelang Natal terjadi di Inggris. Fenomena ini terjadi karena adanya penundaan penurunan barang-barang dari kontainer di pelabuhan Inggris. Bos retail mainan The Entertainer, Gary Grant, memperingatkan penundaan ini akan mengakibatkan kekurangan stok mainan menjelang Natal. Kini stok boneka Barbie dan mainan Paw Patrol, salah satu mainan favorit anak-anak, diperkirakan akan cepat habis.    Grant mengatakan 170 tokonya terlihat \"sangat penuh sekarang\". Namun dia mengatakan permintaan \"akan melebihi ketersediaan\" karena tidak ada cukup driver untuk memindahkan stok mainan perusahaan. \"Tidak akan pernah ada toko mainan tanpa mainan. Akan ada toko mainan tanpa semua mainan yang biasanya mereka harapkan karena kelangkaan, dan itu sebagian besar karena masalah transportasi dan gudang, bukan karena kekurangan mainan,\" kata Grant, dikutip dari BBC International, Jumat (26/11/2021). Hal yang sama juga juga terjadi pada retail lain. Thomas O'Brien, direktur pelaksana desainer mainan Boxer Gifts yang berbasis di Leeds, yang memproduksi produknya di China, mengatakan ada \"banyak stok\" tetapi jadi sulit karena penundaan ini. Kini retailnya kekurangan barang-barang best seller, seperti mainan lunak sloth dan bola stres sapi yang murung. Meskipun ada mainan alternatif, O'Brien mengatakan perusahaan kehilangan waktu perencanaan enam minggu untuk mengisi kembali stok dalam waktu singkat. Dia mengatakan kontainer yang dikirim dari Qingdao, China ke Felixstowe menelan biaya US$ 15.000. Padahal tarif normal US$ 2.500 pada tahun 2020. Meski begitu, Kepala Eksekutif British Independent Retailers Association, Andrew Goodacre, mengatakan tidak perlu panik dalam membeli. Ia menyarankan pelanggan untuk memulai proses belanja normal mereka lebih awal. \"Jika Anda melihat sesuatu yang Anda inginkan, sekaranglah waktunya untuk membeli karena pengecer memiliki sebagian besar stok Natal mereka, tetapi kami tidak dapat menjamin memiliki persediaan semuanya selama beberapa minggu ke depan,\" katanya. \"Ini tantangan bagi pengecer kecil karena mereka tidak memiliki uang tunai untuk menimbun.\" Pemerintah Inggris mengatakan bahwa Felixstowe telah melaporkan \"peningkatan kapasitas selama beberapa hari terakhir\". Sebuah kemacetan peti kemas di pelabuhan, termasuk Felixstowe, dan kekurangan pengemudi truk HGV memicu kekhawatiran di kalangan retail terkait stok produk mereka. Kekurangan pengemudi berarti bahwa kontainer pengiriman sedang diturunkan tetapi dibiarkan menumpuk di dermaga menunggu pengumpulan. Kelangkaan pengemudi juga berarti ada keterlambatan pengembalian kontainer kosong untuk digunakan kembali. Pelabuhan komersial terbesar di Inggris Felixstowe mengatakan kepada BBC bahwa saat ini ada 50.000 kontainer yang menunggu untuk dikumpulkan, karena kekurangan pengemudi truk HGV. Kini pejabat di pelabuhan telah meminta jalur pelayaran untuk mengurangi stok kontainer kosong mereka secepat mungkin.  \n",
      "222\n",
      "Jakarta, CNBC Indonesia - Krisis mainan jelang Natal terjadi di Inggris. Fenomena ini terjadi karena adanya penundaan penurunan barang-barang dari kontainer di pelabuhan Inggris. Bos retail mainan The Entertainer, Gary Grant, memperingatkan penundaan ini akan mengakibatkan kekurangan stok mainan menjelang Natal. Kini stok boneka Barbie dan mainan Paw Patrol, salah satu mainan favorit anak-anak, diperkirakan akan cepat habis.    Grant mengatakan 170 tokonya terlihat \"sangat penuh sekarang\". Namun dia mengatakan permintaan \"akan melebihi ketersediaan\" karena tidak ada cukup driver untuk memindahkan stok mainan perusahaan. \"Tidak akan pernah ada toko mainan tanpa mainan. Akan ada toko mainan tanpa semua mainan yang biasanya mereka harapkan karena kelangkaan, dan itu sebagian besar karena masalah transportasi dan gudang, bukan karena kekurangan mainan,\" kata Grant, dikutip dari BBC International, Jumat (26/11/2021). Hal yang sama juga juga terjadi pada retail lain. Thomas O'Brien, direktur pelaksana desainer mainan Boxer Gifts yang berbasis di Leeds, yang memproduksi produknya di China, mengatakan ada \"banyak stok\" tetapi jadi sulit karena penundaan ini. Kini retailnya kekurangan barang-barang best seller, seperti mainan lunak sloth dan bola stres sapi yang murung. Meskipun ada mainan alternatif, O'Brien mengatakan perusahaan kehilangan waktu perencanaan enam minggu untuk mengisi kembali stok dalam waktu singkat. Dia mengatakan kontainer yang dikirim dari Qingdao, China ke Felixstowe menelan biaya US$ 15.000. Padahal tarif normal US$ 2.500 pada tahun 2020. Meski begitu, Kepala Eksekutif British Independent Retailers Association, Andrew Goodacre, mengatakan tidak perlu panik dalam membeli. Ia menyarankan pelanggan untuk memulai proses belanja normal mereka lebih awal. \"Jika Anda melihat sesuatu yang Anda inginkan, sekaranglah waktunya untuk membeli karena pengecer memiliki sebagian besar stok Natal mereka, tetapi kami tidak dapat menjamin memiliki persediaan semuanya selama beberapa minggu ke depan,\" katanya. \"Ini tantangan bagi pengecer kecil karena mereka tidak memiliki uang tunai untuk menimbun.\" Pemerintah Inggris mengatakan bahwa Felixstowe telah melaporkan \"peningkatan kapasitas selama beberapa hari terakhir\". Sebuah kemacetan peti kemas di pelabuhan, termasuk Felixstowe, dan kekurangan pengemudi truk HGV memicu kekhawatiran di kalangan retail terkait stok produk mereka. Kekurangan pengemudi berarti bahwa kontainer pengiriman sedang diturunkan tetapi dibiarkan menumpuk di dermaga menunggu pengumpulan. Kelangkaan pengemudi juga berarti ada keterlambatan pengembalian kontainer kosong untuk digunakan kembali. Pelabuhan komersial terbesar di Inggris Felixstowe mengatakan kepada BBC bahwa saat ini ada 50.000 kontainer yang menunggu untuk dikumpulkan, karena kekurangan pengemudi truk HGV. Kini pejabat di pelabuhan telah meminta jalur pelayaran untuk mengurangi stok kontainer kosong mereka secepat mungkin.  \n",
      "224\n",
      "Jakarta, CNBC Indonesia - Krisis mainan jelang Natal terjadi di Inggris. Fenomena ini terjadi karena adanya penundaan penurunan barang-barang dari kontainer di pelabuhan Inggris. Bos retail mainan The Entertainer, Gary Grant, memperingatkan penundaan ini akan mengakibatkan kekurangan stok mainan menjelang Natal. Kini stok boneka Barbie dan mainan Paw Patrol, salah satu mainan favorit anak-anak, diperkirakan akan cepat habis.    Grant mengatakan 170 tokonya terlihat \"sangat penuh sekarang\". Namun dia mengatakan permintaan \"akan melebihi ketersediaan\" karena tidak ada cukup driver untuk memindahkan stok mainan perusahaan. \"Tidak akan pernah ada toko mainan tanpa mainan. Akan ada toko mainan tanpa semua mainan yang biasanya mereka harapkan karena kelangkaan, dan itu sebagian besar karena masalah transportasi dan gudang, bukan karena kekurangan mainan,\" kata Grant, dikutip dari BBC International, Jumat (26/11/2021). Hal yang sama juga juga terjadi pada retail lain. Thomas O'Brien, direktur pelaksana desainer mainan Boxer Gifts yang berbasis di Leeds, yang memproduksi produknya di China, mengatakan ada \"banyak stok\" tetapi jadi sulit karena penundaan ini. Kini retailnya kekurangan barang-barang best seller, seperti mainan lunak sloth dan bola stres sapi yang murung. Meskipun ada mainan alternatif, O'Brien mengatakan perusahaan kehilangan waktu perencanaan enam minggu untuk mengisi kembali stok dalam waktu singkat. Dia mengatakan kontainer yang dikirim dari Qingdao, China ke Felixstowe menelan biaya US$ 15.000. Padahal tarif normal US$ 2.500 pada tahun 2020. Meski begitu, Kepala Eksekutif British Independent Retailers Association, Andrew Goodacre, mengatakan tidak perlu panik dalam membeli. Ia menyarankan pelanggan untuk memulai proses belanja normal mereka lebih awal. \"Jika Anda melihat sesuatu yang Anda inginkan, sekaranglah waktunya untuk membeli karena pengecer memiliki sebagian besar stok Natal mereka, tetapi kami tidak dapat menjamin memiliki persediaan semuanya selama beberapa minggu ke depan,\" katanya. \"Ini tantangan bagi pengecer kecil karena mereka tidak memiliki uang tunai untuk menimbun.\" Pemerintah Inggris mengatakan bahwa Felixstowe telah melaporkan \"peningkatan kapasitas selama beberapa hari terakhir\". Sebuah kemacetan peti kemas di pelabuhan, termasuk Felixstowe, dan kekurangan pengemudi truk HGV memicu kekhawatiran di kalangan retail terkait stok produk mereka. Kekurangan pengemudi berarti bahwa kontainer pengiriman sedang diturunkan tetapi dibiarkan menumpuk di dermaga menunggu pengumpulan. Kelangkaan pengemudi juga berarti ada keterlambatan pengembalian kontainer kosong untuk digunakan kembali. Pelabuhan komersial terbesar di Inggris Felixstowe mengatakan kepada BBC bahwa saat ini ada 50.000 kontainer yang menunggu untuk dikumpulkan, karena kekurangan pengemudi truk HGV. Kini pejabat di pelabuhan telah meminta jalur pelayaran untuk mengurangi stok kontainer kosong mereka secepat mungkin.  \n",
      "225\n"
     ]
    },
    {
     "name": "stdout",
     "output_type": "stream",
     "text": [
      "Jakarta, CNBC Indonesia - Krisis mainan jelang Natal terjadi di Inggris. Fenomena ini terjadi karena adanya penundaan penurunan barang-barang dari kontainer di pelabuhan Inggris. Bos retail mainan The Entertainer, Gary Grant, memperingatkan penundaan ini akan mengakibatkan kekurangan stok mainan menjelang Natal. Kini stok boneka Barbie dan mainan Paw Patrol, salah satu mainan favorit anak-anak, diperkirakan akan cepat habis.    Grant mengatakan 170 tokonya terlihat \"sangat penuh sekarang\". Namun dia mengatakan permintaan \"akan melebihi ketersediaan\" karena tidak ada cukup driver untuk memindahkan stok mainan perusahaan. \"Tidak akan pernah ada toko mainan tanpa mainan. Akan ada toko mainan tanpa semua mainan yang biasanya mereka harapkan karena kelangkaan, dan itu sebagian besar karena masalah transportasi dan gudang, bukan karena kekurangan mainan,\" kata Grant, dikutip dari BBC International, Jumat (26/11/2021). Hal yang sama juga juga terjadi pada retail lain. Thomas O'Brien, direktur pelaksana desainer mainan Boxer Gifts yang berbasis di Leeds, yang memproduksi produknya di China, mengatakan ada \"banyak stok\" tetapi jadi sulit karena penundaan ini. Kini retailnya kekurangan barang-barang best seller, seperti mainan lunak sloth dan bola stres sapi yang murung. Meskipun ada mainan alternatif, O'Brien mengatakan perusahaan kehilangan waktu perencanaan enam minggu untuk mengisi kembali stok dalam waktu singkat. Dia mengatakan kontainer yang dikirim dari Qingdao, China ke Felixstowe menelan biaya US$ 15.000. Padahal tarif normal US$ 2.500 pada tahun 2020. Meski begitu, Kepala Eksekutif British Independent Retailers Association, Andrew Goodacre, mengatakan tidak perlu panik dalam membeli. Ia menyarankan pelanggan untuk memulai proses belanja normal mereka lebih awal. \"Jika Anda melihat sesuatu yang Anda inginkan, sekaranglah waktunya untuk membeli karena pengecer memiliki sebagian besar stok Natal mereka, tetapi kami tidak dapat menjamin memiliki persediaan semuanya selama beberapa minggu ke depan,\" katanya. \"Ini tantangan bagi pengecer kecil karena mereka tidak memiliki uang tunai untuk menimbun.\" Pemerintah Inggris mengatakan bahwa Felixstowe telah melaporkan \"peningkatan kapasitas selama beberapa hari terakhir\". Sebuah kemacetan peti kemas di pelabuhan, termasuk Felixstowe, dan kekurangan pengemudi truk HGV memicu kekhawatiran di kalangan retail terkait stok produk mereka. Kekurangan pengemudi berarti bahwa kontainer pengiriman sedang diturunkan tetapi dibiarkan menumpuk di dermaga menunggu pengumpulan. Kelangkaan pengemudi juga berarti ada keterlambatan pengembalian kontainer kosong untuk digunakan kembali. Pelabuhan komersial terbesar di Inggris Felixstowe mengatakan kepada BBC bahwa saat ini ada 50.000 kontainer yang menunggu untuk dikumpulkan, karena kekurangan pengemudi truk HGV. Kini pejabat di pelabuhan telah meminta jalur pelayaran untuk mengurangi stok kontainer kosong mereka secepat mungkin.  \n",
      "226\n",
      "Jakarta, CNBC Indonesia - Krisis mainan jelang Natal terjadi di Inggris. Fenomena ini terjadi karena adanya penundaan penurunan barang-barang dari kontainer di pelabuhan Inggris. Bos retail mainan The Entertainer, Gary Grant, memperingatkan penundaan ini akan mengakibatkan kekurangan stok mainan menjelang Natal. Kini stok boneka Barbie dan mainan Paw Patrol, salah satu mainan favorit anak-anak, diperkirakan akan cepat habis.    Grant mengatakan 170 tokonya terlihat \"sangat penuh sekarang\". Namun dia mengatakan permintaan \"akan melebihi ketersediaan\" karena tidak ada cukup driver untuk memindahkan stok mainan perusahaan. \"Tidak akan pernah ada toko mainan tanpa mainan. Akan ada toko mainan tanpa semua mainan yang biasanya mereka harapkan karena kelangkaan, dan itu sebagian besar karena masalah transportasi dan gudang, bukan karena kekurangan mainan,\" kata Grant, dikutip dari BBC International, Jumat (26/11/2021). Hal yang sama juga juga terjadi pada retail lain. Thomas O'Brien, direktur pelaksana desainer mainan Boxer Gifts yang berbasis di Leeds, yang memproduksi produknya di China, mengatakan ada \"banyak stok\" tetapi jadi sulit karena penundaan ini. Kini retailnya kekurangan barang-barang best seller, seperti mainan lunak sloth dan bola stres sapi yang murung. Meskipun ada mainan alternatif, O'Brien mengatakan perusahaan kehilangan waktu perencanaan enam minggu untuk mengisi kembali stok dalam waktu singkat. Dia mengatakan kontainer yang dikirim dari Qingdao, China ke Felixstowe menelan biaya US$ 15.000. Padahal tarif normal US$ 2.500 pada tahun 2020. Meski begitu, Kepala Eksekutif British Independent Retailers Association, Andrew Goodacre, mengatakan tidak perlu panik dalam membeli. Ia menyarankan pelanggan untuk memulai proses belanja normal mereka lebih awal. \"Jika Anda melihat sesuatu yang Anda inginkan, sekaranglah waktunya untuk membeli karena pengecer memiliki sebagian besar stok Natal mereka, tetapi kami tidak dapat menjamin memiliki persediaan semuanya selama beberapa minggu ke depan,\" katanya. \"Ini tantangan bagi pengecer kecil karena mereka tidak memiliki uang tunai untuk menimbun.\" Pemerintah Inggris mengatakan bahwa Felixstowe telah melaporkan \"peningkatan kapasitas selama beberapa hari terakhir\". Sebuah kemacetan peti kemas di pelabuhan, termasuk Felixstowe, dan kekurangan pengemudi truk HGV memicu kekhawatiran di kalangan retail terkait stok produk mereka. Kekurangan pengemudi berarti bahwa kontainer pengiriman sedang diturunkan tetapi dibiarkan menumpuk di dermaga menunggu pengumpulan. Kelangkaan pengemudi juga berarti ada keterlambatan pengembalian kontainer kosong untuk digunakan kembali. Pelabuhan komersial terbesar di Inggris Felixstowe mengatakan kepada BBC bahwa saat ini ada 50.000 kontainer yang menunggu untuk dikumpulkan, karena kekurangan pengemudi truk HGV. Kini pejabat di pelabuhan telah meminta jalur pelayaran untuk mengurangi stok kontainer kosong mereka secepat mungkin.  \n",
      "227\n"
     ]
    },
    {
     "ename": "KeyboardInterrupt",
     "evalue": "",
     "output_type": "error",
     "traceback": [
      "\u001b[1;31m---------------------------------------------------------------------------\u001b[0m",
      "\u001b[1;31mKeyboardInterrupt\u001b[0m                         Traceback (most recent call last)",
      "\u001b[1;32m<ipython-input-40-83bbacdfbf6a>\u001b[0m in \u001b[0;36m<module>\u001b[1;34m\u001b[0m\n\u001b[0;32m      2\u001b[0m     \u001b[1;32mfor\u001b[0m \u001b[0mid\u001b[0m \u001b[1;32min\u001b[0m \u001b[0mdf\u001b[0m\u001b[1;33m[\u001b[0m\u001b[1;34m'id'\u001b[0m\u001b[1;33m]\u001b[0m\u001b[1;33m:\u001b[0m\u001b[1;33m\u001b[0m\u001b[1;33m\u001b[0m\u001b[0m\n\u001b[0;32m      3\u001b[0m         \u001b[0mprint\u001b[0m\u001b[1;33m(\u001b[0m\u001b[0mid\u001b[0m\u001b[1;33m)\u001b[0m\u001b[1;33m\u001b[0m\u001b[1;33m\u001b[0m\u001b[0m\n\u001b[1;32m----> 4\u001b[1;33m         \u001b[0mtime\u001b[0m\u001b[1;33m.\u001b[0m\u001b[0msleep\u001b[0m\u001b[1;33m(\u001b[0m\u001b[1;36m3\u001b[0m\u001b[1;33m)\u001b[0m\u001b[1;33m\u001b[0m\u001b[1;33m\u001b[0m\u001b[0m\n\u001b[0m\u001b[0;32m      5\u001b[0m         \u001b[0mprint\u001b[0m\u001b[1;33m(\u001b[0m\u001b[0ms\u001b[0m\u001b[1;33m)\u001b[0m\u001b[1;33m\u001b[0m\u001b[1;33m\u001b[0m\u001b[0m\n",
      "\u001b[1;31mKeyboardInterrupt\u001b[0m: "
     ]
    }
   ],
   "source": [
    "for iteration, s in enumerate(df['article']):\n",
    "    for id in df['id']:\n",
    "        print(id)\n",
    "        time.sleep(3)\n",
    "        print(s)"
   ]
  }
 ],
 "metadata": {
  "kernelspec": {
   "display_name": "Python 3",
   "language": "python",
   "name": "python3"
  },
  "language_info": {
   "codemirror_mode": {
    "name": "ipython",
    "version": 3
   },
   "file_extension": ".py",
   "mimetype": "text/x-python",
   "name": "python",
   "nbconvert_exporter": "python",
   "pygments_lexer": "ipython3",
   "version": "3.8.5"
  }
 },
 "nbformat": 4,
 "nbformat_minor": 4
}

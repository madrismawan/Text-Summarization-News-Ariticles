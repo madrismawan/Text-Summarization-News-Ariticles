{
 "cells": [
  {
   "cell_type": "code",
   "execution_count": 1,
   "metadata": {},
   "outputs": [
    {
     "name": "stdout",
     "output_type": "stream",
     "text": [
      "importing Jupyter notebook from MMR.ipynb\n"
     ]
    }
   ],
   "source": [
    "import mysql.connector\n",
    "from nltk.tokenize import sent_tokenize\n",
    "import import_ipynb\n",
    "import re\n",
    "from Sastrawi.Stemmer.StemmerFactory import StemmerFactory\n",
    "import pandas as pd\n",
    "from MMR import *\n",
    "from nltk.corpus import stopwords\n",
    "import string\n",
    "from termcolor import colored\n",
    "import time"
   ]
  },
  {
   "cell_type": "markdown",
   "metadata": {},
   "source": [
    "# Deklarasi Connection Database"
   ]
  },
  {
   "cell_type": "markdown",
   "metadata": {},
   "source": [
    "Membuat koneksi kedatabase lokal dengan database 'db-berita-mca'"
   ]
  },
  {
   "cell_type": "code",
   "execution_count": 2,
   "metadata": {},
   "outputs": [],
   "source": [
    "mydb = mysql.connector.connect(\n",
    "    host=\"localhost\",\n",
    "    user=\"root\",\n",
    "    password=\"\",\n",
    "    database=\"db-berita-mca\"  \n",
    ") "
   ]
  },
  {
   "cell_type": "markdown",
   "metadata": {},
   "source": [
    "# Membuat Fungsi Steaming Use Sastrawi"
   ]
  },
  {
   "cell_type": "markdown",
   "metadata": {},
   "source": [
    "Membuat stemmer pakai sastrawi \n",
    "Digunakan untuk melakukan steaming kalimat (menjadi kalimat dasar Menggunakan Library Sastrawi)"
   ]
  },
  {
   "cell_type": "code",
   "execution_count": 3,
   "metadata": {},
   "outputs": [],
   "source": [
    "factory = StemmerFactory()\n",
    "stemmer = factory.create_stemmer()"
   ]
  },
  {
   "cell_type": "markdown",
   "metadata": {},
   "source": [
    "# Mengambil Data pada Database"
   ]
  },
  {
   "cell_type": "markdown",
   "metadata": {},
   "source": [
    "Mengambil data pada database,data yang diambil hanya 2 kolom saja"
   ]
  },
  {
   "cell_type": "code",
   "execution_count": 4,
   "metadata": {},
   "outputs": [
    {
     "data": {
      "text/html": [
       "<div>\n",
       "<style scoped>\n",
       "    .dataframe tbody tr th:only-of-type {\n",
       "        vertical-align: middle;\n",
       "    }\n",
       "\n",
       "    .dataframe tbody tr th {\n",
       "        vertical-align: top;\n",
       "    }\n",
       "\n",
       "    .dataframe thead th {\n",
       "        text-align: right;\n",
       "    }\n",
       "</style>\n",
       "<table border=\"1\" class=\"dataframe\">\n",
       "  <thead>\n",
       "    <tr style=\"text-align: right;\">\n",
       "      <th></th>\n",
       "      <th>id</th>\n",
       "      <th>article</th>\n",
       "    </tr>\n",
       "  </thead>\n",
       "  <tbody>\n",
       "    <tr>\n",
       "      <th>0</th>\n",
       "      <td>217</td>\n",
       "      <td>Jakarta, CNBC Indonesia - Krisis mainan jelang...</td>\n",
       "    </tr>\n",
       "    <tr>\n",
       "      <th>1</th>\n",
       "      <td>222</td>\n",
       "      <td>Jakarta, CNBC Indonesia - Aset kripto (cryptoc...</td>\n",
       "    </tr>\n",
       "    <tr>\n",
       "      <th>2</th>\n",
       "      <td>224</td>\n",
       "      <td>Jakarta, CNBC Indonesia - Internet merupakan s...</td>\n",
       "    </tr>\n",
       "    <tr>\n",
       "      <th>3</th>\n",
       "      <td>225</td>\n",
       "      <td>Jakarta, CNBC Indonesia - Asal muasal virus co...</td>\n",
       "    </tr>\n",
       "    <tr>\n",
       "      <th>4</th>\n",
       "      <td>226</td>\n",
       "      <td>Jakarta, CNBC Indonesia - Dunia mata uang krip...</td>\n",
       "    </tr>\n",
       "    <tr>\n",
       "      <th>5</th>\n",
       "      <td>227</td>\n",
       "      <td>Jakarta, CNBC Indonesia - Staples Center akan ...</td>\n",
       "    </tr>\n",
       "    <tr>\n",
       "      <th>6</th>\n",
       "      <td>228</td>\n",
       "      <td>Jakarta, CNBC Indonesia - Tren investasi kript...</td>\n",
       "    </tr>\n",
       "  </tbody>\n",
       "</table>\n",
       "</div>"
      ],
      "text/plain": [
       "    id                                            article\n",
       "0  217  Jakarta, CNBC Indonesia - Krisis mainan jelang...\n",
       "1  222  Jakarta, CNBC Indonesia - Aset kripto (cryptoc...\n",
       "2  224  Jakarta, CNBC Indonesia - Internet merupakan s...\n",
       "3  225  Jakarta, CNBC Indonesia - Asal muasal virus co...\n",
       "4  226  Jakarta, CNBC Indonesia - Dunia mata uang krip...\n",
       "5  227  Jakarta, CNBC Indonesia - Staples Center akan ...\n",
       "6  228  Jakarta, CNBC Indonesia - Tren investasi kript..."
      ]
     },
     "execution_count": 4,
     "metadata": {},
     "output_type": "execute_result"
    }
   ],
   "source": [
    "mycursor = mydb.cursor()\n",
    "mycursor.execute(\"SELECT id, content FROM tb_berita\")\n",
    "myresult = mycursor.fetchall()\n",
    "\n",
    "df = pd.DataFrame(myresult,columns=['id','article'])\n",
    "df"
   ]
  },
  {
   "cell_type": "markdown",
   "metadata": {},
   "source": [
    "# Load Data Stopword Lib & File Internal"
   ]
  },
  {
   "cell_type": "markdown",
   "metadata": {},
   "source": [
    "Mengambil data stopword bahasa indonesia yang pertama menggunakan file list dari stop word 917 dan menggunakan library nltk sebanyak panjang data 789"
   ]
  },
  {
   "cell_type": "code",
   "execution_count": 5,
   "metadata": {},
   "outputs": [],
   "source": [
    "def load_stopWords():\n",
    "    r = open(\"stopwordlist-indonesia.txt\", \"r\")\n",
    "    readTxt = r.read()\n",
    "    idStopWord = readTxt.split() \n",
    "    return idStopWord"
   ]
  },
  {
   "cell_type": "code",
   "execution_count": 6,
   "metadata": {
    "scrolled": true
   },
   "outputs": [],
   "source": [
    "def load_stopWordsNLTK():\n",
    "    stop_words = stopwords.words('indonesian')\n",
    "    return stop_words"
   ]
  },
  {
   "cell_type": "markdown",
   "metadata": {},
   "source": [
    "# Simpan hasil summary ke database"
   ]
  },
  {
   "cell_type": "markdown",
   "metadata": {},
   "source": [
    "Menyimpan data yang telah dihasilakan melalui summary ke database dengan cara mengupdate data tersebut dan memasukan text summary pada field tersebut"
   ]
  },
  {
   "cell_type": "code",
   "execution_count": 7,
   "metadata": {},
   "outputs": [],
   "source": [
    "def simpanSummary(mydb,summary,id):\n",
    "    mycursor = mydb.cursor()\n",
    "    id = int(id)\n",
    "    sql = \"UPDATE tb_berita SET summary = %s WHERE id = %s\"\n",
    "    param = (summary,id)\n",
    "    mycursor.execute(sql, param)\n",
    "    mydb.commit()"
   ]
  },
  {
   "cell_type": "markdown",
   "metadata": {},
   "source": [
    "# Proses Text Preprocessing "
   ]
  },
  {
   "cell_type": "markdown",
   "metadata": {},
   "source": [
    "[tokenizeParagraftoKalimat, cleansingData, steamingData, indoStopWord]\n",
    "\n",
    "Fungsi diatas merupakan fungsi yang digunakan untuk melakukan preprocessing article sebuah berita, penjelasan mengenai fungsi akan dijelaskan lebih lanjut"
   ]
  },
  {
   "cell_type": "markdown",
   "metadata": {},
   "source": [
    "[tokenizeParagraftoKalimat]\n",
    "\n",
    "berfungsi sebagai tokenize pargraf menjadi bagian perkalimat "
   ]
  },
  {
   "cell_type": "code",
   "execution_count": 8,
   "metadata": {},
   "outputs": [],
   "source": [
    "def tokenizeParagraftoKalimat(paragraf):\n",
    "    tokenize = sent_tokenize(paragraf)\n",
    "    return tokenize"
   ]
  },
  {
   "cell_type": "markdown",
   "metadata": {},
   "source": [
    "[cleansingData]\n",
    "\n",
    "berfungsi sebagai membersihkan data dari huruf tanda petik dan masih kata besar atau keceil"
   ]
  },
  {
   "cell_type": "code",
   "execution_count": 9,
   "metadata": {},
   "outputs": [],
   "source": [
    "def cleansingData(text):\n",
    "    hasil = re.sub('[^A-Za-z0-9 ]+', '', text)\n",
    "    hasil = hasil.translate(str.maketrans(\"\",\"\",string.punctuation))\n",
    "    return hasil"
   ]
  },
  {
   "cell_type": "markdown",
   "metadata": {},
   "source": [
    "[steamingData]\n",
    "\n",
    "berguna sebagai menjadikan kata dasar sebuah kalimat dan fungsi stemmer tersebut sekaligus menjadikan kalimat menjadi lower atau huruf kecil"
   ]
  },
  {
   "cell_type": "code",
   "execution_count": 10,
   "metadata": {},
   "outputs": [],
   "source": [
    "def steamingData(text):\n",
    "    steamingData = stemmer.stem(text)\n",
    "    return steamingData"
   ]
  },
  {
   "cell_type": "markdown",
   "metadata": {},
   "source": [
    "[indoStopWord]\n",
    "\n",
    "berguna dalam menghilangkan kata sambung atau tidak diperlukan, ini berfungsi dlam menghitung kesamaan antar kalimat pada algoritma MMR agar lebih mudah dan mendapatkan hasil yang akurat (Lib NLTK & List Stopword)"
   ]
  },
  {
   "cell_type": "code",
   "execution_count": 11,
   "metadata": {},
   "outputs": [],
   "source": [
    "def indoStopWord(stopNLTK, stopTxt, kalimat):\n",
    "    hasilStopWord = []\n",
    "    for kata in kalimat.split():\n",
    "        if not kata in stopNLTK:\n",
    "            if not kata in stopTxt:\n",
    "                hasilStopWord.append(kata)\n",
    "    return \" \".join(hasilStopWord)"
   ]
  },
  {
   "cell_type": "markdown",
   "metadata": {},
   "source": [
    "[hasilSummary]\n",
    "\n",
    "fungsi yang berguna dalam menampilkan hasil summarization pada algoritma MMR"
   ]
  },
  {
   "cell_type": "code",
   "execution_count": 12,
   "metadata": {},
   "outputs": [],
   "source": [
    "def hasilSummary(kalimatAsli, summarySet):\n",
    "    hasil = []\n",
    "    for sentence in summarySet:\n",
    "        hasil.append(kalimatAsli [sentence].lstrip(' ')) \n",
    "    return \" \".join(hasil)"
   ]
  },
  {
   "cell_type": "markdown",
   "metadata": {},
   "source": [
    "[visualisasiSummaryOri]\n",
    "\n",
    "menampilkan visualisasi yang sangat berguna dalam mengetahui kata mana saja yang dipakai atau ditampilkan pada summarization"
   ]
  },
  {
   "cell_type": "code",
   "execution_count": 13,
   "metadata": {},
   "outputs": [],
   "source": [
    "def visualisasiSummaryOri(cleansingTeks,summarySet,kalimatAsli):\n",
    "    for sentence in cleansingTeks:\n",
    "        if sentence in summarySet:\n",
    "            print(colored(kalimatAsli[sentence].lstrip(' '),'red'))\n",
    "        else:\n",
    "            print(kalimatAsli[sentence].lstrip(' '))"
   ]
  },
  {
   "cell_type": "markdown",
   "metadata": {},
   "source": [
    "bisa dibilang sebagai code utama, dimana disini tempat menjalankan semua code dengan melakukan pemanggilan semua fungsi dan class algoritam MMR "
   ]
  },
  {
   "cell_type": "code",
   "execution_count": 14,
   "metadata": {},
   "outputs": [
    {
     "name": "stdout",
     "output_type": "stream",
     "text": [
      "\n",
      "Summary dari Berita ID : 217 (hasil teks yang diringkas):\n",
      "\n",
      "Bos retail mainan The Entertainer, Gary Grant, memperingatkan penundaan ini akan mengakibatkan kekurangan stok mainan menjelang Natal. Pelabuhan komersial terbesar di Inggris Felixstowe mengatakan kepada BBC bahwa saat ini ada 50.000 kontainer yang menunggu untuk dikumpulkan, karena kekurangan pengemudi truk HGV. Kini stok boneka Barbie dan mainan Paw Patrol, salah satu mainan favorit anak-anak, diperkirakan akan cepat habis. \"Ini tantangan bagi pengecer kecil karena mereka tidak memiliki uang tunai untuk menimbun.\" Padahal tarif normal US$ 2.500 pada tahun 2020.\n",
      "=============================================================\n",
      "\\Oringinal Article (Teks Asli):\n",
      "\n",
      "Jakarta, CNBC Indonesia - Krisis mainan jelang Natal terjadi di Inggris.\n",
      "Fenomena ini terjadi karena adanya penundaan penurunan barang-barang dari kontainer di pelabuhan Inggris.\n",
      "\u001b[31mBos retail mainan The Entertainer, Gary Grant, memperingatkan penundaan ini akan mengakibatkan kekurangan stok mainan menjelang Natal.\u001b[0m\n",
      "\u001b[31mKini stok boneka Barbie dan mainan Paw Patrol, salah satu mainan favorit anak-anak, diperkirakan akan cepat habis.\u001b[0m\n",
      "Grant mengatakan 170 tokonya terlihat \"sangat penuh sekarang\".\n",
      "Namun dia mengatakan permintaan \"akan melebihi ketersediaan\" karena tidak ada cukup driver untuk memindahkan stok mainan perusahaan.\n",
      "\"Tidak akan pernah ada toko mainan tanpa mainan.\n",
      "Akan ada toko mainan tanpa semua mainan yang biasanya mereka harapkan karena kelangkaan, dan itu sebagian besar karena masalah transportasi dan gudang, bukan karena kekurangan mainan,\" kata Grant, dikutip dari BBC International, Jumat (26/11/2021).\n",
      "Hal yang sama juga juga terjadi pada retail lain.\n",
      "Thomas O'Brien, direktur pelaksana desainer mainan Boxer Gifts yang berbasis di Leeds, yang memproduksi produknya di China, mengatakan ada \"banyak stok\" tetapi jadi sulit karena penundaan ini.\n",
      "Kini retailnya kekurangan barang-barang best seller, seperti mainan lunak sloth dan bola stres sapi yang murung.\n",
      "Meskipun ada mainan alternatif, O'Brien mengatakan perusahaan kehilangan waktu perencanaan enam minggu untuk mengisi kembali stok dalam waktu singkat.\n",
      "Dia mengatakan kontainer yang dikirim dari Qingdao, China ke Felixstowe menelan biaya US$ 15.000.\n",
      "\u001b[31mPadahal tarif normal US$ 2.500 pada tahun 2020.\u001b[0m\n",
      "Meski begitu, Kepala Eksekutif British Independent Retailers Association, Andrew Goodacre, mengatakan tidak perlu panik dalam membeli.\n",
      "Ia menyarankan pelanggan untuk memulai proses belanja normal mereka lebih awal.\n",
      "\"Jika Anda melihat sesuatu yang Anda inginkan, sekaranglah waktunya untuk membeli karena pengecer memiliki sebagian besar stok Natal mereka, tetapi kami tidak dapat menjamin memiliki persediaan semuanya selama beberapa minggu ke depan,\" katanya.\n",
      "\u001b[31m\"Ini tantangan bagi pengecer kecil karena mereka tidak memiliki uang tunai untuk menimbun.\"\u001b[0m\n",
      "Pemerintah Inggris mengatakan bahwa Felixstowe telah melaporkan \"peningkatan kapasitas selama beberapa hari terakhir\".\n",
      "Sebuah kemacetan peti kemas di pelabuhan, termasuk Felixstowe, dan kekurangan pengemudi truk HGV memicu kekhawatiran di kalangan retail terkait stok produk mereka.\n",
      "Kekurangan pengemudi berarti bahwa kontainer pengiriman sedang diturunkan tetapi dibiarkan menumpuk di dermaga menunggu pengumpulan.\n",
      "Kelangkaan pengemudi juga berarti ada keterlambatan pengembalian kontainer kosong untuk digunakan kembali.\n",
      "\u001b[31mPelabuhan komersial terbesar di Inggris Felixstowe mengatakan kepada BBC bahwa saat ini ada 50.000 kontainer yang menunggu untuk dikumpulkan, karena kekurangan pengemudi truk HGV.\u001b[0m\n",
      "Kini pejabat di pelabuhan telah meminta jalur pelayaran untuk mengurangi stok kontainer kosong mereka secepat mungkin.\n",
      "\n",
      "Summary dari Berita ID : 222 (hasil teks yang diringkas):\n",
      "\n",
      "Jakarta, CNBC Indonesia - Aset kripto (cryptocurrency) mengalami pekan yang berat, setelah mayoritas koin berkapitalisasi pasar besar (big cap) ambles seiring adanya kabar buruk lagi untuk bitcoin yang datang dari China dan sentimen negatif lainnya. Dalam sepekan ini, kripto WAX (WAXP) menjadi jawara dengan melonjak 52,93%. Namun, beberapa analis melihat pelemahan saat ini bisa menjadi tanda peringatan penurunan harga BTC lebih lanjut. Perubahan nama itu akan berlaku pada Hari Natal, saat Lakers menjamu Brooklyn Nets. Dogecoin naik 2,36%, sedangkan Shiba Inu melesat 9,24% hari ini. Dari Negeri Paman Sam AS, beberapa analis menilai bahwa kembali terkoreksinya pasar kripto pada hari ini karena perkembangan peraturan terkait industri kripto.\n",
      "=============================================================\n",
      "\\Oringinal Article (Teks Asli):\n",
      "\n",
      "\u001b[31mJakarta, CNBC Indonesia - Aset kripto (cryptocurrency) mengalami pekan yang berat, setelah mayoritas koin berkapitalisasi pasar besar (big cap) ambles seiring adanya kabar buruk lagi untuk bitcoin yang datang dari China dan sentimen negatif lainnya.\u001b[0m\n",
      "Menurut data Coinmarketcap.com, koin kripto dengan kapitalisasi pasar (market cap) terjumbo bitcoin ambles 8,26% dalam sepekan terakhir.\n",
      "Namun, hari ini koin kripto pertama itu berhasil rebound 2,71% ke US$ 58.701,17.\n",
      "Kemudian, koin kripto terbesar kedua ethereum juga anjlok 7,72% dalam seminggu dan mencoba pulih dengan naik 3,71% ke US$ 4.309,87.\n",
      "10 Besar Kripto Big Cap (Tanpa Stablecoin, seperti Tether) Nama Kode Harga Terakhir (US$) % 24 Jam % Sepekan Bitcoin BTC 58,701.17 2.71 -8.26 Ethereum ETH 43,09.87 3.71 -7.72 Binance Coin BNB 586.71 4.23 -7.11 Solana SOL 216.89 6.15 -4.8 Cardano ADA 1.88 3.02 -8.66 XRP XRP 1.09 2.28 -8.32 Polkadot DOT 41.77 3.91 -8.87 Dogecoin DOGE 0.2332 2.36 -9.06 SHIBA INU SHIB 0.00004869 9.24 -5.03 Avalanche AVAX 118.37 10.31 34.84 Sumber: Coinmarketcap.com | Harga terakhir per 20 November 2021, pukul 16.17 WIB Tidak hanya duo bitcoin dan ethereum, duo token meme berlogo anjing asal Jepang dengan market cap terbesar, DOGE dan SHIB pun ambles masing-masing 9,05% dan 5,03%.\n",
      "Seperti bitcoin dan ethereum, keduanya mencoba rebound hari ini.\n",
      "\u001b[31mDogecoin naik 2,36%, sedangkan Shiba Inu melesat 9,24% hari ini.\u001b[0m\n",
      "\u001b[31mDalam sepekan ini, kripto WAX (WAXP) menjadi jawara dengan melonjak 52,93%.\u001b[0m\n",
      "Koin Crypto.com (CRO) juga menjadi idola investor kripto selama sepekan ini dengan melejit 45,07%.\n",
      "Melesatnya CRO terjadi seiring platform perdagangan cryptocurrency ini mendapatkan kesepakatan kontrak 20 tahun senilai US$ 700 juta dengan Anschutz Entertainment Group (AEG) untuk membeli hak penamaan Staples Center di Los Angeles, kandang tim bola basket Amerika Serikat (AS) Los Angeles Lakers.\n",
      "\u001b[31mPerubahan nama itu akan berlaku pada Hari Natal, saat Lakers menjamu Brooklyn Nets.\u001b[0m\n",
      "Sementara, kripto 'pecundang' sepekan disematkan kepada token OMG Network (OMG) yang ambles 18,62%.\n",
      "Adapun koin 'jagoan' selama 24 jam terakhir adalah Immutable X (IMX) yang terkerek naik 33,25%, sedangkan Kadena (KDA) menjadi top losers dengan turun 4,26%.\n",
      "Melansir Coindesk, sentimen pasar tampaknya masih bearish/sideways jangka pendek.\n",
      "\"Orang-orang terus-menerus menjual BTC di pasar berjangka,\" Ki Young Ju, CEO CryptoQuant, menulis dalam sebuah posting blog pada Jumat (19/11) dilansir Coindesk.\n",
      "Dari perspektif teknikal, tren naik jangka panjang bitcoin tetap terjaga selama BTC berada di atas level support US$ 53.000.\n",
      "\u001b[31mNamun, beberapa analis melihat pelemahan saat ini bisa menjadi tanda peringatan penurunan harga BTC lebih lanjut.\u001b[0m\n",
      "\"Penurunan total kapitalisasi pasar 5% lagi akan menandakan dimulainya bearish market, dengan asumsi cryptocurrency menganut hukum psikologi yang sama yang mendukung analisis teknikal,\" Alex Kuptsikevich, seorang analis di FxPro, menulis kepada CoinDesk.\n",
      "Sentimen negatif kripto sepanjang pekan ini berasal dari Timur sampai Barat, yakni dari China dan AS.\n",
      "Pemerintahan Ji Xinping benar-benar mau mematikan cryptocurrency seperti Bitcoin, Ethereum, dan Dogecoin.\n",
      "Setelah menutup akses masyarakat ke uang kripto, kini China mengambil tindakan keras pada aktivitas penambangan kripto.\n",
      "Juru Bicara National Development and Reform Commission (NDRC) Meng Wei mengatakan pihaknya akan meluncurkan tindakan keras \"skala penuh\" pada penambangan cryptocurrency dengan berfokus pada penambangan komersial dan peran perusahaan milik negara dalam industri.\n",
      "Sebagai bagian tindakan tegas, NDRC bakal menaikkan tarif listrik untuk institusi mana pun yang ditemukan menyalahgunakan akses ke listrik bersubsidi untuk berpartisipasi dalam penambangan kripto.\n",
      "China diketahui memberikan subsidi tarif listrik pada sekolah, pusat komunitas atau lembaga kesejahteraan masyarakat lainnya.\n",
      "\u001b[31mDari Negeri Paman Sam AS, beberapa analis menilai bahwa kembali terkoreksinya pasar kripto pada hari ini karena perkembangan peraturan terkait industri kripto.\u001b[0m\n",
      "\"Pejabat bank sentral mengatakan perubahan tren dan perkembangan di sisi peraturan serta moneter juga dapat menghentikan keuntungan untuk aset digital,\" kata Freddie Evans, trader di broker aset digital yang berbasis di Inggris, GlobalBlock, menulis dalam email kepada CoinDesk.\n",
      "Pada Kamis lalu waktu AS, anggota parlemen AS memperkenalkan undang-undang untuk mengubah ketentuan terkait kripto dalam undang-undang infrastruktur bipartisan yang telah ditandatangani pada awal pekan ini.\n",
      "Amandemen yang diusulkan dapat mengklarifikasi aturan pajak tertentu untuk industri kripto.\n",
      "TIM RISET CNBC INDONESIA\n"
     ]
    },
    {
     "name": "stdout",
     "output_type": "stream",
     "text": [
      "\n",
      "Summary dari Berita ID : 224 (hasil teks yang diringkas):\n",
      "\n",
      "Transvision akan terus melakukan ekspansi untuk menghadirkan produk dan layanan berkualitas.Ayo pasang Transvision Hi-Speed sekarang juga! Jakarta, CNBC Indonesia - Internet merupakan salah satu kebutuhan utama masyarakat saat ini.\n",
      "=============================================================\n",
      "\\Oringinal Article (Teks Asli):\n",
      "\n",
      "\u001b[31mJakarta, CNBC Indonesia - Internet merupakan salah satu kebutuhan utama masyarakat saat ini.\u001b[0m\n",
      "Sebab, hampir seluruh kegiatan kini membutuhkan internet.Apalagi dalam tahun terakhir ini merupakan tahun yang menantang dan penuh dinamika bagi Indonesia akibat pandemi Covid-19.\n",
      "Tidak dimungkiri pandemi juga membawa perubahan terhadap kebutuhan dan gaya hidup masyarakat terhadap tingkat adopsi digital yang meningkat.Untuk menjawab kebutuhan masyarakat tersebut, Transvision hadir dengan Transvision HI-Speed, sebuah layanan internet fiber unlimited hingga 100 Mbps.\n",
      "Transvision Hi-Speed dilengkapi layanan TV kabel dengan pilihan channel live TV lengkap di antaranya 100+ Live TV Channel, 1000+ VOD, fitur Catch Up TV, dan 5000+ Android TV Apps.\n",
      "Dengan menggunakan Transvision Hi- Speed, pelanggan juga langsung dapat menyaksikan tayangan olahraga berkelas dunia mulai dari liga sepak bola terbaik dunia seperti Liga Prancis, Spanyol, Italia dan berbagai liga lainnya dari channel beIN SPORTS.Transvision Hi-Speed menawarkan layanan internet super cepat, stabil, dan tanpa pembatasan kecepatan dengan harga sangat terjangkau.\n",
      "Cukup dengan Rp 245 ribu per bulan, Anda sudah dapat menikmati layanan internet dengan kecepatan up to 50 Mbps dengan upgrade TV Hi-Speed Diamond selama 6 bulan dan gratis biaya instalasi.Transvision Hi-Speed telah hadir di 15 kota besar Indonesia di antaranya Jakarta, Bogor, Depok, Tangerang, Bekasi, Bandung, Semarang, Surabaya, Yogyakarta, Denpasar, Palembang, dan Cirebon.\n",
      "Transvision akan membuka jaringan di kota besar lain seperti Medan, Makassar, dan lainnya.\n",
      "\u001b[31mTransvision akan terus melakukan ekspansi untuk menghadirkan produk dan layanan berkualitas.Ayo pasang Transvision Hi-Speed sekarang juga!\u001b[0m\n",
      "Informasi lengkap mengenai Transvision Hi-Speed dapat dilihat pada website www.transvision.co.id, atau hubungi call centre Transvision 1500060 serta ikuti akun resmi sosial media Transvision di @transvisionid.\n",
      "\n",
      "Summary dari Berita ID : 225 (hasil teks yang diringkas):\n",
      "\n",
      "Kritik pada teori pasar adalah otoritas kesehatan meningkatkan peringatan pada kasus penyakit mencurigakan terkait dengan pasar pada 30 Desember 2019. Terbaru seorang peneliti meyakini jika pandemi memang berasal dari Wuhan, China, seperti temuan pasien awal Covid-19. Worobey mengatakan soal kasus dari dua rumah sakit sebelum peringatan terjadi. Sebagian besar kasus terkait dengan pasar dan kasus lain tidak terkonsentrasi secara geografis di sekitarnya. Worobey memiliki jawaban lain pasien tidak sakit hingga 16 Desember.\n",
      "=============================================================\n",
      "\\Oringinal Article (Teks Asli):\n",
      "\n",
      "Jakarta, CNBC Indonesia - Asal muasal virus corona penyebab Covid-19 masih terus diperdebatkan.\n",
      "\u001b[31mTerbaru seorang peneliti meyakini jika pandemi memang berasal dari Wuhan, China, seperti temuan pasien awal Covid-19.\u001b[0m\n",
      "Ahli Virologi Michael Worobey dalam penelitiannya menuliskan pasien awal bukanlah seorang pria yang belum pernah ke Pasar Wuhan.\n",
      "Namun adalah seorang wanita yang bekerja di pasar yang menjual hewan liar dan domestik, dikutip AFP, Jumat (19/11/2021).\n",
      "Menurutnya dari analisa mengenai kasus awal Covid-19 di Wuhan menunjukkan virus memang berasal dari hewan.\n",
      "Sejak pandemi merebak hampir dua tahun lalu, perdebatan asal muasal virus terus bergema.\n",
      "Sebagian pihak mengatakan Covid-19 berasal dari pasar Wuhan, namun ada juga yang meyakini virus bocor dari laboratorium di kota Wuhan.\n",
      "Sementara dalam artikel terbarunya, Worobey berpendapat dari bukti yang didapatkan wabah memang berasal dari pasar hewan.\n",
      "\u001b[31mKritik pada teori pasar adalah otoritas kesehatan meningkatkan peringatan pada kasus penyakit mencurigakan terkait dengan pasar pada 30 Desember 2019.\u001b[0m\n",
      "Ini menimbulkan bias yang mengarah pada identifikasi pada banyak kasus di pasar daripada tempat lain.\n",
      "\u001b[31mWorobey mengatakan soal kasus dari dua rumah sakit sebelum peringatan terjadi.\u001b[0m\n",
      "\u001b[31mSebagian besar kasus terkait dengan pasar dan kasus lain tidak terkonsentrasi secara geografis di sekitarnya.\u001b[0m\n",
      "\"Pada kota 11 juta penduduk, setengah dari kasus awal terkait dengan tempat sebesar lapangan sepak bola,\" ungkap Worobey pada New York Times.\n",
      "\"Menjadi sulit jika menjelaskan pola itu jika wabah tidak dimulai dari pasar\".\n",
      "Teori lain adalah kasus pertama tidak terkait dengan pasar.\n",
      "Namun menurut WHO, pria yang menjadi pasien nol diidentifikasi sakit sejak 8 Desember.\n",
      "\u001b[31mWorobey memiliki jawaban lain pasien tidak sakit hingga 16 Desember.\u001b[0m\n",
      "Hal itu berdasarkan wawancara yang ditemukan berasal dari deskripsi kasus pada artikel ilmiah serta catatan medis rumah sakit yang cocok dengan pasien tersebut.\n",
      "Artinya ini merujuk kasus pertama adalah wanita yang bekerja di pasar.\n",
      "Dia sakit pada 11 Desember 2019.\n",
      "Ahli penyakit dan bagian dari tim investigasi WHO, Peter Daszak mendukung analisa Worobey.\n",
      "\"Tanggal 8 Desember adalah kesalahan,\" ungkapnya.\n",
      "\n",
      "Summary dari Berita ID : 226 (hasil teks yang diringkas):\n",
      "\n",
      "Setidaknya ada lebih dari 40 fan token yang bisa diperjualbelikan saat ini. Socios menjadi pelopor penggabungan industri sepak bola dan kripto saat ini. Halaman Selanjutnya --> Mau Punya Fan Token seperti Messi? Adapun NFT memberikan hak kepemilikan berdasarkan hak cipta digital suatu aset tertentu, katakanlah suatu karya seni atau bahkan meme, yang tidak dapat ditukar (non-fungible). Bisa dikatakan, fan token ini punya peranan penting untuk mempererat komunitas klub. Saat ini telah banyak bermunculan fan token dari klub sepak bola terkenal, mulai dari Paris Saint-Germain Fan Token yang memiliki kapitalisasi pasar terbesar di antara lainnya, Manchester City Fan Token, AC Milan Fan Token, hingga Barcelona Fan Token.\n",
      "=============================================================\n",
      "\\Oringinal Article (Teks Asli):\n",
      "\n",
      "Jakarta, CNBC Indonesia - Dunia mata uang kripto (cryptocurrency) memang unik dan beragam.\n",
      "Selain soal bitcoin, ethereum, dan koin kripto lainnya yang sering didengar orang, saat ini muncul pula jenis aset kripto lain yang terutama ditujukan untuk para pendukung (fans) klub sepak bola, musik, dan semacamnya.\n",
      "Aset tersebut bernama fan token.\n",
      "Melansir Coinmarketcap.com, fan token adalah salah satu jenis kripto yang memungkinkan pemegangnya mengakses pelbagai fasilitas keanggotaan (membership) a la penggemar, misalnya memberikan hak suara pada keputusan klub tertentu atau mendapatkan hadiah.\n",
      "Umumnya, fan token biasa digunakan oleh klub olahraga, fans musik, dan organisasi lainnya.\n",
      "Perbedaannya dengan non-fungible token (NFT), fan token bersifat sepadan (fungible) atau dengan kata lain dapat dipertukarkan.\n",
      "Singkatnya, fan token seperti layaknya uang tunai yang bisa ditukar dengan merchandise klub, akses VIP, dan lainnya.\n",
      "\u001b[31mAdapun NFT memberikan hak kepemilikan berdasarkan hak cipta digital suatu aset tertentu, katakanlah suatu karya seni atau bahkan meme, yang tidak dapat ditukar (non-fungible).\u001b[0m\n",
      "\u001b[31mBisa dikatakan, fan token ini punya peranan penting untuk mempererat komunitas klub.\u001b[0m\n",
      "Pada dasarnya, fan token tidak mesti memiliki underlying value (atau aset kripto yang menjadi dasar harga) bitcoin atau ethereum.\n",
      "Dengan kata lain, nilai suatu fan token diukur dari seberapa besar nilai fans yang turut membeli toke tersebut dan nilai loyalitas kepada klub yang ia sukai.\n",
      "Berawal dari Startup Asal Malta, Fan Token Menjangkau Raksasa Sepak Bola  Token Chiliz adalah fan token pertama dan paling menonjol.\n",
      "Chiliz diciptakan oleh startup berbasis di Malta Socios.\n",
      "\u001b[31mSocios menjadi pelopor penggabungan industri sepak bola dan kripto saat ini.\u001b[0m\n",
      "Saat ini, klub sepak bola beramai-ramai bekerja sama dengan Socios.com, sebagai bagian dari strategi keterlibatan (engagement strategy) untuk menjangkau penggemar mereka.\n",
      "\u001b[31mSaat ini telah banyak bermunculan fan token dari klub sepak bola terkenal, mulai dari Paris Saint-Germain Fan Token yang memiliki kapitalisasi pasar terbesar di antara lainnya, Manchester City Fan Token, AC Milan Fan Token, hingga Barcelona Fan Token.\u001b[0m\n",
      "\u001b[31mSetidaknya ada lebih dari 40 fan token yang bisa diperjualbelikan saat ini.\u001b[0m\n",
      "Di website resmi Socios, masih ada sekitar 10 fan token yang akan diluncurkan--termasuk milik Napoli hingga tim nasional Italia--dalam periode yang disebut dengan Fan Token Offering (FTO).\n",
      "Dalam FTO sebuah fan token ditawarkan pertama kali pada harga yang telah ditentukan sebelum dijual ke pasar (marketplace).\n",
      "Di dunia saham, FTO mirip dengan proses penawaran saham perdana (initial public offering/IPO).\n",
      "Melansir Sifted, Socios mengatakan bahwa sejak 2019 telah berhasil mengumpulkan sekitar €200 juta pendapatan dari penjualan token, yang telah dibagikan dengan sekitar 90 klien.\n",
      "Saat ini, stadion sepak bola di seluruh benua sekarang menampilkan Socios di papan iklan raksasa, bersama dengan perusahaan olahraga kripto lainnya seperti DigitalBits.\n",
      "Beberapa bulan yang lalu, Socios mendapatkan kesepakatan kerja sama dengan Inter Milan (dengan kode fan token €INTER), menggantikan sponsor yang sudah tiga dekade 'nampang' di jersey Inter: raksasa manufaktur ban Italia Pirelli.\n",
      "Harga dari fan token sendiri beragam.\n",
      "Ambil contoh, fan token AC Milan (ACM) dibanderol di harga US$ 7,09 per Jumat (19/11/2021), pukul 14.13 WIB, Harga tersebut naik 1,6% dibandingkan hari sebelumnya, tetapi melorot 10,8% dalam sepekan.\n",
      "Kendati tidak lebih volatil dari aset kripto lain, terutama kripto meme, pergerakan fan token juga cukup aktif.\n",
      "Volume perdagangan token ACM selama 24 jam terakhir mencapai US$ 2,18 juta, dengan nilai kapitalisasi pasar sebesar US$ 14,17 juta.\n",
      "\u001b[31mHalaman Selanjutnya --> Mau Punya Fan Token seperti Messi?\u001b[0m\n",
      "Begini Cara Belinya!\n"
     ]
    },
    {
     "name": "stdout",
     "output_type": "stream",
     "text": [
      "\n",
      "Summary dari Berita ID : 227 (hasil teks yang diringkas):\n",
      "\n",
      "Jakarta, CNBC Indonesia - Staples Center akan berganti nama menjadi Crypto.com Arena, di bawah perjanjian hak penamaan selama 20 tahun antara platform kripto dan AEG, perusahaan olahraga dan hiburan asal California, AS yang merupakan pemilik dan operator stadion tersebut. Logo baru tersebut akan diresmikan pada Hari Natal, ketika Los Angeles Lakers menjamu Brooklyn Nets. Dalam sebuah wawancara, CEO Crypto.com Kris Marszalek, seorang pengusaha kelahiran Polandia, mengatakan Crypto.com dan perusahaan induknya, Foris Technology telah menguntungkan tetapi tidak memberikan angka pasti. Perusahaan itu semula didirikan sebagai perusahaan rintisan bernama Monaco pada tahun 2016, sebagai bursa mata uang kripto yang juga menawarkan dompet digital dan kartu debit kripto.\n",
      "=============================================================\n",
      "\\Oringinal Article (Teks Asli):\n",
      "\n",
      "\u001b[31mJakarta, CNBC Indonesia - Staples Center akan berganti nama menjadi Crypto.com Arena, di bawah perjanjian hak penamaan selama 20 tahun antara platform kripto dan AEG, perusahaan olahraga dan hiburan asal California, AS yang merupakan pemilik dan operator stadion tersebut.\u001b[0m\n",
      "Perjanjian tersebut dikabarkan memakan biaya sebesar US$ 700 juta atau setara dengan Rp 10,01 triliun (kurs Rp 14.300/US$).\n",
      "Staples Center yang merupakan kandang dari tim basket NBA Los Angeles Lakers dan LA Clippers, tim hoki NHL LA Kings serta tim basket wanita Los Angeles Sparks ini akan diganti namanya pada 25 Desember.\n",
      "\u001b[31mLogo baru tersebut akan diresmikan pada Hari Natal, ketika Los Angeles Lakers menjamu Brooklyn Nets.\u001b[0m\n",
      "Staples Center yang berkapasitas 20.000 kursi dibuka pada tahun 1999 di pusat kota Los Angeles ini telah menyelenggarakan ratusan acara, tidak hanya terbatas pada perhelatan olahraga tapi juga acara hiburan lainnya seperti konser musik dan penganugerahan penghargaan Grammy.\n",
      "Siapa Crypto.com?\n",
      "Kurang dari empat tahun yang lalu, Crypto.com hanyalah sebuah blog pribadi milik Matt Blaze, seorang profesor ilmu komputer Universitas Pennsylvania, sebelum akhirnya domain tersebut dijual kepada perusahaan kripto.\n",
      "Pada akhir tahun ini, nama tersebut akan terpampang di salah satu tempat olahraga paling terkenal di AS, bagian dari pemasaran yang mahal oleh perusahaan yang relatif masih kurang terkenal dibandingkan pesaingnya.\n",
      "\u001b[31mPerusahaan itu semula didirikan sebagai perusahaan rintisan bernama Monaco pada tahun 2016, sebagai bursa mata uang kripto yang juga menawarkan dompet digital dan kartu debit kripto.\u001b[0m\n",
      "Perusahaan memiliki kantor pusat di Singapura tetapi mempertahankan alamat di Malta, Inggris dan Irlandia.\n",
      "Kepala eksekutifnya, yang juga merupakan pemegang saham mayoritas, sebelumnya menjalankan situs transaksi harian yang gagal untuk Asia Tenggara.\n",
      "Perusahaan ini dimiliki secara pribadi dan tidak mengumpulkan dana institusional.\n",
      "Namun minggu ini, perusahaan yang menyebut dirinya sebagai \"platform cryptocurrency dengan pertumbuhan tercepat di dunia,\" mengatakan telah mengamankan hak penamaan selama 20 tahun untuk Staples Center di Los Angeles yang menelan biaya sekitar US$ 700 juta, salah satu jumlah terbesar yang pernah dibayarkan untuk hak penamaan tempat olahraga.\n",
      "Karena minat terhadap mata uang terus melonjak - harga Bitcoin telah melonjak hampir 230 persen dalam 12 bulan terakhir menjadi sekitar $60.000 per koin - perusahaan seperti Crypto.com berlomba-lomba untuk mendapatkan perhatian di kalangan masyarakat umum.\n",
      "Dalam inkarnasi aslinya sebagai Monaco, perusahaan menawarkan kartu debit Visa yang dapat diisi ulang menggunakan mata uang kripto.\n",
      "Perusahaan ini mengumpulkan dana dengan mencetak token digitalnya sendiri dan menjualnya ke publik pada tahun 2017 dalam penawaran koin awal (initial coin offering), suatu bentuk pengumpulan dana yang mirip dengan penawaran umum perdana (IPO).\n",
      "Setelah itu sang CEO Kris Marszalek memutuskan untuk mengubah citra Monaco dan menghubungi Matt Blaze, seorang profesor kriptografi saat itu di University of Pennsylvania, yang telah memiliki nama domain crypto.com selama 25 tahun.\n",
      "\u001b[31mDalam sebuah wawancara, CEO Crypto.com Kris Marszalek, seorang pengusaha kelahiran Polandia, mengatakan Crypto.com dan perusahaan induknya, Foris Technology telah menguntungkan tetapi tidak memberikan angka pasti.\u001b[0m\n",
      "Crypto.com yang mengelola bursa perdagangan aset kripto menghasilkan uang dengan mengambil biaya transaksi untuk setiap jual beli Bitcoin, Eter, dan 150 mata uang digital lainnya yang tersedia di platform tersebut.\n",
      "Selain hak nama atas stadion basket, baru-baru ini perusahaan tersebut juga menandatangani kesepakatan sponsorship olahraga dengan United Fighting Championship (UFC), Formula 1 Racing dan liga sepak bola Serie A Italia, serta tim olahraga termasuk tim sepak bola Paris St.-Germain di Prancis dan Philadelphia 76ers.\n",
      "\n",
      "Summary dari Berita ID : 228 (hasil teks yang diringkas):\n",
      "\n",
      "\"Mereka menginginkan lebih banyak pengalaman digital di luar game, eSport, NFT, konsumsi olahraga yang lebih luas dan mereka ingin kami bergerak dengan sangat cepat\". Meski para penggemar menyebutkan aset kripto memiliki nilai terlepas dari kondisi pasar. Misalnya platform game Steam melarang game berbasis blockchain dan NFT di platformnya. Angka ini naik tajam dari 'hanya' US$1,3 miliar atau Rp 18,5 triliun pada kuartal II dan kuartal I sebesar US$1,2 miliar atau Rp 17 triliun. Menurutnya, seluruh menerbit besar, termasuk EA melihat adanya potensi pada format itu untuk bisa menghasilkan uang. Dia menambahkan ide soal NFT masih sangat awal dan datang dengan 'banyak hype'.\n",
      "=============================================================\n",
      "\\Oringinal Article (Teks Asli):\n",
      "\n",
      "Jakarta, CNBC Indonesia - Tren investasi kripto berjenis non-fungible token (NFT) semakin meningkat dalam beberapa waktu terakhir.\n",
      "Hal ini karena minat masyarakat untuk memperjual belikan aset dan karya seni digital melalu NFT semakin meningkat.\n",
      "Berdasarkan data DappRadar pada kuartal III-2021, volume penjualan NFT sudah mencapai US$10,7 miliar atau Rp 152,3 triliun.\n",
      "\u001b[31mAngka ini naik tajam dari 'hanya' US$1,3 miliar atau Rp 18,5 triliun pada kuartal II dan kuartal I sebesar US$1,2 miliar atau Rp 17 triliun.\u001b[0m\n",
      "Pada pasar NFT terbesar, OpenSea mencatatkan penjualan mencapai US$ 3,4 miliar (Rp 48,4 triliun) di bulan Agustus.\n",
      "Satu bulan berikutnya penjualan tetap kuat di saat pasar saham global tersendat.\n",
      "Capaian ini sering dikaitkan dengan tren kenaikan harga mata uang kripto saat pandemi.\n",
      "Sebab orang menggunakan uang kripto saat membeli NFT.\n",
      "\u001b[31mMeski para penggemar menyebutkan aset kripto memiliki nilai terlepas dari kondisi pasar.\u001b[0m\n",
      "NFT adalah aset digital yang mewakili aset di dunia nyata.\n",
      "Ini seperti sertifikat digital bagi mereka yang memiliki foto, video atau bentuk virtual lainnya.\n",
      "Hal ini akan tercatat di blockchain.\n",
      "Bila sudah dienkripsi di blockchain, pihak lain tidak dapat menduplikasi atau mereplikasi aset tersebut.\n",
      "Bahkan tak hanya sekadar karya seni, utamanya dalam bentuk digital, NFT juga diprediksi akan jadi bagian masa depan industri game.\n",
      "Hal ini diungkapkan oleh penerbit game, Electronic Arts (EA).\n",
      "Kepada para investor, Chief Executive EA, Andrew Wilson mengatakan pemain FIFA ingin melihat NFT.\n",
      "\"(Pemain) ingin lebih banyak modalitas dalam permainan di dalam game, yang melampaui sekedar sepak bola 11 lawan 11,\" kata dia, dikutip BBC, Minggu (7/11/2021) lalu.\n",
      "\u001b[31m\"Mereka menginginkan lebih banyak pengalaman digital di luar game, eSport, NFT, konsumsi olahraga yang lebih luas dan mereka ingin kami bergerak dengan sangat cepat\".\u001b[0m\n",
      "\u001b[31mDia menambahkan ide soal NFT masih sangat awal dan datang dengan 'banyak hype'.\u001b[0m\n",
      "\"Masih terlalu awal mengetahui bagaimana cara kerjanya,\" ungkapnya.\n",
      "Sayangnya ide tersebut sangat kontroversial di kalangan gamer.\n",
      "\u001b[31mMisalnya platform game Steam melarang game berbasis blockchain dan NFT di platformnya.\u001b[0m\n",
      "Menurut sejumlah desainer game percaya bahwa NFT buruk untuk game secara keseluruhan.\n",
      "Namun studio lain, termasuk Ubisoft, menyetujui ide tersebut.\n",
      "Analis industri game, Piers Harding-Rolls dari Ampere mengungkapkan jika NFT dan blockchain adalah pengganggu baru pada sektor game.\n",
      "\u001b[31mMenurutnya, seluruh menerbit besar, termasuk EA melihat adanya potensi pada format itu untuk bisa menghasilkan uang.\u001b[0m\n",
      "\"Ini akan jadi praktik komersial yang buruk untuk tidak menganalisa bagaimana teknologi bisa berdampak pada bisnis yang ada,\" jelasnya.\n"
     ]
    }
   ],
   "source": [
    "for iteration, article in enumerate(df['article']):\n",
    "    id = df['id'][iteration]\n",
    "    tokenizeKalimat = tokenizeParagraftoKalimat(article)\n",
    "    \n",
    "    kalimat = []\n",
    "    cleansingTeks = []\n",
    "    kalimatAsli = {}\n",
    "\n",
    "    for teks in tokenizeKalimat:\n",
    "        kataDasar = steamingData(cleansingData(teks))\n",
    "        dataFinal = indoStopWord(load_stopWordsNLTK(),load_stopWords(),kataDasar)\n",
    "        cleansingTeks.append(dataFinal)\n",
    "        kalimat.append(teks)\n",
    "        kalimatAsli[dataFinal] = teks\n",
    "\n",
    "    iteration = MMR()\n",
    "    score = iteration.similarityScore(cleansingTeks)\n",
    "    summarySet = iteration.calculateMMR(score,cleansingTeks)\n",
    "    \n",
    "\n",
    "    summary = hasilSummary(kalimatAsli,summarySet)\n",
    "    simpanSummary(mydb,summary,id)\n",
    "    print ('\\nSummary dari Berita ID : {} (hasil teks yang diringkas):\\n'.format(id))\n",
    "    print(summary)\n",
    "\n",
    "    print ('=============================================================')\n",
    "    print ('\\Oringinal Article (Teks Asli):\\n')\n",
    "    visualisasiSummaryOri(cleansingTeks,summarySet,kalimatAsli)"
   ]
  },
  {
   "cell_type": "code",
   "execution_count": null,
   "metadata": {},
   "outputs": [],
   "source": []
  },
  {
   "cell_type": "code",
   "execution_count": null,
   "metadata": {},
   "outputs": [],
   "source": []
  }
 ],
 "metadata": {
  "kernelspec": {
   "display_name": "Python 3",
   "language": "python",
   "name": "python3"
  },
  "language_info": {
   "codemirror_mode": {
    "name": "ipython",
    "version": 3
   },
   "file_extension": ".py",
   "mimetype": "text/x-python",
   "name": "python",
   "nbconvert_exporter": "python",
   "pygments_lexer": "ipython3",
   "version": "3.8.5"
  }
 },
 "nbformat": 4,
 "nbformat_minor": 4
}

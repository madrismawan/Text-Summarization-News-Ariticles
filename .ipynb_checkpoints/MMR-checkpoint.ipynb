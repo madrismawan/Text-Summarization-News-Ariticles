{
 "cells": [
  {
   "cell_type": "code",
   "execution_count": 15,
   "metadata": {},
   "outputs": [],
   "source": [
    "from sklearn.feature_extraction.text import CountVectorizer # Vector \n",
    "from sklearn.metrics.pairwise import cosine_similarity # cosine similarity\n",
    "import operator # operator artimatika dll\n",
    "from termcolor import colored "
   ]
  },
  {
   "cell_type": "code",
   "execution_count": 16,
   "metadata": {},
   "outputs": [],
   "source": [
    "class MMR:\n",
    "    \n",
    "    clean = \"\"\n",
    "    \n",
    "    # Fungsi untuk menghitung cosine similarit\n",
    "    def calculateSimilarity(self,sentence, doc):\n",
    "        if doc == []:\n",
    "            return 0\n",
    "        vocab = {}\n",
    "        for word in sentence:\n",
    "            vocab[word] = 0\n",
    "\n",
    "        docInOneSentence = '';\n",
    "        for t in doc:\n",
    "            docInOneSentence += (t + ' ')\n",
    "            for word in t.split():\n",
    "                vocab[word]=0\n",
    "\n",
    "        cv = CountVectorizer(vocabulary=vocab.keys())\n",
    "\n",
    "        docVector = cv.fit_transform([docInOneSentence])\n",
    "        sentenceVector = cv.fit_transform([sentence])\n",
    "        return cosine_similarity(docVector, sentenceVector)[0][0]\n",
    "    \n",
    "    \n",
    "    #calculate Similarity score each sentence with whole documents\t\t\n",
    "    def similarityScore(self, clean):\n",
    "        setClean = set(clean)\n",
    "        scores = {}\n",
    "        for data in clean:\n",
    "            temp_doc = setClean - set([data])\n",
    "            score = self.calculateSimilarity(data, list(temp_doc))\n",
    "            scores[data] = score\n",
    "            \n",
    "        return scores\n",
    "    \n",
    "    def calculateMMR(self, scores,sentences):\n",
    "        # calculate MMR\n",
    "        n = 20 * len(sentences) / 100\n",
    "        alpha = 0.5\n",
    "        summarySet = []\n",
    "        while n > 0:\n",
    "            mmr = {}\n",
    "\n",
    "            for sentence in scores.keys():\n",
    "                if not sentence in summarySet:\n",
    "                    mmr[sentence] = alpha * scores[sentence] - (1-alpha) * self.calculateSimilarity(sentence, summarySet)\n",
    "            selected = max(mmr.items(), key=operator.itemgetter(1))[0]\n",
    "            summarySet.append(selected)\n",
    "            n -= 1\n",
    "        return summarySet\n",
    "        #rint str(time.time() - start)\n",
    "        "
   ]
  },
  {
   "cell_type": "code",
   "execution_count": null,
   "metadata": {},
   "outputs": [],
   "source": []
  },
  {
   "cell_type": "code",
   "execution_count": null,
   "metadata": {},
   "outputs": [],
   "source": []
  }
 ],
 "metadata": {
  "kernelspec": {
   "display_name": "Python 3",
   "language": "python",
   "name": "python3"
  },
  "language_info": {
   "codemirror_mode": {
    "name": "ipython",
    "version": 3
   },
   "file_extension": ".py",
   "mimetype": "text/x-python",
   "name": "python",
   "nbconvert_exporter": "python",
   "pygments_lexer": "ipython3",
   "version": "3.8.5"
  }
 },
 "nbformat": 4,
 "nbformat_minor": 4
}

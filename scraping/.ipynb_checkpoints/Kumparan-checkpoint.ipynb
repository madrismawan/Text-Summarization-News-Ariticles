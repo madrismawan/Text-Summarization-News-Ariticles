{
 "cells": [
  {
   "cell_type": "code",
   "execution_count": 1,
   "metadata": {},
   "outputs": [],
   "source": [
    "from builtins import Exception\n",
    "import urllib3\n",
    "from bs4 import BeautifulSoup\n",
    "from requests import get\n",
    "import mysql.connector\n",
    "import re\n",
    "from datetime import date\n",
    "from datetime import datetime"
   ]
  },
  {
   "cell_type": "markdown",
   "metadata": {},
   "source": [
    "# Class Kumparan Scraping"
   ]
  },
  {
   "cell_type": "markdown",
   "metadata": {},
   "source": [
    "class dibawah merupakan proses pengambilan data dari website berita Kompas.com yang dimana pemanggilan semua fungsi dibawah tersebut nantinya akan dipanggil pada fungsi [scrapingDataKumparan]"
   ]
  },
  {
   "cell_type": "code",
   "execution_count": 5,
   "metadata": {},
   "outputs": [],
   "source": [
    "class Kumparan:\n",
    "     #deklarasi variable global\n",
    "    url = \"\"\n",
    "    mydb = \"\"\n",
    "    keyword = \"\"\n",
    "    urlDetailData = \"\"\n",
    "    date = \"\"\n",
    "    \n",
    "    #fungsi dari inisialisasi data saat memanggil class pertama kali\n",
    "    def __init__(self, urlBerita, pencarian,searchDate ):\n",
    "        self.url = urlBerita\n",
    "        self.keyword = pencarian\n",
    "         try:\n",
    "            if(searchDate == \"\"):\n",
    "                self.date = datetime.datetime.now()\n",
    "            else:\n",
    "                self.date = datetime.datetime.strptime(searchDate, '%d-%m-%Y')\n",
    "        except Exception as e:\n",
    "            print(e)\n",
    "        self.mydb = mysql.connector.connect(host=\"localhost\",user=\"root\", password=\"\",database=\"db-berita-mca\")\n",
    "        \n",
    "    #fungsi menyimpan data ke database\n",
    "    def simpanDatabase(self,data):\n",
    "        mycursor = self.mydb.cursor()\n",
    "        sql = \"INSERT INTO tb_berita (media,judul_berita,label,penulis,release_date,url,content) VALUES (%s,%s,%s,%s,%s,%s,%s)\"\n",
    "        mycursor.execute(sql, data)\n",
    "        self.mydb.commit()\n",
    "        return\n",
    "    \n",
    "    #fungsi buat validasi data duplicate di database\n",
    "    def validasiDataDatabase(self,dataBerita):\n",
    "        mycursor = self.mydb.cursor()\n",
    "        sql = \"SELECT * FROM tb_berita WHERE url = %s\"\n",
    "        dataUrl = dataBerita\n",
    "        url = (dataBerita,)\n",
    "        mycursor.execute(sql, url)\n",
    "        myresult = mycursor.fetchall()\n",
    "        return myresult\n",
    "    \n",
    "    def getUrlDetail(self,page):\n",
    "        self.urlDetailData = []\n",
    "        for page in range(page): \n",
    "            if(self.keyword == \"\"):\n",
    "                urlGet = (self.url+\"/trending\")\n",
    "                soup = BeautifulSoup(get(urlGet).text, 'lxml')\n",
    "                getContent = soup.find('div','Viewweb__StyledView-sc-1ajfkkc-0 kshFXN')\n",
    "                groupContent = getContent.find_all('div','Viewweb__StyledView-sc-1ajfkkc-0 fswdpV')\n",
    "                for x in groupContent:\n",
    "                    news_url = x.find('a', href=True).get('href')\n",
    "                    mergeUrl = (self.url+news_url)\n",
    "                    self.urlDetailData.append(mergeUrl)\n",
    "            else:\n",
    "                urlGet = (self.url+\"/search/\"+self.keyword)\n",
    "                soup = BeautifulSoup(get(urlGet).text, 'lxml')\n",
    "                getContent = soup.find('div','Viewweb__StyledView-sc-1ajfkkc-0 dCdfue')\n",
    "                groupContent = getContent.find_all('div','Viewweb__StyledView-sc-1ajfkkc-0 fswdpV')\n",
    "                for x in groupContent:\n",
    "                    news_url = x.find('a', href=True).get('href')\n",
    "                    mergeUrl = (self.url+news_url)\n",
    "                    self.urlDetailData.append(mergeUrl)\n",
    "                    \n",
    "    def scrapingDataKumparan(self):\n",
    "        self.getUrlDetail(3)\n",
    "        for dataBerita in self.urlDetailData:\n",
    "            myresult = self.validasiDataDatabase(dataBerita)\n",
    "            if(len(myresult)==0):\n",
    "                try:\n",
    "                    media = \"Kumparan.com\"\n",
    "                    web_data = get(dataBerita)\n",
    "                    soup = BeautifulSoup(web_data.text, 'html.parser')\n",
    "                    page = soup.find('div','Viewweb__StyledView-sc-1ajfkkc-0 cKIaSV')\n",
    "                    title = page.find('h1','Textweb__StyledText-sc-1uxddwr-0 iVHMBA').text\n",
    "                    label = page.find('span','Textweb__StyledText-sc-1uxddwr-0 iaFPCN').text\n",
    "                    author = page.find('span','Textweb__StyledText-sc-1uxddwr-0 bvaEVS').text\n",
    "                    release_date = page.find('span','Textweb__StyledText-sc-1uxddwr-0 fbabON').text      \n",
    "                    groupContent = page.find('div','StoryRenderer__EditorWrapper-th08cs-0 ZDWZV')\n",
    "                    texts = groupContent.find_all('span','Textweb__StyledText-sc-1uxddwr-0 lmbERM')\n",
    "                    news_content = ' '.join([text.text for text in texts])           \n",
    "                    data = (media,title,label,author,release_date,dataBerita,news_content)\n",
    "                    self.simpanDatabase(data)\n",
    "                except Exception as e:\n",
    "                    continue \n",
    "            else:\n",
    "                continue"
   ]
  },
  {
   "cell_type": "code",
   "execution_count": 8,
   "metadata": {},
   "outputs": [
    {
     "data": {
      "text/plain": [
       "['https://kumparan.com/kumparanbola/pelatih-singapura-menangis-usai-kalah-dari-thailand-saya-bukan-pep-guardiola-1x8cpoyU3VK',\n",
       " 'https://kumparan.com/kumparanbisnis/bahlil-ekonomi-ri-dikuasai-1-persen-kelompok-konglomerat-itu-itu-aja-1x8cjTdBagP',\n",
       " 'https://kumparan.com/kumparanbola/profil-supachai-chaided-striker-muslim-thailand-momok-singapura-di-piala-aff-1x8SwB7ydlV',\n",
       " 'https://kumparan.com/kumparannews/benda-mirip-tank-mengapung-di-laut-natuna-ini-kata-tni-al-1x8Zoc2xmhx',\n",
       " 'https://kumparan.com/kumparanoto/resmi-ini-aturan-bepergian-dengan-mobil-dan-motor-saat-libur-nataru-1x8TGuafZjr',\n",
       " 'https://kumparan.com/kumparanbisnis/profil-bandara-ngloram-yang-baru-diresmikan-jokowi-bakal-seperti-kertajati-1x8eY589d51',\n",
       " 'https://kumparan.com/kumparannews/sosok-irjen-agung-wicaksono-pengawas-internal-polri-kini-jabat-kapolda-bengkulu-1x8g5pOA9Lf',\n",
       " 'https://kumparan.com/kumparanhits/gisella-anastasia-akui-sudah-putus-dengan-wijin-1x8f7ATecJZ',\n",
       " 'https://kumparan.com/kumparanbisnis/erick-thohir-puji-para-lulusan-itb-bos-pertamina-telkom-hingga-bio-farma-1x8ez3MbL3B',\n",
       " 'https://kumparan.com/kumparanbola/thailand-vs-singapura-brutal-ada-pemain-kepala-berdarah-and-pemain-ditandu-1x8Rxo9YcMh',\n",
       " 'https://kumparan.com/kumparanbola/pelatih-singapura-menangis-usai-kalah-dari-thailand-saya-bukan-pep-guardiola-1x8cpoyU3VK',\n",
       " 'https://kumparan.com/kumparanbisnis/bahlil-ekonomi-ri-dikuasai-1-persen-kelompok-konglomerat-itu-itu-aja-1x8cjTdBagP',\n",
       " 'https://kumparan.com/kumparanbola/profil-supachai-chaided-striker-muslim-thailand-momok-singapura-di-piala-aff-1x8SwB7ydlV',\n",
       " 'https://kumparan.com/kumparannews/benda-mirip-tank-mengapung-di-laut-natuna-ini-kata-tni-al-1x8Zoc2xmhx',\n",
       " 'https://kumparan.com/kumparanoto/resmi-ini-aturan-bepergian-dengan-mobil-dan-motor-saat-libur-nataru-1x8TGuafZjr',\n",
       " 'https://kumparan.com/kumparanbisnis/profil-bandara-ngloram-yang-baru-diresmikan-jokowi-bakal-seperti-kertajati-1x8eY589d51',\n",
       " 'https://kumparan.com/kumparannews/sosok-irjen-agung-wicaksono-pengawas-internal-polri-kini-jabat-kapolda-bengkulu-1x8g5pOA9Lf',\n",
       " 'https://kumparan.com/kumparanhits/gisella-anastasia-akui-sudah-putus-dengan-wijin-1x8f7ATecJZ',\n",
       " 'https://kumparan.com/kumparanbisnis/erick-thohir-puji-para-lulusan-itb-bos-pertamina-telkom-hingga-bio-farma-1x8ez3MbL3B',\n",
       " 'https://kumparan.com/kumparanbola/thailand-vs-singapura-brutal-ada-pemain-kepala-berdarah-and-pemain-ditandu-1x8Rxo9YcMh',\n",
       " 'https://kumparan.com/kumparanbola/pelatih-singapura-menangis-usai-kalah-dari-thailand-saya-bukan-pep-guardiola-1x8cpoyU3VK',\n",
       " 'https://kumparan.com/kumparanbisnis/bahlil-ekonomi-ri-dikuasai-1-persen-kelompok-konglomerat-itu-itu-aja-1x8cjTdBagP',\n",
       " 'https://kumparan.com/kumparanbola/profil-supachai-chaided-striker-muslim-thailand-momok-singapura-di-piala-aff-1x8SwB7ydlV',\n",
       " 'https://kumparan.com/kumparannews/benda-mirip-tank-mengapung-di-laut-natuna-ini-kata-tni-al-1x8Zoc2xmhx',\n",
       " 'https://kumparan.com/kumparanoto/resmi-ini-aturan-bepergian-dengan-mobil-dan-motor-saat-libur-nataru-1x8TGuafZjr',\n",
       " 'https://kumparan.com/kumparanbisnis/profil-bandara-ngloram-yang-baru-diresmikan-jokowi-bakal-seperti-kertajati-1x8eY589d51',\n",
       " 'https://kumparan.com/kumparannews/sosok-irjen-agung-wicaksono-pengawas-internal-polri-kini-jabat-kapolda-bengkulu-1x8g5pOA9Lf',\n",
       " 'https://kumparan.com/kumparanhits/gisella-anastasia-akui-sudah-putus-dengan-wijin-1x8f7ATecJZ',\n",
       " 'https://kumparan.com/kumparanbisnis/erick-thohir-puji-para-lulusan-itb-bos-pertamina-telkom-hingga-bio-farma-1x8ez3MbL3B',\n",
       " 'https://kumparan.com/kumparanbola/thailand-vs-singapura-brutal-ada-pemain-kepala-berdarah-and-pemain-ditandu-1x8Rxo9YcMh']"
      ]
     },
     "execution_count": 8,
     "metadata": {},
     "output_type": "execute_result"
    }
   ],
   "source": [
    "url = 'https://kumparan.com'\n",
    "pencarian = ''\n",
    "testing = Kumparan(url, pencarian)\n",
    "testing.scrapingDataKumparan()\n",
    "testing.urlDetailData"
   ]
  },
  {
   "cell_type": "code",
   "execution_count": null,
   "metadata": {},
   "outputs": [],
   "source": []
  },
  {
   "cell_type": "code",
   "execution_count": null,
   "metadata": {},
   "outputs": [],
   "source": []
  }
 ],
 "metadata": {
  "kernelspec": {
   "display_name": "Python 3",
   "language": "python",
   "name": "python3"
  },
  "language_info": {
   "codemirror_mode": {
    "name": "ipython",
    "version": 3
   },
   "file_extension": ".py",
   "mimetype": "text/x-python",
   "name": "python",
   "nbconvert_exporter": "python",
   "pygments_lexer": "ipython3",
   "version": "3.8.5"
  }
 },
 "nbformat": 4,
 "nbformat_minor": 4
}

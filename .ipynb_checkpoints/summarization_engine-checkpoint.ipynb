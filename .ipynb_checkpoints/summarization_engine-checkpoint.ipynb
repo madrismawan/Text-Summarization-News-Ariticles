{
 "cells": [
  {
   "cell_type": "code",
   "execution_count": 194,
   "metadata": {},
   "outputs": [],
   "source": [
    "import mysql.connector\n",
    "from nltk.tokenize import sent_tokenize\n",
    "import import_ipynb\n",
    "import re\n",
    "import time\n",
    "from Sastrawi.Stemmer.StemmerFactory import StemmerFactory\n",
    "import pandas as pd\n",
    "from MMR import *\n",
    "from nltk.corpus import stopwords\n",
    "import string\n",
    "from termcolor import colored"
   ]
  },
  {
   "cell_type": "markdown",
   "metadata": {},
   "source": [
    "# Deklarasi Connection Database"
   ]
  },
  {
   "cell_type": "markdown",
   "metadata": {},
   "source": [
    "Membuat koneksi kedatabase lokal dengan database 'db-berita-mca'"
   ]
  },
  {
   "cell_type": "code",
   "execution_count": 195,
   "metadata": {},
   "outputs": [],
   "source": [
    "mydb = mysql.connector.connect(\n",
    "    host=\"localhost\",\n",
    "    user=\"root\",\n",
    "    password=\"\",\n",
    "    database=\"db-berita-mca\"  \n",
    ") "
   ]
  },
  {
   "cell_type": "markdown",
   "metadata": {},
   "source": [
    "# Membuat Fungsi Steaming Use Sastrawi"
   ]
  },
  {
   "cell_type": "markdown",
   "metadata": {},
   "source": [
    "Membuat stemmer pakai sastrawi \n",
    "Digunakan untuk melakukan steaming kalimat (menjadi kalimat dasar Menggunakan Library Sastrawi)"
   ]
  },
  {
   "cell_type": "code",
   "execution_count": 196,
   "metadata": {},
   "outputs": [],
   "source": [
    "factory = StemmerFactory()\n",
    "stemmer = factory.create_stemmer()"
   ]
  },
  {
   "cell_type": "markdown",
   "metadata": {},
   "source": [
    "# Mengambil Data pada Database"
   ]
  },
  {
   "cell_type": "markdown",
   "metadata": {},
   "source": [
    "Mengambil data pada database,data yang diambil hanya 2 kolom saja"
   ]
  },
  {
   "cell_type": "code",
   "execution_count": 197,
   "metadata": {},
   "outputs": [
    {
     "data": {
      "text/html": [
       "<div>\n",
       "<style scoped>\n",
       "    .dataframe tbody tr th:only-of-type {\n",
       "        vertical-align: middle;\n",
       "    }\n",
       "\n",
       "    .dataframe tbody tr th {\n",
       "        vertical-align: top;\n",
       "    }\n",
       "\n",
       "    .dataframe thead th {\n",
       "        text-align: right;\n",
       "    }\n",
       "</style>\n",
       "<table border=\"1\" class=\"dataframe\">\n",
       "  <thead>\n",
       "    <tr style=\"text-align: right;\">\n",
       "      <th></th>\n",
       "      <th>id</th>\n",
       "      <th>article</th>\n",
       "    </tr>\n",
       "  </thead>\n",
       "  <tbody>\n",
       "    <tr>\n",
       "      <th>0</th>\n",
       "      <td>217</td>\n",
       "      <td>Jakarta, CNBC Indonesia - Krisis mainan jelang...</td>\n",
       "    </tr>\n",
       "    <tr>\n",
       "      <th>1</th>\n",
       "      <td>222</td>\n",
       "      <td>Jakarta, CNBC Indonesia - Aset kripto (cryptoc...</td>\n",
       "    </tr>\n",
       "    <tr>\n",
       "      <th>2</th>\n",
       "      <td>224</td>\n",
       "      <td>Jakarta, CNBC Indonesia - Internet merupakan s...</td>\n",
       "    </tr>\n",
       "    <tr>\n",
       "      <th>3</th>\n",
       "      <td>225</td>\n",
       "      <td>Jakarta, CNBC Indonesia - Asal muasal virus co...</td>\n",
       "    </tr>\n",
       "    <tr>\n",
       "      <th>4</th>\n",
       "      <td>226</td>\n",
       "      <td>Jakarta, CNBC Indonesia - Dunia mata uang krip...</td>\n",
       "    </tr>\n",
       "    <tr>\n",
       "      <th>5</th>\n",
       "      <td>227</td>\n",
       "      <td>Jakarta, CNBC Indonesia - Staples Center akan ...</td>\n",
       "    </tr>\n",
       "    <tr>\n",
       "      <th>6</th>\n",
       "      <td>228</td>\n",
       "      <td>Jakarta, CNBC Indonesia - Tren investasi kript...</td>\n",
       "    </tr>\n",
       "  </tbody>\n",
       "</table>\n",
       "</div>"
      ],
      "text/plain": [
       "    id                                            article\n",
       "0  217  Jakarta, CNBC Indonesia - Krisis mainan jelang...\n",
       "1  222  Jakarta, CNBC Indonesia - Aset kripto (cryptoc...\n",
       "2  224  Jakarta, CNBC Indonesia - Internet merupakan s...\n",
       "3  225  Jakarta, CNBC Indonesia - Asal muasal virus co...\n",
       "4  226  Jakarta, CNBC Indonesia - Dunia mata uang krip...\n",
       "5  227  Jakarta, CNBC Indonesia - Staples Center akan ...\n",
       "6  228  Jakarta, CNBC Indonesia - Tren investasi kript..."
      ]
     },
     "execution_count": 197,
     "metadata": {},
     "output_type": "execute_result"
    }
   ],
   "source": [
    "mycursor = mydb.cursor()\n",
    "mycursor.execute(\"SELECT id, content FROM tb_berita\")\n",
    "myresult = mycursor.fetchall()\n",
    "\n",
    "df = pd.DataFrame(myresult,columns=['id','article'])\n",
    "df"
   ]
  },
  {
   "cell_type": "markdown",
   "metadata": {},
   "source": [
    "# Load Data Stopword Lib & File Internal"
   ]
  },
  {
   "cell_type": "markdown",
   "metadata": {},
   "source": [
    "Mengambil data stopword bahasa indonesia yang pertama menggunakan file list dari stop word 917 dan menggunakan library nltk sebanyak panjang data 789"
   ]
  },
  {
   "cell_type": "code",
   "execution_count": 198,
   "metadata": {},
   "outputs": [],
   "source": [
    "def load_stopWords():\n",
    "    r = open(\"stopwordlist-indonesia.txt\", \"r\")\n",
    "    readTxt = r.read()\n",
    "    idStopWord = readTxt.split() \n",
    "    return idStopWord"
   ]
  },
  {
   "cell_type": "code",
   "execution_count": 199,
   "metadata": {
    "scrolled": true
   },
   "outputs": [],
   "source": [
    "def load_stopWordsNLTK():\n",
    "    stop_words = stopwords.words('indonesian')\n",
    "    return stop_words"
   ]
  },
  {
   "cell_type": "markdown",
   "metadata": {},
   "source": [
    "# Simpan hasil summary ke database"
   ]
  },
  {
   "cell_type": "markdown",
   "metadata": {},
   "source": [
    "Menyimpan data yang telah dihasilakan melalui summary ke database dengan cara mengupdate data tersebut dan memasukan text summary pada field tersebut"
   ]
  },
  {
   "cell_type": "code",
   "execution_count": 240,
   "metadata": {},
   "outputs": [],
   "source": [
    "def simpanSummary(mydb,summary,id):\n",
    "    mycursor = mydb.cursor()\n",
    "    id = int(id)\n",
    "    sql = \"UPDATE tb_berita SET summary = %s WHERE id = %s\"\n",
    "    param = (summary,id)\n",
    "    mycursor.execute(sql, param)\n",
    "    mydb.commit()"
   ]
  },
  {
   "cell_type": "markdown",
   "metadata": {},
   "source": [
    "# Proses Text Preprocessing "
   ]
  },
  {
   "cell_type": "markdown",
   "metadata": {},
   "source": [
    "[tokenizeParagraftoKalimat, cleansingData, steamingData, indoStopWord]\n",
    "\n",
    "Fungsi diatas merupakan fungsi yang digunakan untuk melakukan preprocessing article sebuah berita, penjelasan mengenai fungsi akan dijelaskan lebih lanjut"
   ]
  },
  {
   "cell_type": "markdown",
   "metadata": {},
   "source": [
    "[tokenizeParagraftoKalimat]\n",
    "\n",
    "berfungsi sebagai tokenize pargraf menjadi bagian perkalimat "
   ]
  },
  {
   "cell_type": "code",
   "execution_count": 244,
   "metadata": {},
   "outputs": [],
   "source": [
    "def tokenizeParagraftoKalimat(paragraf):\n",
    "    tokenize = sent_tokenize(paragraf)\n",
    "    return tokenize"
   ]
  },
  {
   "cell_type": "markdown",
   "metadata": {},
   "source": [
    "[cleansingData]\n",
    "\n",
    "berfungsi sebagai membersihkan data dari huruf tanda petik dan masih kata besar atau keceil"
   ]
  },
  {
   "cell_type": "code",
   "execution_count": 226,
   "metadata": {},
   "outputs": [],
   "source": [
    "def cleansingData(text):\n",
    "    hasil = re.sub('[^A-Za-z0-9 ]+', '', text)\n",
    "    hasil = hasil.translate(str.maketrans(\"\",\"\",string.punctuation))\n",
    "    return hasil"
   ]
  },
  {
   "cell_type": "markdown",
   "metadata": {},
   "source": [
    "[steamingData]\n",
    "\n",
    "berguna sebagai menjadikan kata dasar sebuah kalimat dan fungsi stemmer tersebut sekaligus menjadikan kalimat menjadi lower atau huruf kecil"
   ]
  },
  {
   "cell_type": "code",
   "execution_count": 247,
   "metadata": {},
   "outputs": [],
   "source": [
    "def steamingData(text):\n",
    "    steamingData = stemmer.stem(text)\n",
    "    return steamingData"
   ]
  },
  {
   "cell_type": "markdown",
   "metadata": {},
   "source": [
    "[indoStopWord]\n",
    "\n",
    "berguna dalam menghilangkan kata sambung atau tidak diperlukan, ini berfungsi dlam menghitung kesamaan antar kalimat pada algoritma MMR agar lebih mudah dan mendapatkan hasil yang akurat (Lib NLTK & List Stopword)"
   ]
  },
  {
   "cell_type": "code",
   "execution_count": 204,
   "metadata": {},
   "outputs": [],
   "source": [
    "def indoStopWord(stopNLTK, stopTxt, kalimat):\n",
    "    hasilStopWord = []\n",
    "    for kata in kalimat.split():\n",
    "        if not kata in stopNLTK:\n",
    "            if not kata in stopTxt:\n",
    "                hasilStopWord.append(kata)\n",
    "    return \" \".join(hasilStopWord)"
   ]
  },
  {
   "cell_type": "markdown",
   "metadata": {},
   "source": [
    "[hasilSummary]\n",
    "\n",
    "fungsi yang berguna dalam menampilkan hasil summarization pada algoritma MMR"
   ]
  },
  {
   "cell_type": "code",
   "execution_count": 205,
   "metadata": {},
   "outputs": [],
   "source": [
    "def hasilSummary(kalimatAsli, summarySet):\n",
    "    hasil = []\n",
    "    for sentence in summarySet:\n",
    "        hasil.append(kalimatAsli [sentence].lstrip(' ')) \n",
    "    return \" \".join(hasil)"
   ]
  },
  {
   "cell_type": "markdown",
   "metadata": {},
   "source": [
    "[visualisasiSummaryOri]\n",
    "\n",
    "menampilkan visualisasi yang sangat berguna dalam mengetahui kata mana saja yang dipakai atau ditampilkan pada summarization"
   ]
  },
  {
   "cell_type": "code",
   "execution_count": 206,
   "metadata": {},
   "outputs": [],
   "source": [
    "def visualisasiSummaryOri(cleansingTeks,summarySet,kalimatAsli):\n",
    "    for sentence in cleansingTeks:\n",
    "        if sentence in summarySet:\n",
    "            print(colored(kalimatAsli[sentence].lstrip(' '),'red'))\n",
    "        else:\n",
    "            print(kalimatAsli[sentence].lstrip(' '))"
   ]
  },
  {
   "cell_type": "markdown",
   "metadata": {},
   "source": [
    "bisa dibilang sebagai code utama, dimana disini tempat menjalankan semua code dengan melakukan pemanggilan semua fungsi dan class algoritam MMR "
   ]
  },
  {
   "cell_type": "code",
   "execution_count": 243,
   "metadata": {
    "scrolled": true
   },
   "outputs": [
    {
     "name": "stdout",
     "output_type": "stream",
     "text": [
      "\n",
      "Summary (hasil teks yang diringkas):\n",
      "\n",
      "Bos retail mainan The Entertainer, Gary Grant, memperingatkan penundaan ini akan mengakibatkan kekurangan stok mainan menjelang Natal. Pelabuhan komersial terbesar di Inggris Felixstowe mengatakan kepada BBC bahwa saat ini ada 50.000 kontainer yang menunggu untuk dikumpulkan, karena kekurangan pengemudi truk HGV. Kini stok boneka Barbie dan mainan Paw Patrol, salah satu mainan favorit anak-anak, diperkirakan akan cepat habis. \"Ini tantangan bagi pengecer kecil karena mereka tidak memiliki uang tunai untuk menimbun.\" Padahal tarif normal US$ 2.500 pada tahun 2020.\n",
      "\n",
      "Summary (hasil teks yang diringkas):\n",
      "\n",
      "Jakarta, CNBC Indonesia - Aset kripto (cryptocurrency) mengalami pekan yang berat, setelah mayoritas koin berkapitalisasi pasar besar (big cap) ambles seiring adanya kabar buruk lagi untuk bitcoin yang datang dari China dan sentimen negatif lainnya. Dalam sepekan ini, kripto WAX (WAXP) menjadi jawara dengan melonjak 52,93%. Namun, beberapa analis melihat pelemahan saat ini bisa menjadi tanda peringatan penurunan harga BTC lebih lanjut. Perubahan nama itu akan berlaku pada Hari Natal, saat Lakers menjamu Brooklyn Nets. Dogecoin naik 2,36%, sedangkan Shiba Inu melesat 9,24% hari ini. Dari Negeri Paman Sam AS, beberapa analis menilai bahwa kembali terkoreksinya pasar kripto pada hari ini karena perkembangan peraturan terkait industri kripto.\n",
      "\n",
      "Summary (hasil teks yang diringkas):\n",
      "\n",
      "Transvision akan terus melakukan ekspansi untuk menghadirkan produk dan layanan berkualitas.Ayo pasang Transvision Hi-Speed sekarang juga! Jakarta, CNBC Indonesia - Internet merupakan salah satu kebutuhan utama masyarakat saat ini.\n",
      "\n",
      "Summary (hasil teks yang diringkas):\n",
      "\n",
      "Kritik pada teori pasar adalah otoritas kesehatan meningkatkan peringatan pada kasus penyakit mencurigakan terkait dengan pasar pada 30 Desember 2019. Terbaru seorang peneliti meyakini jika pandemi memang berasal dari Wuhan, China, seperti temuan pasien awal Covid-19. Worobey mengatakan soal kasus dari dua rumah sakit sebelum peringatan terjadi. Sebagian besar kasus terkait dengan pasar dan kasus lain tidak terkonsentrasi secara geografis di sekitarnya. Worobey memiliki jawaban lain pasien tidak sakit hingga 16 Desember.\n",
      "\n",
      "Summary (hasil teks yang diringkas):\n",
      "\n",
      "Setidaknya ada lebih dari 40 fan token yang bisa diperjualbelikan saat ini. Socios menjadi pelopor penggabungan industri sepak bola dan kripto saat ini. Halaman Selanjutnya --> Mau Punya Fan Token seperti Messi? Adapun NFT memberikan hak kepemilikan berdasarkan hak cipta digital suatu aset tertentu, katakanlah suatu karya seni atau bahkan meme, yang tidak dapat ditukar (non-fungible). Bisa dikatakan, fan token ini punya peranan penting untuk mempererat komunitas klub. Saat ini telah banyak bermunculan fan token dari klub sepak bola terkenal, mulai dari Paris Saint-Germain Fan Token yang memiliki kapitalisasi pasar terbesar di antara lainnya, Manchester City Fan Token, AC Milan Fan Token, hingga Barcelona Fan Token.\n",
      "\n",
      "Summary (hasil teks yang diringkas):\n",
      "\n",
      "Jakarta, CNBC Indonesia - Staples Center akan berganti nama menjadi Crypto.com Arena, di bawah perjanjian hak penamaan selama 20 tahun antara platform kripto dan AEG, perusahaan olahraga dan hiburan asal California, AS yang merupakan pemilik dan operator stadion tersebut. Logo baru tersebut akan diresmikan pada Hari Natal, ketika Los Angeles Lakers menjamu Brooklyn Nets. Dalam sebuah wawancara, CEO Crypto.com Kris Marszalek, seorang pengusaha kelahiran Polandia, mengatakan Crypto.com dan perusahaan induknya, Foris Technology telah menguntungkan tetapi tidak memberikan angka pasti. Perusahaan itu semula didirikan sebagai perusahaan rintisan bernama Monaco pada tahun 2016, sebagai bursa mata uang kripto yang juga menawarkan dompet digital dan kartu debit kripto.\n",
      "\n",
      "Summary (hasil teks yang diringkas):\n",
      "\n",
      "\"Mereka menginginkan lebih banyak pengalaman digital di luar game, eSport, NFT, konsumsi olahraga yang lebih luas dan mereka ingin kami bergerak dengan sangat cepat\". Meski para penggemar menyebutkan aset kripto memiliki nilai terlepas dari kondisi pasar. Misalnya platform game Steam melarang game berbasis blockchain dan NFT di platformnya. Angka ini naik tajam dari 'hanya' US$1,3 miliar atau Rp 18,5 triliun pada kuartal II dan kuartal I sebesar US$1,2 miliar atau Rp 17 triliun. Menurutnya, seluruh menerbit besar, termasuk EA melihat adanya potensi pada format itu untuk bisa menghasilkan uang. Dia menambahkan ide soal NFT masih sangat awal dan datang dengan 'banyak hype'.\n"
     ]
    }
   ],
   "source": [
    "for iteration, article in enumerate(df['article']):\n",
    "    id = df['id'][iteration]\n",
    "    tokenizeKalimat = tokenizeParagraftoKalimat(article)\n",
    "    \n",
    "    kalimat = []\n",
    "    cleansingTeks = []\n",
    "    kalimatAsli = {}\n",
    "\n",
    "    for teks in tokenizeKalimat:\n",
    "        kataDasar = steamingData(cleansingData(teks))\n",
    "        dataFinal = indoStopWord(load_stopWordsNLTK(),load_stopWords(),kataDasar)\n",
    "        cleansingTeks.append(dataFinal)\n",
    "        kalimat.append(teks)\n",
    "        kalimatAsli[dataFinal] = teks\n",
    "\n",
    "    iteration = MMR()\n",
    "    score = iteration.similarityScore(cleansingTeks)\n",
    "    summarySet = iteration.calculateMMR(score,cleansingTeks)\n",
    "    \n",
    "\n",
    "    summary = hasilSummary(kalimatAsli,summarySet)\n",
    "    simpanSummary(mydb,summary,id)\n",
    "    print ('\\nSummary (hasil teks yang diringkas):\\n')\n",
    "    print(summary)\n",
    "\n",
    "#     print ('=============================================================')\n",
    "#     print ('\\nOriginal Passages (Teks Asli):\\n')\n",
    "#     visualisasiSummaryOri(cleansingTeks,summarySet,kalimatAsli)"
   ]
  },
  {
   "cell_type": "code",
   "execution_count": null,
   "metadata": {},
   "outputs": [],
   "source": []
  }
 ],
 "metadata": {
  "kernelspec": {
   "display_name": "Python 3",
   "language": "python",
   "name": "python3"
  },
  "language_info": {
   "codemirror_mode": {
    "name": "ipython",
    "version": 3
   },
   "file_extension": ".py",
   "mimetype": "text/x-python",
   "name": "python",
   "nbconvert_exporter": "python",
   "pygments_lexer": "ipython3",
   "version": "3.8.5"
  }
 },
 "nbformat": 4,
 "nbformat_minor": 4
}

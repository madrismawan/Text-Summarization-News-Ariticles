{
 "cells": [
  {
   "cell_type": "code",
   "execution_count": 1,
   "metadata": {},
   "outputs": [
    {
     "name": "stdout",
     "output_type": "stream",
     "text": [
      "importing Jupyter notebook from C:\\Users\\risma\\Kuliah\\MCA\\Text-Summarization-News-Ariticles\\algoritma\\MMR.ipynb\n"
     ]
    }
   ],
   "source": [
    "import mysql.connector\n",
    "from nltk.tokenize import sent_tokenize\n",
    "import import_ipynb\n",
    "import re\n",
    "from Sastrawi.Stemmer.StemmerFactory import StemmerFactory\n",
    "import pandas as pd\n",
    "from algoritma.MMR import *\n",
    "from nltk.corpus import stopwords\n",
    "import string\n",
    "from termcolor import colored\n",
    "import time"
   ]
  },
  {
   "cell_type": "code",
   "execution_count": 2,
   "metadata": {},
   "outputs": [
    {
     "name": "stdout",
     "output_type": "stream",
     "text": [
      "importing Jupyter notebook from C:\\Users\\risma\\Kuliah\\MCA\\Text-Summarization-News-Ariticles\\scraping\\CNBC.ipynb\n",
      "importing Jupyter notebook from C:\\Users\\risma\\Kuliah\\MCA\\Text-Summarization-News-Ariticles\\scraping\\Detik.ipynb\n",
      "importing Jupyter notebook from C:\\Users\\risma\\Kuliah\\MCA\\Text-Summarization-News-Ariticles\\scraping\\Kompas.ipynb\n",
      "importing Jupyter notebook from C:\\Users\\risma\\Kuliah\\MCA\\Text-Summarization-News-Ariticles\\scraping\\Kumparan.ipynb\n",
      "importing Jupyter notebook from C:\\Users\\risma\\Kuliah\\MCA\\Text-Summarization-News-Ariticles\\scraping\\Liputan6.ipynb\n",
      "importing Jupyter notebook from C:\\Users\\risma\\Kuliah\\MCA\\Text-Summarization-News-Ariticles\\scraping\\Tribunnews.ipynb\n"
     ]
    }
   ],
   "source": [
    "import import_ipynb\n",
    "from scraping.CNBC import *\n",
    "from scraping.Detik import *\n",
    "from scraping.Kompas import *\n",
    "from scraping.Kumparan import *\n",
    "from scraping.Liputan6 import *\n",
    "from scraping.Tribunnews import *"
   ]
  },
  {
   "cell_type": "code",
   "execution_count": 3,
   "metadata": {},
   "outputs": [],
   "source": [
    "def scrapingData(pencarian):\n",
    "    mydb = mysql.connector.connect(\n",
    "        host=\"localhost\",\n",
    "        user=\"root\",\n",
    "        password=\"\",\n",
    "        database=\"db-berita-mca\" \n",
    "    ) \n",
    "    mycursor = mydb.cursor()\n",
    "    mycursor.execute(\"SELECT nama_media, link FROM tb_source_berita\")\n",
    "    myresult = mycursor.fetchall()\n",
    "    df = pd.DataFrame(myresult,columns=['nama_media','link'])\n",
    "    \n",
    "    for iteration, article in enumerate(df['nama_media']):\n",
    "        link = df['link'][iteration]\n",
    "        if(article == \"CBNC-Indonesia\"):\n",
    "            iteration = CNBC(link,pencarian)\n",
    "            iteration.scrapingDataBeritaCNBC()\n",
    "            print(\"Berhasil mengambil data berita di \"+ article)\n",
    "        elif(article == \"kompas-News\"):\n",
    "            iteration = Kompas(link, pencarian)\n",
    "            iteration.scrapingDataKompas()\n",
    "            print(\"Berhasil mengambil data berita di \"+ article)\n",
    "        elif(article == \"Detik.com\"):\n",
    "            iteration = Detik(link,pencarian)\n",
    "            iteration.scrapingDataDetik()\n",
    "            print(\"Berhasil mengambil data berita di \"+ article)\n",
    "        elif(article == \"Kumparan\"):\n",
    "            iteration = Kumparan(link, pencarian)\n",
    "            iteration.scrapingDataKumparan()\n",
    "            print(\"Berhasil mengambil data berita di \"+ article)\n",
    "        elif(article == \"Liputan6\"):\n",
    "            iteration = Liputan6(link, pencarian)\n",
    "            iteration.scrapingLiputan6()\n",
    "            print(\"Berhasil mengambil data berita di \"+ article)\n",
    "        elif(article == \"Tribunnews\"):\n",
    "            iteration = Tribunnews(link, pencarian)\n",
    "            iteration.scrapingDataTribun()\n",
    "        else:\n",
    "            continue"
   ]
  },
  {
   "cell_type": "markdown",
   "metadata": {},
   "source": [
    "Fungsi Engine Utama Scraping Data"
   ]
  },
  {
   "cell_type": "code",
   "execution_count": 4,
   "metadata": {},
   "outputs": [
    {
     "name": "stdout",
     "output_type": "stream",
     "text": [
      "Berhasil mengambil data berita di CBNC-Indonesia\n"
     ]
    },
    {
     "ename": "TypeError",
     "evalue": "can only concatenate str (not \"int\") to str",
     "output_type": "error",
     "traceback": [
      "\u001b[1;31m---------------------------------------------------------------------------\u001b[0m",
      "\u001b[1;31mTypeError\u001b[0m                                 Traceback (most recent call last)",
      "\u001b[1;32m<ipython-input-4-539bc0d58934>\u001b[0m in \u001b[0;36m<module>\u001b[1;34m\u001b[0m\n\u001b[0;32m      1\u001b[0m \u001b[0mkeyword\u001b[0m \u001b[1;33m=\u001b[0m \u001b[1;34m\"\"\u001b[0m\u001b[1;33m\u001b[0m\u001b[1;33m\u001b[0m\u001b[0m\n\u001b[1;32m----> 2\u001b[1;33m \u001b[0mscrapingData\u001b[0m\u001b[1;33m(\u001b[0m\u001b[0mkeyword\u001b[0m\u001b[1;33m)\u001b[0m\u001b[1;33m\u001b[0m\u001b[1;33m\u001b[0m\u001b[0m\n\u001b[0m",
      "\u001b[1;32m<ipython-input-3-814225f0bae3>\u001b[0m in \u001b[0;36mscrapingData\u001b[1;34m(pencarian)\u001b[0m\n\u001b[0;32m     17\u001b[0m             \u001b[0miteration\u001b[0m\u001b[1;33m.\u001b[0m\u001b[0mscrapingDataBeritaCNBC\u001b[0m\u001b[1;33m(\u001b[0m\u001b[1;33m)\u001b[0m\u001b[1;33m\u001b[0m\u001b[1;33m\u001b[0m\u001b[0m\n\u001b[0;32m     18\u001b[0m             \u001b[0mprint\u001b[0m\u001b[1;33m(\u001b[0m\u001b[1;34m\"Berhasil mengambil data berita di \"\u001b[0m\u001b[1;33m+\u001b[0m \u001b[0marticle\u001b[0m\u001b[1;33m)\u001b[0m\u001b[1;33m\u001b[0m\u001b[1;33m\u001b[0m\u001b[0m\n\u001b[1;32m---> 19\u001b[1;33m             \u001b[0mprint\u001b[0m\u001b[1;33m(\u001b[0m\u001b[1;34m\"Jumlah berita yang diambil :\"\u001b[0m\u001b[1;33m+\u001b[0m\u001b[0mlen\u001b[0m\u001b[1;33m(\u001b[0m\u001b[0miteration\u001b[0m\u001b[1;33m.\u001b[0m\u001b[0murlDetailData\u001b[0m\u001b[1;33m)\u001b[0m\u001b[1;33m)\u001b[0m\u001b[1;33m\u001b[0m\u001b[1;33m\u001b[0m\u001b[0m\n\u001b[0m\u001b[0;32m     20\u001b[0m         \u001b[1;32melif\u001b[0m\u001b[1;33m(\u001b[0m\u001b[0marticle\u001b[0m \u001b[1;33m==\u001b[0m \u001b[1;34m\"kompas-News\"\u001b[0m\u001b[1;33m)\u001b[0m\u001b[1;33m:\u001b[0m\u001b[1;33m\u001b[0m\u001b[1;33m\u001b[0m\u001b[0m\n\u001b[0;32m     21\u001b[0m             \u001b[0miteration\u001b[0m \u001b[1;33m=\u001b[0m \u001b[0mKompas\u001b[0m\u001b[1;33m(\u001b[0m\u001b[0mlink\u001b[0m\u001b[1;33m,\u001b[0m \u001b[0mpencarian\u001b[0m\u001b[1;33m)\u001b[0m\u001b[1;33m\u001b[0m\u001b[1;33m\u001b[0m\u001b[0m\n",
      "\u001b[1;31mTypeError\u001b[0m: can only concatenate str (not \"int\") to str"
     ]
    }
   ],
   "source": [
    "keyword = \"\"\n",
    "scrapingData(keyword)"
   ]
  },
  {
   "cell_type": "code",
   "execution_count": null,
   "metadata": {},
   "outputs": [],
   "source": []
  }
 ],
 "metadata": {
  "kernelspec": {
   "display_name": "Python 3",
   "language": "python",
   "name": "python3"
  },
  "language_info": {
   "codemirror_mode": {
    "name": "ipython",
    "version": 3
   },
   "file_extension": ".py",
   "mimetype": "text/x-python",
   "name": "python",
   "nbconvert_exporter": "python",
   "pygments_lexer": "ipython3",
   "version": "3.8.5"
  }
 },
 "nbformat": 4,
 "nbformat_minor": 4
}

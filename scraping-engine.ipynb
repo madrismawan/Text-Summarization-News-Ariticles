{
 "cells": [
  {
   "cell_type": "code",
   "execution_count": 1,
   "metadata": {},
   "outputs": [
    {
     "name": "stdout",
     "output_type": "stream",
     "text": [
      "importing Jupyter notebook from C:\\Users\\risma\\Kuliah\\MCA\\Text-Summarization-News-Ariticles\\algoritma\\MMR.ipynb\n"
     ]
    }
   ],
   "source": [
    "import mysql.connector\n",
    "from nltk.tokenize import sent_tokenize\n",
    "import import_ipynb\n",
    "import re\n",
    "from Sastrawi.Stemmer.StemmerFactory import StemmerFactory\n",
    "import pandas as pd\n",
    "from algoritma.MMR import *\n",
    "from nltk.corpus import stopwords\n",
    "import string\n",
    "from termcolor import colored\n",
    "import time"
   ]
  },
  {
   "cell_type": "code",
   "execution_count": 2,
   "metadata": {},
   "outputs": [
    {
     "name": "stdout",
     "output_type": "stream",
     "text": [
      "importing Jupyter notebook from C:\\Users\\risma\\Kuliah\\MCA\\Text-Summarization-News-Ariticles\\scraping\\CNBC.ipynb\n",
      "importing Jupyter notebook from C:\\Users\\risma\\Kuliah\\MCA\\Text-Summarization-News-Ariticles\\scraping\\Detik.ipynb\n",
      "importing Jupyter notebook from C:\\Users\\risma\\Kuliah\\MCA\\Text-Summarization-News-Ariticles\\scraping\\Kompas.ipynb\n",
      "importing Jupyter notebook from C:\\Users\\risma\\Kuliah\\MCA\\Text-Summarization-News-Ariticles\\scraping\\Kumparan.ipynb\n",
      "importing Jupyter notebook from C:\\Users\\risma\\Kuliah\\MCA\\Text-Summarization-News-Ariticles\\scraping\\Liputan6.ipynb\n",
      "importing Jupyter notebook from C:\\Users\\risma\\Kuliah\\MCA\\Text-Summarization-News-Ariticles\\scraping\\Tribunnews.ipynb\n"
     ]
    }
   ],
   "source": [
    "import import_ipynb\n",
    "from scraping.CNBC import *\n",
    "from scraping.Detik import *\n",
    "from scraping.Kompas import *\n",
    "from scraping.Kumparan import *\n",
    "from scraping.Liputan6 import *\n",
    "from scraping.Tribunnews import *"
   ]
  },
  {
   "cell_type": "code",
   "execution_count": 5,
   "metadata": {},
   "outputs": [],
   "source": [
    "def scrapingData(pencarian):\n",
    "    mydb = mysql.connector.connect(\n",
    "        host=\"localhost\",\n",
    "        user=\"root\",\n",
    "        password=\"\",\n",
    "        database=\"db-berita-mca\" \n",
    "    ) \n",
    "    mycursor = mydb.cursor()\n",
    "    mycursor.execute(\"SELECT nama_media, link FROM tb_source_berita\")\n",
    "    myresult = mycursor.fetchall()\n",
    "    df = pd.DataFrame(myresult,columns=['nama_media','link'])\n",
    "    \n",
    "    for iteration, article in enumerate(df['nama_media']):\n",
    "        link = df['link'][iteration]\n",
    "        if(article == \"CBNC-Indonesia\"):\n",
    "            iteration = CNBC(link,pencarian)\n",
    "            iteration.scrapingDataBeritaCNBC()\n",
    "            print(\"Berhasil mengambil data berita di \"+ article)\n",
    "        elif(article == \"kompas-News\"):\n",
    "            iteration = Kompas(link, pencarian)\n",
    "            iteration.scrapingDataKompas()\n",
    "            print(\"Berhasil mengambil data berita di \"+ article)\n",
    "        elif(article == \"Detik.com\"):\n",
    "            iteration = Detik(link,pencarian)\n",
    "            iteration.scrapingDataDetik()\n",
    "            print(\"Berhasil mengambil data berita di \"+ article)\n",
    "        elif(article == \"Kumparan\"):\n",
    "            iteration = Kumparan(link, pencarian)\n",
    "            iteration.scrapingDataKumparan()\n",
    "            print(\"Berhasil mengambil data berita di \"+ article)\n",
    "        elif(article == \"Liputan6\"):\n",
    "            iteration = Liputan6(link, pencarian)\n",
    "            iteration.scrapingLiputan6()\n",
    "            print(\"Berhasil mengambil data berita di \"+ article)\n",
    "        elif(article == \"Tribunnews\"):\n",
    "            iteration = Tribunnews(link, pencarian)\n",
    "            iteration.scrapingDataTribun()\n",
    "        else:\n",
    "            continue"
   ]
  },
  {
   "cell_type": "markdown",
   "metadata": {},
   "source": [
    "Fungsi Engine Utama Scraping Data"
   ]
  },
  {
   "cell_type": "code",
   "execution_count": 6,
   "metadata": {},
   "outputs": [
    {
     "name": "stdout",
     "output_type": "stream",
     "text": [
      "Berhasil mengambil data berita di CBNC-Indonesia\n",
      "Berhasil mengambil data berita di kompas-News\n",
      "Berhasil mengambil data berita di Detik.com\n",
      "Berhasil mengambil data berita di Kumparan\n",
      "Berhasil mengambil data berita di Liputan6\n"
     ]
    }
   ],
   "source": [
    "keyword = \"\"\n",
    "scrapingData(keyword)"
   ]
  },
  {
   "cell_type": "code",
   "execution_count": null,
   "metadata": {},
   "outputs": [],
   "source": []
  }
 ],
 "metadata": {
  "kernelspec": {
   "display_name": "Python 3",
   "language": "python",
   "name": "python3"
  },
  "language_info": {
   "codemirror_mode": {
    "name": "ipython",
    "version": 3
   },
   "file_extension": ".py",
   "mimetype": "text/x-python",
   "name": "python",
   "nbconvert_exporter": "python",
   "pygments_lexer": "ipython3",
   "version": "3.8.5"
  }
 },
 "nbformat": 4,
 "nbformat_minor": 4
}

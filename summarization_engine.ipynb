{
 "cells": [
  {
   "cell_type": "code",
   "execution_count": 67,
   "metadata": {},
   "outputs": [],
   "source": [
    "import mysql.connector\n",
    "from nltk.tokenize import sent_tokenize\n",
    "import import_ipynb\n",
    "import re# Membuat stemmer pakai sastrawi\n",
    "import time\n",
    "from Sastrawi.Stemmer.StemmerFactory import StemmerFactory\n",
    "import pandas as pd\n",
    "from MMR import *"
   ]
  },
  {
   "cell_type": "markdown",
   "metadata": {},
   "source": [
    "# Deklarasi Connection Database"
   ]
  },
  {
   "cell_type": "code",
   "execution_count": 68,
   "metadata": {},
   "outputs": [],
   "source": [
    "mydb = mysql.connector.connect(\n",
    "    host=\"localhost\",\n",
    "    user=\"root\",\n",
    "    password=\"\",\n",
    "    database=\"db-berita-mca\"  \n",
    ") "
   ]
  },
  {
   "cell_type": "code",
   "execution_count": 69,
   "metadata": {},
   "outputs": [],
   "source": [
    "# Membuat stemmer pakai sastrawi\n",
    "\n",
    "factory = StemmerFactory()\n",
    "stemmer = factory.create_stemmer()"
   ]
  },
  {
   "cell_type": "code",
   "execution_count": 70,
   "metadata": {},
   "outputs": [
    {
     "name": "stdout",
     "output_type": "stream",
     "text": [
      "[('Jakarta, CNBC Indonesia - Krisis mainan jelang Natal terjadi di Inggris. Fenomena ini terjadi karena adanya penundaan penurunan barang-barang dari kontainer di pelabuhan Inggris. Bos retail mainan The Entertainer, Gary Grant, memperingatkan penundaan ini akan mengakibatkan kekurangan stok mainan menjelang Natal. Kini stok boneka Barbie dan mainan Paw Patrol, salah satu mainan favorit anak-anak, diperkirakan akan cepat habis.    Grant mengatakan 170 tokonya terlihat \"sangat penuh sekarang\". Namun dia mengatakan permintaan \"akan melebihi ketersediaan\" karena tidak ada cukup driver untuk memindahkan stok mainan perusahaan. \"Tidak akan pernah ada toko mainan tanpa mainan. Akan ada toko mainan tanpa semua mainan yang biasanya mereka harapkan karena kelangkaan, dan itu sebagian besar karena masalah transportasi dan gudang, bukan karena kekurangan mainan,\" kata Grant, dikutip dari BBC International, Jumat (26/11/2021). Hal yang sama juga juga terjadi pada retail lain. Thomas O\\'Brien, direktur pelaksana desainer mainan Boxer Gifts yang berbasis di Leeds, yang memproduksi produknya di China, mengatakan ada \"banyak stok\" tetapi jadi sulit karena penundaan ini. Kini retailnya kekurangan barang-barang best seller, seperti mainan lunak sloth dan bola stres sapi yang murung. Meskipun ada mainan alternatif, O\\'Brien mengatakan perusahaan kehilangan waktu perencanaan enam minggu untuk mengisi kembali stok dalam waktu singkat. Dia mengatakan kontainer yang dikirim dari Qingdao, China ke Felixstowe menelan biaya US$ 15.000. Padahal tarif normal US$ 2.500 pada tahun 2020. Meski begitu, Kepala Eksekutif British Independent Retailers Association, Andrew Goodacre, mengatakan tidak perlu panik dalam membeli. Ia menyarankan pelanggan untuk memulai proses belanja normal mereka lebih awal. \"Jika Anda melihat sesuatu yang Anda inginkan, sekaranglah waktunya untuk membeli karena pengecer memiliki sebagian besar stok Natal mereka, tetapi kami tidak dapat menjamin memiliki persediaan semuanya selama beberapa minggu ke depan,\" katanya. \"Ini tantangan bagi pengecer kecil karena mereka tidak memiliki uang tunai untuk menimbun.\" Pemerintah Inggris mengatakan bahwa Felixstowe telah melaporkan \"peningkatan kapasitas selama beberapa hari terakhir\". Sebuah kemacetan peti kemas di pelabuhan, termasuk Felixstowe, dan kekurangan pengemudi truk HGV memicu kekhawatiran di kalangan retail terkait stok produk mereka. Kekurangan pengemudi berarti bahwa kontainer pengiriman sedang diturunkan tetapi dibiarkan menumpuk di dermaga menunggu pengumpulan. Kelangkaan pengemudi juga berarti ada keterlambatan pengembalian kontainer kosong untuk digunakan kembali. Pelabuhan komersial terbesar di Inggris Felixstowe mengatakan kepada BBC bahwa saat ini ada 50.000 kontainer yang menunggu untuk dikumpulkan, karena kekurangan pengemudi truk HGV. Kini pejabat di pelabuhan telah meminta jalur pelayaran untuk mengurangi stok kontainer kosong mereka secepat mungkin.  ',), ('Jakarta, CNBC Indonesia - Aset kripto (cryptocurrency) mengalami pekan yang berat, setelah mayoritas koin berkapitalisasi pasar besar (big cap) ambles seiring adanya kabar buruk lagi untuk bitcoin yang datang dari China dan sentimen negatif lainnya. Menurut data Coinmarketcap.com, koin kripto dengan kapitalisasi pasar (market cap) terjumbo bitcoin ambles 8,26% dalam sepekan terakhir. Namun, hari ini koin kripto pertama itu berhasil rebound 2,71% ke US$ 58.701,17. Kemudian, koin kripto terbesar kedua ethereum juga anjlok 7,72% dalam seminggu dan mencoba pulih dengan naik 3,71% ke US$ 4.309,87. 10 Besar Kripto\\xa0Big Cap (Tanpa Stablecoin, seperti Tether) Nama Kode Harga Terakhir (US$) % 24 Jam % Sepekan Bitcoin BTC 58,701.17 2.71 -8.26 Ethereum ETH 43,09.87 3.71 -7.72 Binance Coin BNB 586.71 4.23 -7.11 Solana SOL 216.89 6.15 -4.8 Cardano ADA 1.88 3.02 -8.66 XRP XRP 1.09 2.28 -8.32 Polkadot DOT 41.77 3.91 -8.87 Dogecoin DOGE 0.2332 2.36 -9.06 SHIBA INU SHIB 0.00004869 9.24 -5.03 Avalanche AVAX 118.37 10.31 34.84 Sumber: Coinmarketcap.com | Harga terakhir per 20 November 2021, pukul 16.17 WIB Tidak hanya duo bitcoin dan ethereum, duo token meme berlogo anjing asal Jepang dengan market cap terbesar, DOGE dan SHIB pun ambles masing-masing 9,05% dan 5,03%. Seperti bitcoin dan ethereum, keduanya mencoba rebound hari ini. Dogecoin naik 2,36%, sedangkan Shiba Inu melesat 9,24% hari ini. Dalam sepekan ini, kripto WAX (WAXP) menjadi jawara dengan melonjak 52,93%. Koin Crypto.com (CRO) juga menjadi idola investor kripto selama sepekan ini dengan melejit 45,07%.  Melesatnya CRO terjadi seiring platform perdagangan cryptocurrency ini mendapatkan kesepakatan kontrak 20 tahun senilai US$ 700 juta dengan Anschutz Entertainment Group (AEG) untuk membeli hak penamaan Staples Center di Los Angeles, kandang tim bola basket Amerika Serikat (AS) Los Angeles Lakers. Perubahan nama itu akan berlaku pada Hari Natal, saat Lakers menjamu Brooklyn Nets. Sementara, kripto \\'pecundang\\' sepekan disematkan kepada token OMG Network (OMG) yang ambles 18,62%. Adapun koin \\'jagoan\\' selama 24 jam terakhir adalah Immutable X (IMX) yang terkerek naik 33,25%, sedangkan Kadena (KDA) menjadi top losers dengan turun 4,26%. Melansir Coindesk, sentimen pasar tampaknya masih bearish/sideways jangka pendek. \"Orang-orang terus-menerus menjual BTC di pasar berjangka,\" Ki Young Ju, CEO CryptoQuant, menulis dalam sebuah posting blog pada Jumat (19/11) dilansir Coindesk. Dari perspektif teknikal, tren naik jangka panjang bitcoin tetap terjaga selama BTC berada di atas level support US$ 53.000. Namun, beberapa analis melihat pelemahan saat ini bisa menjadi tanda peringatan penurunan harga BTC lebih lanjut. \"Penurunan total kapitalisasi pasar 5% lagi akan menandakan dimulainya bearish market, dengan asumsi cryptocurrency menganut hukum psikologi yang sama yang mendukung analisis teknikal,\" Alex Kuptsikevich, seorang analis di FxPro, menulis kepada CoinDesk. Sentimen negatif kripto sepanjang pekan ini berasal dari Timur sampai Barat, yakni dari China dan AS. Pemerintahan Ji Xinping benar-benar mau mematikan cryptocurrency seperti Bitcoin, Ethereum, dan Dogecoin. Setelah menutup akses masyarakat ke uang kripto, kini China mengambil tindakan keras pada aktivitas penambangan kripto. Juru Bicara National Development and Reform Commission (NDRC) Meng Wei mengatakan pihaknya akan meluncurkan tindakan keras \"skala penuh\" pada penambangan cryptocurrency dengan berfokus pada penambangan komersial dan peran perusahaan milik negara dalam industri. Sebagai bagian tindakan tegas, NDRC bakal menaikkan tarif listrik untuk institusi mana pun yang ditemukan menyalahgunakan akses ke listrik bersubsidi untuk berpartisipasi dalam penambangan kripto. China diketahui memberikan subsidi tarif listrik pada sekolah, pusat komunitas atau lembaga kesejahteraan masyarakat lainnya. Dari Negeri Paman Sam AS, beberapa analis menilai bahwa kembali terkoreksinya pasar kripto pada hari ini karena perkembangan peraturan terkait industri kripto. \"Pejabat bank sentral mengatakan perubahan tren dan perkembangan di sisi peraturan serta moneter juga dapat menghentikan keuntungan untuk aset digital,\" kata Freddie Evans, trader di broker aset digital yang berbasis di Inggris, GlobalBlock, menulis dalam email kepada CoinDesk. Pada Kamis lalu waktu AS, anggota parlemen AS memperkenalkan undang-undang untuk mengubah ketentuan terkait kripto dalam undang-undang infrastruktur bipartisan yang telah ditandatangani pada awal pekan ini. Amandemen yang diusulkan dapat mengklarifikasi aturan pajak tertentu untuk industri kripto. TIM RISET CNBC INDONESIA ',), ('Jakarta, CNBC Indonesia - Internet merupakan salah satu kebutuhan utama masyarakat saat ini. Sebab, hampir seluruh kegiatan kini membutuhkan internet.Apalagi dalam tahun terakhir ini merupakan tahun yang menantang dan penuh dinamika bagi Indonesia akibat pandemi Covid-19. Tidak dimungkiri pandemi juga membawa perubahan terhadap kebutuhan dan gaya hidup masyarakat terhadap tingkat adopsi digital yang meningkat.Untuk menjawab kebutuhan masyarakat tersebut, Transvision hadir dengan Transvision HI-Speed, sebuah layanan internet fiber unlimited hingga 100 Mbps.\\n\\n\\n\\n\\n\\n\\nTransvision Hi-Speed dilengkapi layanan TV kabel dengan pilihan channel live TV lengkap di antaranya 100+ Live TV Channel, 1000+ VOD, fitur Catch Up TV, dan 5000+ Android TV Apps. Dengan menggunakan Transvision Hi- Speed, pelanggan juga langsung dapat menyaksikan tayangan olahraga berkelas dunia mulai dari liga sepak bola terbaik dunia seperti Liga Prancis, Spanyol, Italia dan berbagai liga lainnya dari channel beIN SPORTS.Transvision Hi-Speed menawarkan layanan internet super cepat, stabil, dan tanpa pembatasan kecepatan dengan harga sangat terjangkau. Cukup dengan Rp 245 ribu per bulan, Anda sudah dapat menikmati layanan internet dengan kecepatan up to 50 Mbps dengan upgrade TV Hi-Speed Diamond selama 6 bulan dan gratis biaya instalasi.Transvision Hi-Speed telah hadir di 15 kota besar Indonesia di antaranya Jakarta, Bogor, Depok, Tangerang, Bekasi, Bandung, Semarang, Surabaya, Yogyakarta, Denpasar, Palembang, dan Cirebon. Transvision akan membuka jaringan di kota besar lain seperti Medan, Makassar, dan lainnya. Transvision akan terus melakukan ekspansi untuk menghadirkan produk dan layanan berkualitas.Ayo pasang Transvision Hi-Speed sekarang juga! Informasi lengkap mengenai Transvision Hi-Speed dapat dilihat pada website www.transvision.co.id, atau hubungi call centre Transvision 1500060 serta ikuti akun resmi sosial media Transvision di @transvisionid.',), ('Jakarta, CNBC Indonesia - Asal muasal virus corona penyebab Covid-19 masih terus diperdebatkan. Terbaru seorang peneliti meyakini jika pandemi memang berasal dari Wuhan, China, seperti temuan pasien awal Covid-19. Ahli Virologi Michael Worobey dalam penelitiannya menuliskan pasien awal bukanlah seorang pria yang belum pernah ke Pasar Wuhan. Namun adalah seorang wanita yang bekerja di pasar yang menjual hewan liar dan domestik, dikutip AFP, Jumat (19/11/2021). Menurutnya dari analisa mengenai kasus awal Covid-19 di Wuhan menunjukkan virus memang berasal dari hewan. Sejak pandemi merebak hampir dua tahun lalu, perdebatan asal muasal virus terus bergema. Sebagian pihak mengatakan Covid-19 berasal dari pasar Wuhan, namun ada juga yang meyakini virus bocor dari laboratorium di kota Wuhan. Sementara dalam artikel terbarunya, Worobey berpendapat dari bukti yang didapatkan wabah memang berasal dari pasar hewan.   Kritik pada teori pasar adalah otoritas kesehatan meningkatkan\\xa0peringatan pada kasus penyakit mencurigakan terkait dengan pasar pada 30 Desember 2019. Ini menimbulkan bias yang mengarah pada identifikasi pada banyak kasus di pasar daripada tempat lain. Worobey mengatakan soal kasus dari dua rumah sakit sebelum peringatan terjadi. Sebagian besar kasus terkait dengan pasar dan kasus lain tidak\\xa0terkonsentrasi secara geografis di sekitarnya. \"Pada kota 11 juta penduduk, setengah dari kasus awal terkait dengan tempat sebesar lapangan sepak bola,\" ungkap Worobey pada New York Times. \"Menjadi sulit jika menjelaskan pola itu jika wabah tidak dimulai dari pasar\". Teori lain adalah kasus pertama tidak terkait dengan pasar. Namun menurut WHO, pria yang menjadi pasien nol diidentifikasi sakit sejak 8 Desember. Worobey memiliki jawaban lain pasien tidak sakit hingga 16 Desember. Hal itu berdasarkan wawancara yang ditemukan berasal dari deskripsi kasus pada artikel ilmiah serta catatan medis rumah sakit yang cocok dengan pasien tersebut. Artinya ini merujuk kasus pertama adalah wanita yang bekerja di pasar. Dia sakit pada 11 Desember 2019. Ahli penyakit dan bagian dari tim investigasi WHO, Peter Daszak mendukung analisa Worobey. \"Tanggal 8 Desember adalah kesalahan,\" ungkapnya.',), (\"Jakarta, CNBC Indonesia - Dunia mata uang kripto (cryptocurrency) memang unik dan beragam. Selain soal bitcoin, ethereum, dan koin kripto lainnya yang sering didengar orang, saat ini muncul pula jenis aset kripto lain yang terutama ditujukan untuk para pendukung (fans) klub sepak bola, musik, dan semacamnya. Aset tersebut bernama fan token. Melansir Coinmarketcap.com, fan token adalah salah satu jenis kripto yang memungkinkan pemegangnya mengakses pelbagai fasilitas keanggotaan (membership) a la penggemar, misalnya memberikan hak suara pada keputusan klub tertentu atau mendapatkan hadiah. Umumnya, fan token biasa digunakan oleh klub olahraga, fans musik, dan organisasi lainnya. Perbedaannya dengan non-fungible token (NFT), fan token bersifat sepadan (fungible) atau dengan kata lain dapat dipertukarkan. Singkatnya, fan token seperti layaknya uang tunai yang bisa ditukar dengan merchandise klub, akses VIP, dan lainnya. Adapun NFT memberikan hak kepemilikan berdasarkan hak cipta digital suatu aset tertentu, katakanlah suatu karya seni atau bahkan meme, yang tidak dapat ditukar (non-fungible).   Bisa dikatakan, fan token ini punya peranan penting untuk mempererat komunitas klub.\\xa0Pada dasarnya, fan token tidak mesti memiliki underlying value (atau aset kripto yang menjadi dasar harga) bitcoin atau ethereum. Dengan kata lain, nilai suatu fan token diukur dari seberapa besar nilai fans yang turut membeli toke tersebut dan nilai loyalitas kepada klub yang ia sukai.  Berawal dari Startup Asal Malta, Fan Token Menjangkau Raksasa Sepak Bola  Token Chiliz adalah fan token pertama dan paling menonjol. Chiliz diciptakan oleh startup berbasis di Malta Socios. Socios menjadi pelopor penggabungan industri sepak bola dan kripto saat ini. Saat ini, klub sepak bola beramai-ramai bekerja sama dengan Socios.com, sebagai bagian dari strategi keterlibatan (engagement strategy) untuk menjangkau penggemar mereka. Saat ini telah banyak bermunculan fan token dari klub sepak bola terkenal, mulai dari Paris Saint-Germain Fan Token yang memiliki kapitalisasi pasar terbesar di antara lainnya, Manchester City Fan Token, AC Milan Fan Token, hingga Barcelona Fan Token.   Setidaknya ada lebih dari 40 fan token yang bisa diperjualbelikan saat ini. Di website resmi Socios, masih ada sekitar 10 fan token yang akan diluncurkan--termasuk milik Napoli hingga tim nasional Italia--dalam periode yang disebut dengan Fan Token Offering (FTO). Dalam FTO sebuah fan token ditawarkan pertama kali pada harga yang telah ditentukan sebelum dijual ke pasar (marketplace). Di dunia saham, FTO mirip dengan proses penawaran saham perdana (initial public offering/IPO). Melansir Sifted, Socios mengatakan bahwa sejak 2019 telah berhasil mengumpulkan sekitar €200 juta pendapatan dari penjualan token, yang telah dibagikan dengan sekitar 90 klien. Saat ini, stadion sepak bola di seluruh benua sekarang menampilkan Socios di papan iklan raksasa, bersama dengan perusahaan olahraga kripto lainnya seperti DigitalBits. Beberapa bulan yang lalu, Socios mendapatkan kesepakatan kerja sama dengan Inter Milan (dengan kode fan token €INTER), menggantikan sponsor yang sudah tiga dekade 'nampang' di jersey Inter: raksasa manufaktur ban Italia Pirelli. Harga dari fan token sendiri beragam. Ambil contoh, fan token AC Milan (ACM) dibanderol di harga US$ 7,09 per Jumat (19/11/2021), pukul 14.13 WIB, Harga tersebut naik 1,6% dibandingkan hari sebelumnya, tetapi melorot 10,8% dalam sepekan. Kendati tidak lebih volatil dari aset kripto lain, terutama kripto meme, pergerakan fan token juga cukup aktif. Volume perdagangan token ACM selama 24 jam terakhir mencapai US$ 2,18 juta, dengan nilai kapitalisasi pasar sebesar US$ 14,17 juta.  Halaman Selanjutnya -->\\xa0Mau Punya Fan Token seperti Messi? Begini Cara Belinya! \",), ('Jakarta, CNBC Indonesia - Staples Center akan berganti nama menjadi Crypto.com Arena, di bawah perjanjian hak penamaan selama 20 tahun antara platform kripto dan AEG, perusahaan olahraga dan hiburan asal California, AS yang merupakan pemilik dan operator stadion tersebut. Perjanjian tersebut dikabarkan memakan biaya sebesar US$ 700 juta atau setara dengan Rp 10,01 triliun (kurs Rp 14.300/US$). Staples Center yang merupakan kandang dari tim basket NBA Los Angeles Lakers dan LA Clippers, tim hoki NHL LA Kings serta tim basket wanita Los Angeles Sparks ini akan diganti namanya pada 25 Desember. Logo baru tersebut akan diresmikan pada Hari Natal, ketika Los Angeles Lakers menjamu Brooklyn Nets. Staples Center yang berkapasitas 20.000 kursi dibuka pada tahun 1999 di pusat kota Los Angeles ini telah menyelenggarakan ratusan acara, tidak hanya terbatas pada perhelatan olahraga tapi juga acara hiburan lainnya seperti konser musik dan penganugerahan penghargaan Grammy.   Siapa Crypto.com? Kurang dari empat tahun yang lalu, Crypto.com hanyalah sebuah blog pribadi milik Matt Blaze, seorang profesor ilmu komputer Universitas Pennsylvania, sebelum akhirnya domain tersebut dijual kepada perusahaan kripto. Pada akhir tahun ini, nama tersebut akan terpampang di salah satu tempat olahraga paling terkenal di AS, bagian dari pemasaran yang mahal oleh perusahaan yang relatif masih kurang terkenal dibandingkan pesaingnya. Perusahaan itu semula didirikan sebagai perusahaan rintisan bernama Monaco pada tahun 2016, sebagai bursa mata uang kripto yang juga menawarkan dompet digital dan kartu debit kripto.  Perusahaan memiliki kantor pusat di Singapura tetapi mempertahankan alamat di Malta, Inggris dan Irlandia. Kepala eksekutifnya, yang juga merupakan pemegang saham mayoritas, sebelumnya menjalankan situs transaksi harian yang gagal untuk Asia Tenggara. Perusahaan ini dimiliki secara pribadi dan tidak mengumpulkan dana institusional. Namun minggu ini, perusahaan yang menyebut dirinya sebagai \"platform cryptocurrency dengan pertumbuhan tercepat di dunia,\" mengatakan telah mengamankan hak penamaan selama 20 tahun untuk Staples Center di Los Angeles yang menelan biaya sekitar US$ 700 juta, salah satu jumlah terbesar yang pernah dibayarkan untuk hak penamaan tempat olahraga. Karena minat terhadap mata uang terus melonjak - harga Bitcoin telah melonjak hampir 230 persen dalam 12 bulan terakhir menjadi sekitar $60.000 per koin - perusahaan seperti Crypto.com berlomba-lomba untuk mendapatkan perhatian di kalangan masyarakat umum. Dalam inkarnasi aslinya sebagai Monaco, perusahaan menawarkan kartu debit Visa yang dapat diisi ulang menggunakan mata uang kripto. Perusahaan ini mengumpulkan dana dengan mencetak token digitalnya sendiri dan menjualnya ke publik pada tahun 2017 dalam penawaran koin awal (initial coin offering), suatu bentuk pengumpulan dana yang mirip dengan penawaran umum perdana (IPO).  Setelah itu sang CEO Kris Marszalek memutuskan untuk mengubah citra Monaco dan menghubungi Matt Blaze, seorang profesor kriptografi saat itu di University of Pennsylvania, yang telah memiliki nama domain crypto.com selama 25 tahun.  Dalam sebuah wawancara, CEO Crypto.com Kris Marszalek, seorang pengusaha kelahiran Polandia, mengatakan Crypto.com dan perusahaan induknya, Foris Technology telah menguntungkan tetapi tidak memberikan angka pasti. Crypto.com yang mengelola bursa perdagangan aset kripto menghasilkan uang dengan mengambil biaya transaksi untuk setiap jual beli Bitcoin, Eter, dan 150 mata uang digital lainnya yang tersedia di platform tersebut. Selain hak nama atas stadion basket, baru-baru ini perusahaan tersebut juga menandatangani kesepakatan sponsorship olahraga dengan United Fighting Championship (UFC), Formula 1 Racing dan liga sepak bola Serie A Italia, serta tim olahraga termasuk tim sepak bola Paris St.-Germain di Prancis dan Philadelphia 76ers. ',), ('Jakarta, CNBC Indonesia - Tren investasi kripto berjenis non-fungible token (NFT) semakin meningkat dalam beberapa waktu terakhir. Hal ini karena minat masyarakat untuk memperjual belikan aset dan karya seni digital melalu NFT semakin meningkat. Berdasarkan data DappRadar pada kuartal III-2021, volume penjualan NFT sudah mencapai US$10,7 miliar atau Rp 152,3 triliun. Angka ini naik tajam dari \\'hanya\\' US$1,3 miliar atau Rp 18,5 triliun pada kuartal II dan kuartal I sebesar US$1,2 miliar atau Rp 17 triliun. Pada pasar NFT terbesar, OpenSea mencatatkan penjualan mencapai US$ 3,4 miliar (Rp 48,4 triliun) di bulan Agustus. Satu bulan berikutnya penjualan tetap kuat di saat pasar saham global tersendat. Capaian ini sering dikaitkan dengan tren kenaikan harga mata uang kripto saat pandemi. Sebab orang menggunakan uang kripto saat membeli NFT. Meski para penggemar menyebutkan aset kripto memiliki nilai terlepas dari kondisi pasar.   NFT adalah aset digital yang mewakili aset di dunia nyata. Ini seperti sertifikat digital bagi mereka yang memiliki foto, video atau bentuk virtual lainnya. Hal ini akan tercatat di blockchain. Bila sudah dienkripsi di blockchain, pihak lain tidak dapat menduplikasi atau mereplikasi aset tersebut. Bahkan tak hanya sekadar karya seni, utamanya dalam bentuk digital, NFT juga diprediksi akan jadi bagian masa depan industri game. Hal ini diungkapkan oleh penerbit game, Electronic Arts (EA). Kepada para investor, Chief Executive EA, Andrew Wilson mengatakan pemain FIFA ingin melihat NFT.  \"(Pemain) ingin lebih banyak modalitas dalam permainan di dalam game, yang melampaui sekedar sepak bola 11 lawan 11,\" kata dia, dikutip BBC, Minggu (7/11/2021) lalu. \"Mereka menginginkan lebih banyak pengalaman digital di luar game, eSport, NFT, konsumsi olahraga yang lebih luas dan mereka ingin kami bergerak dengan sangat cepat\". Dia menambahkan ide soal NFT masih sangat awal dan datang dengan \\'banyak hype\\'. \"Masih terlalu awal mengetahui bagaimana cara kerjanya,\" ungkapnya. Sayangnya ide tersebut sangat kontroversial di kalangan gamer. Misalnya platform game Steam melarang game berbasis blockchain dan NFT di platformnya. Menurut sejumlah desainer game percaya bahwa\\xa0NFT buruk untuk game secara keseluruhan. Namun studio lain, termasuk Ubisoft, menyetujui ide tersebut. Analis industri game, Piers Harding-Rolls dari Ampere mengungkapkan jika NFT dan blockchain adalah pengganggu baru pada sektor game. Menurutnya, seluruh menerbit besar, termasuk EA melihat adanya potensi pada format itu untuk bisa menghasilkan uang. \"Ini akan jadi praktik komersial yang buruk untuk tidak menganalisa bagaimana teknologi bisa berdampak pada bisnis yang ada,\" jelasnya.',)]\n"
     ]
    },
    {
     "data": {
      "text/html": [
       "<div>\n",
       "<style scoped>\n",
       "    .dataframe tbody tr th:only-of-type {\n",
       "        vertical-align: middle;\n",
       "    }\n",
       "\n",
       "    .dataframe tbody tr th {\n",
       "        vertical-align: top;\n",
       "    }\n",
       "\n",
       "    .dataframe thead th {\n",
       "        text-align: right;\n",
       "    }\n",
       "</style>\n",
       "<table border=\"1\" class=\"dataframe\">\n",
       "  <thead>\n",
       "    <tr style=\"text-align: right;\">\n",
       "      <th></th>\n",
       "      <th>article</th>\n",
       "    </tr>\n",
       "  </thead>\n",
       "  <tbody>\n",
       "    <tr>\n",
       "      <th>0</th>\n",
       "      <td>Jakarta, CNBC Indonesia - Krisis mainan jelang...</td>\n",
       "    </tr>\n",
       "    <tr>\n",
       "      <th>1</th>\n",
       "      <td>Jakarta, CNBC Indonesia - Aset kripto (cryptoc...</td>\n",
       "    </tr>\n",
       "    <tr>\n",
       "      <th>2</th>\n",
       "      <td>Jakarta, CNBC Indonesia - Internet merupakan s...</td>\n",
       "    </tr>\n",
       "    <tr>\n",
       "      <th>3</th>\n",
       "      <td>Jakarta, CNBC Indonesia - Asal muasal virus co...</td>\n",
       "    </tr>\n",
       "    <tr>\n",
       "      <th>4</th>\n",
       "      <td>Jakarta, CNBC Indonesia - Dunia mata uang krip...</td>\n",
       "    </tr>\n",
       "    <tr>\n",
       "      <th>5</th>\n",
       "      <td>Jakarta, CNBC Indonesia - Staples Center akan ...</td>\n",
       "    </tr>\n",
       "    <tr>\n",
       "      <th>6</th>\n",
       "      <td>Jakarta, CNBC Indonesia - Tren investasi kript...</td>\n",
       "    </tr>\n",
       "  </tbody>\n",
       "</table>\n",
       "</div>"
      ],
      "text/plain": [
       "                                             article\n",
       "0  Jakarta, CNBC Indonesia - Krisis mainan jelang...\n",
       "1  Jakarta, CNBC Indonesia - Aset kripto (cryptoc...\n",
       "2  Jakarta, CNBC Indonesia - Internet merupakan s...\n",
       "3  Jakarta, CNBC Indonesia - Asal muasal virus co...\n",
       "4  Jakarta, CNBC Indonesia - Dunia mata uang krip...\n",
       "5  Jakarta, CNBC Indonesia - Staples Center akan ...\n",
       "6  Jakarta, CNBC Indonesia - Tren investasi kript..."
      ]
     },
     "execution_count": 70,
     "metadata": {},
     "output_type": "execute_result"
    }
   ],
   "source": [
    "mycursor = mydb.cursor()\n",
    "\n",
    "mycursor.execute(\"SELECT content FROM tb_berita\")\n",
    "\n",
    "myresult = mycursor.fetchall()\n",
    "print(myresult)\n",
    "\n",
    "df = pd.DataFrame(myresult,columns=['article'])\n",
    "df"
   ]
  },
  {
   "cell_type": "code",
   "execution_count": 71,
   "metadata": {},
   "outputs": [],
   "source": [
    "# Fungsi proses stemming kata\n",
    "def cleanData(sentence):\n",
    "    #sentence = re.sub('[^A-Za-z0-9 ]+', '', sentence)\n",
    "    #sentence filter(None, re.split(\"[.!?\", setence))\n",
    "    ret = []\n",
    "    sentence = stemmer.stem(sentence)\n",
    "    for word in sentence.split():\n",
    "        if not word in stopwords:\n",
    "            ret.append(word)\n",
    "    return \" \".join(ret)"
   ]
  },
  {
   "cell_type": "code",
   "execution_count": 72,
   "metadata": {},
   "outputs": [],
   "source": [
    "# Load Stopwords dengan mengambil dari link url repo github\n",
    "import requests\n",
    "def load_stopWords():\n",
    "    url = \"https://raw.githubusercontent.com/Wayan123/Sentiment-Analysis/main/stopwordlist.txt\"\n",
    "    ina_stopword = requests.get(url).content\n",
    "    return ina_stopword.split()\n",
    "\n",
    "stopwords = load_stopWords()"
   ]
  },
  {
   "cell_type": "code",
   "execution_count": 73,
   "metadata": {},
   "outputs": [
    {
     "name": "stdout",
     "output_type": "stream",
     "text": [
      "['Jakarta, CNBC Indonesia - Satgas Penanganan Covid-19 melaporkan ada tambahan 339 kasus Covid-19 dalam kurun waktu Sabtu (13/11/2021) pukul 12.00 WIB hingga Minggu (14/11/2021) pukul 12.00 WIB.Tambahan itu lebih rendah dibandingkan dengan kemarin yang tercatat 359.', 'Dengan tambahan 339 kasus hari ini, total kasus Covid-19 di RI mencapai 4.250.855.Sementara itu pasien sembuh dari Covid-19 bertambah 503 menjadi 4.098.178.', 'Sedangkan pasien yang meninggal akibat Covid-19 bertambah 15 menjadi 143.659.', 'Secara kumulatif, total kasus aktif saat ini 9.018, turun 179 pada hari ini.']\n"
     ]
    }
   ],
   "source": [
    "print(teksPerkata)"
   ]
  },
  {
   "cell_type": "code",
   "execution_count": 76,
   "metadata": {
    "scrolled": false
   },
   "outputs": [
    {
     "name": "stdout",
     "output_type": "stream",
     "text": [
      "['thomas o brien direktur laksana desainer main boxer gifts yang bas di leeds yang produksi produk di china kata ada banyak stok tetapi jadi sulit karena tunda ini', 'ia saran langgan untuk mulai proses belanja normal mereka lebih awal', 'kini stok boneka barbie dan main paw patrol salah satu main favorit anak kira akan cepat habis', 'labuh komersial besar di inggris felixstowe kata kepada bbc bahwa saat ini ada 50 000 kontainer yang tunggu untuk kumpul karena kurang kemudi truk hgv', 'tidak akan pernah ada toko main tanpa main']\n",
      "['jakarta cnbc indonesia - aset kripto cryptocurrency alami pekan yang berat telah mayoritas koin kapital pasar besar big cap ambles iring ada kabar buruk lagi untuk bitcoin yang datang dari china dan sentimen negatif lain', 'dalam pek ini kripto wax waxp jadi jawara dengan lonjak 52 93', 'ubah nama itu akan laku pada hari natal saat lakers jamu brooklyn nets', 'kemudian koin kripto besar dua ethereum juga anjlok 7 72 dalam minggu dan coba pulih dengan naik 3 71 ke us 4 309 87', 'dari negeri paman sam as beberapa analis nilai bahwa kembali koreksi pasar kripto pada hari ini karena kembang atur kait industri kripto', 'perintah ji xinping benar mau mati cryptocurrency seperti bitcoin ethereum dan dogecoin']\n",
      "['cukup dengan rp 245 ribu per bulan anda sudah dapat nikmat layan internet dengan cepat up to 50 mbps dengan upgrade tv hi-speed diamond lama 6 bulan dan gratis biaya instalasi transvision hi-speed telah hadir di 15 kota besar indonesia di antara jakarta bogor depok tangerang bekas bandung semarang surabaya yogyakarta denpasar palembang dan cirebon', 'transvision akan terus laku ekspansi untuk hadir produk dan layan kualitas ayo pasang transvision hi-speed sekarang juga']\n",
      "['hal itu dasar wawancara yang temu asal dari deskripsi kasus pada artikel ilmiah serta catat medis rumah sakit yang cocok dengan pasien sebut', 'tanggal 8 desember adalah salah ungkap', 'turut dari analisa kena kasus awal covid-19 di wuhan tunjuk virus memang asal dari hewan', 'kritik pada teori pasar adalah otoritas sehat tingkat ingat pada kasus sakit curiga kait dengan pasar pada 30 desember 2019', 'ahli virologi michael worobey dalam teliti tulis pasien awal bukan orang pria yang belum pernah ke pasar wuhan']\n",
      "['saat ini telah banyak muncul fan token dari klub sepak bola kenal mulai dari paris saint-germain fan token yang milik kapital pasar besar di antara lain manchester city fan token ac mil fan token hingga barcelona fan token', 'jakarta cnbc indonesia - dunia mata uang kripto cryptocurrency memang unik dan agam', 'saat ini stadion sepak bola di seluruh benua sekarang tampil socios di papan iklan raksasa sama dengan usaha olahraga kripto lain seperti digitalbits', 'beberapa bulan yang lalu socios dapat sepakat kerja sama dengan inter mil dengan kode fan token inter ganti sponsor yang sudah tiga dekade nampang di jersey inter raksasa manufaktur ban italia pirelli', 'singkat fan token seperti layak uang tunai yang bisa tukar dengan merchandise klub akses vip dan lain', 'begini cara beli']\n",
      "['jakarta cnbc indonesia - staples center akan ganti nama jadi crypto com arena di bawah janji hak nama lama 20 tahun antara platform kripto dan aeg usaha olahraga dan hibur asal california as yang rupa milik dan operator stadion sebut', 'kepala eksekutif yang juga rupa pegang saham mayoritas belum jalan situs transaksi hari yang gagal untuk asia tenggara', 'dalam buah wawancara ceo crypto com kris marszalek orang usaha lahir polandia kata crypto com dan usaha induk foris technology telah untung tetapi tidak beri angka pasti', 'pada akhir tahun ini nama sebut akan pampang di salah satu tempat olahraga paling kenal di as bagi dari pasar yang mahal oleh usaha yang relatif masih kurang kenal banding saing']\n",
      "['misal platform game steam larang game bas blockchain dan nft di platform', 'ini seperti sertifikat digital bagi mereka yang milik foto video atau bentuk virtual lain', 'turut seluruh terbit besar masuk ea lihat ada potensi pada format itu untuk bisa hasil uang', 'dasar data dappradar pada kuartal iii-2021 volume jual nft sudah capai us 10 7 miliar atau rp 152 3 triliun', 'sayang ide sebut sangat kontroversial di kalang gamer', 'masih terlalu awal tahu bagaimana cara kerja ungkap']\n"
     ]
    }
   ],
   "source": [
    "from nltk.tokenize import sent_tokenize\n",
    "sentences = []\n",
    "for iteration, s in enumerate(df['article']):\n",
    "    tokenizeKalimat = sent_tokenize(s)\n",
    "\n",
    "\n",
    "    kalimat = []\n",
    "#     kalimat.clear()\n",
    "    cleansingTeks = []\n",
    "    kalimatAsli = {}\n",
    "    \n",
    "    for teks in tokenizeKalimat:\n",
    "        cleanTeks = cleanData(teks)\n",
    "        kalimat.append(teks)\n",
    "        cleansingTeks.append(cleanTeks)\n",
    "        kalimatAsli[cleanTeks] = teks\n",
    "    \n",
    "    setClean = set(cleansingTeks)\n",
    "#     print(setClean)\n",
    "#     time.sleep(2)\n",
    "    \n",
    "    iteration = MMR()\n",
    "    score = iteration.similarityScore(cleansingTeks)\n",
    "    summarySet = iteration.calculateMMR(score,cleansingTeks)\n",
    "    print(summarySet)\n",
    "#     print ('\\nSummary (hasil teks yang diringkas):\\n')\n",
    "#     for sentence in summarySet:\n",
    "#         print (kalimatAsli [sentence].lstrip(' '))\n",
    "#     print ('=============================================================')\n",
    "#     print ('\\nOriginal Passages (Teks Asli):\\n')\n",
    "#     from termcolor import colored # tools untuk membuat highlight merah\n",
    "\n",
    "#     for sentence in cleansingTeks:\n",
    "#         if sentence in summarySet:\n",
    "#             print (colored(kalimatAsli[sentence].lstrip(' '),'red'))\n",
    "#         else:\n",
    "#             print (kalimatAsli[sentence].lstrip(' '))\n"
   ]
  },
  {
   "cell_type": "code",
   "execution_count": null,
   "metadata": {},
   "outputs": [],
   "source": []
  }
 ],
 "metadata": {
  "kernelspec": {
   "display_name": "Python 3",
   "language": "python",
   "name": "python3"
  },
  "language_info": {
   "codemirror_mode": {
    "name": "ipython",
    "version": 3
   },
   "file_extension": ".py",
   "mimetype": "text/x-python",
   "name": "python",
   "nbconvert_exporter": "python",
   "pygments_lexer": "ipython3",
   "version": "3.8.5"
  }
 },
 "nbformat": 4,
 "nbformat_minor": 4
}

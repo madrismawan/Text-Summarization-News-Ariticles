{
 "cells": [
  {
   "cell_type": "code",
   "execution_count": 1,
   "metadata": {},
   "outputs": [],
   "source": [
    "from builtins import Exception\n",
    "import urllib3\n",
    "from bs4 import BeautifulSoup\n",
    "from requests import get\n",
    "import mysql.connector\n",
    "import re\n",
    "from datetime import date\n",
    "from datetime import datetime"
   ]
  },
  {
   "cell_type": "code",
   "execution_count": null,
   "metadata": {},
   "outputs": [],
   "source": []
  },
  {
   "cell_type": "code",
   "execution_count": null,
   "metadata": {},
   "outputs": [],
   "source": []
  },
  {
   "cell_type": "code",
   "execution_count": 87,
   "metadata": {},
   "outputs": [
    {
     "ename": "SyntaxError",
     "evalue": "invalid syntax (<ipython-input-87-5dfc13595611>, line 77)",
     "output_type": "error",
     "traceback": [
      "\u001b[1;36m  File \u001b[1;32m\"<ipython-input-87-5dfc13595611>\"\u001b[1;36m, line \u001b[1;32m77\u001b[0m\n\u001b[1;33m    data = (media,title,label,author,release_date,dataBerita,news_content)\u001b[0m\n\u001b[1;37m    ^\u001b[0m\n\u001b[1;31mSyntaxError\u001b[0m\u001b[1;31m:\u001b[0m invalid syntax\n"
     ]
    }
   ],
   "source": [
    "class Liputan6:\n",
    "     #deklarasi variable global\n",
    "    url = \"\"\n",
    "    mydb = \"\"\n",
    "    keyword = \"\"\n",
    "    urlDetailData = \"\"\n",
    "    today = datetime.now()\n",
    "    \n",
    "    #fungsi dari inisialisasi data saat memanggil class pertama kali\n",
    "    def __init__(self, urlBerita, pencarian):\n",
    "        self.url = urlBerita\n",
    "        self.keyword = pencarian\n",
    "        self.mydb = mysql.connector.connect(host=\"localhost\",user=\"root\", password=\"\",database=\"db-berita-mca\")\n",
    "    \n",
    "    #fungsi menyimpan data ke database\n",
    "    def simpanDatabase(self,data):\n",
    "        mycursor = self.mydb.cursor()\n",
    "        sql = \"INSERT INTO tb_berita (media,judul_berita,label,penulis,release_date,url,content) VALUES (%s,%s,%s,%s,%s,%s,%s)\"\n",
    "        mycursor.execute(sql, data)\n",
    "        self.mydb.commit()\n",
    "        return\n",
    "    \n",
    "    #fungsi buat validasi data duplicate di database\n",
    "    def validasiDataDatabase(self,dataBerita):\n",
    "        mycursor = self.mydb.cursor()\n",
    "        sql = \"SELECT * FROM tb_berita WHERE url = %s\"\n",
    "        dataUrl = dataBerita\n",
    "        url = (dataBerita,)\n",
    "        mycursor.execute(sql, url)\n",
    "        myresult = mycursor.fetchall()\n",
    "        return myresult\n",
    "        \n",
    "    def getUrlDetail(self,page):\n",
    "        self.urlDetailData = []\n",
    "        for page in range(page): \n",
    "            if(self.keyword == \"\"):\n",
    "                dateNow = self.today.strftime(\"%Y/%m/%d\")\n",
    "                urlGet = (self.url+\"/news/indeks/\"+dateNow+\"?page={}\".format(page+1))\n",
    "                soup = BeautifulSoup(get(urlGet).text, 'lxml')\n",
    "                getContent = soup.find('article','main')\n",
    "                groupContent = getContent.find_all('h4','articles--rows--item__title')\n",
    "                for x in groupContent:\n",
    "                    news_url = x.find('a', href=True).get('href')\n",
    "                    mergeUrl = (news_url+\"?page=all\")\n",
    "                    self.urlDetailData.append(mergeUrl)\n",
    "            else:\n",
    "                dateNow = self.today.strftime(\"%d/%m/%Y\")\n",
    "                date = dateNow.replace('/','%2F')\n",
    "                urlGet = (self.url+\"/search?order=latest&chammel_id=&from_date=\"+date+\"&to_date=\"+date+\"&type=all&q=\"+self.keyword)\n",
    "                soup = BeautifulSoup(get(urlGet).text, 'lxml')\n",
    "                getContent = soup.find('article','main')\n",
    "                groupContent = getContent.find_all('h4','articles--iridescent-list--text-item__title')\n",
    "                for x in groupContent:\n",
    "                    news_url = x.find('a', href=True).get('href')\n",
    "                    mergeUrl = (news_url+\"?page=all\")\n",
    "                    self.urlDetailData.append(mergeUrl)\n",
    "                    \n",
    "                    \n",
    "    def scrapingDataTribun(self):\n",
    "        for dataBerita in self.urlDetailData:\n",
    "            myresult = self.validasiDataDatabase(dataBerita)\n",
    "            if(len(myresult)==0):\n",
    "                try:\n",
    "                    media = \"Liputan6.com\"\n",
    "                    web_data = get(dataBerita)\n",
    "                    soup = BeautifulSoup(web_data.text, 'html.parser')\n",
    "                    page = soup.find('div','inner-container-article')\n",
    "                    title = page.find('h1','read-page--header--title entry-title').text\n",
    "                    labelGroup = page.find_all('a','read-page--breadcrumb--item__title')\n",
    "                    for x in labelGroup:\n",
    "                        label = x.find('span').text\n",
    "                    author = page.find('span','read-page--header--author__name fn').text\n",
    "                    release_date = page.find('time','read-page--header--author__datetime updated').text      \n",
    "                    groupContent = page.find('div','read-page--content')\n",
    "                    texts = groupContent.find_all('p')\n",
    "                    news_content = ' '.join([text.text for text in texts]            \n",
    "                    data = (media,title,label,author,release_date,dataBerita,news_content)\n",
    "                    self.simpanDatabase(data)\n",
    "                except Exception as e:\n",
    "                    continue \n",
    "            else:\n",
    "                continue"
   ]
  },
  {
   "cell_type": "code",
   "execution_count": 88,
   "metadata": {},
   "outputs": [
    {
     "name": "stdout",
     "output_type": "stream",
     "text": [
      "https://www.liputan6.com/news/read/4789573/ridwan-kamil-siapkan-jurus-cegah-penyebaran-covid-19-varian-omicron-di-jawa-barat?page=all\n",
      "Liputan6.com, Jakarta - Gubernur Jawa Barat Ridwan Kamil mengaku telah menyiapkan sejumlah jurus untuk mencegah penularan Covid-19 varian Omicron yang sudah masuk ke Indonesia. Strategi yang disiapkan menghadapi varian Omicron, salah satunya dengan menyiapkan instrumen penanganan kesehatan, sama seperti yang dilakukan Jabar saat menangani varian Delta beberapa waktu lalu. Baca Juga \"Dulu Delta terdeteksi di Karawang, menyebar dengan cepat. Oleh karena itu kami belajar dari delta. Per hari ini Jabar sedang menyiapkan semua perlengkapan seperti menghadapi virus Delta,\" kata Ridwan Kamil, di Bogor, seperti dilansir Antara, Sabtu 18 Desember 2021. Selain itu, Jabar akan memperkuat stok oksigen. Terkait hal ini, dia mendapatkan dukungan dari komunitas Indonesia Pasti Bisa. Juga menggenjot telusur, tes dan tindak lanjut (3T). \"Jadi tabung oksigen kita cek lagi alhamdulillah ada stok lebih banyak dari Indonesia Pasti Bisa kemudian testing tracing kita tingkatkan lagi. Per hari ini kita sudah tiga kali lipat dari yang standar untuk testing. Tapi apapun ada kelebihannya dari persiapan kita, yaitu waktu Delta vaksinnya dikit jadi kekebalannya rendah dan yang meninggal mayoritas di Jabar adalah mereka yang tidak bervaksin,\" ujar Kamil. Dia menjelaskan soal capaian vaksinasi di Jabar pada tahap satu sudah menyentuh angka 70 persen. Dia berharap hal tersebut dapat membentuk kekebalan komunal dalam menghadapi varian Omicron.   Presiden Joko Widodo menyampaikan perkembangan virus Covid-19 seiring ditemukannya varian omicron di Indonesia. Jokowi mengimbau masyarakat untuk waspada dan jangan panik serta mengimbau masyarakat untuk segera melaksanakan vaksinasi bagi yang belum. Ridwan Kamil meminta masyarakat untuk tetap produktif tapi dengan tetap menerapkan protokol kesehatan secara ketat. \"Kepada masyarakat mari kita tetap produktif apapun sebenarnya boleh, asalkan prokes aja. Mau judulnya tadi macam-macam nama virusnya jawabannya adalah prokes untuk masyarakat untuk negara adalah gencar dengan 3T. Jadi saya kira itu saja persiapannnya insyaallah jauh lebih siap,\" kata Kamil. Pada momentum melandainya penularan virus Covid-19, dia telah memberikan penghargaan bagi tenaga kesehatan dan anggota keluarganya yang gugur saat bela negara memberi perawatan rakyat Jabar. \"Tentunya penghargaan untuk nakes itu banyak, ada beasiswa buat anak-anak dari nakes yang khususnya berpulang kita memberikan apresiasi sejarah dalam bentuk monumen juga untuk mengingatkan rasa terima kasih kita,\" ucap Kamil. \"Jabar kehilangan 200-an dokter nakes dari profesor sampai tenaga ahli, itu kehilangan besar. Jadi kami pastikan apapun bentuk penghargaannya, kalau memungkinkan pasti akan kami berikan sebagai rasa terima kasih kami,\" lanjut dia.  \n",
      "https://www.liputan6.com/news/read/4789560/ormas-minta-paksa-uang-parkir-polda-metro-jaya-silakan-lapor-akan-kami-tindak?page=all\n",
      "Liputan6.com, Jakarta Polda Metro Jaya melarang organisasi masyarakat (ormas) untuk menarik uang parkir secara liar dan paksa. Kabid Humas Polda Metro Jaya, Kombes Endra Zulpan menegaskan, meminta uang parkir secara paksa termasuk perbuatan melawan hukum atau dikategorikan sebagai pemesaran. \"Jadi tidak ada ini, tidak dibenarkan kalau ada ormas tertentu dengan meminta bayaran terhadap pemarkiran ini adalah kategori pemerasan,\" kata Zulpan dalam keterangannya, Jakarta, Sabtu (18/12/2021). Baca Juga Dia meminta masyarakat yang merasa dirugikan akibat ulah ormas tertentu yang menarik parkir secara paksa untuk membuat laporan ke polisi. \"Silakan kalau ada yang merasa diresahkan lapor. Kalau ada ormas tertentu yang menarik parkir secara paksa ini adalah suatu kejahatan,\" terang Zulpan.   Dua orang perempuan melakukan perusakan terhadap kaca mobil truk karena tidak diberikan uang parkir. Kedua wanita itu nekat melakukan aksinya terhadap sopir truk tersebut. Zulpan menjelaskan, restribusi parkir merupakan kewenangan pemerintah daerah. Menurut dia, tidak ada pihak-pihak lain yang berwenang. \"Kecuali untuk di mal itu pengelola mal dan sebagainya. Tetapi tetap bayar pajak ke Pemda,\" terang dia. Terpisah, Direktur Lalu Lintas Polda Metro Jaya, Kombes Sambodo Purnomo Yogo juga meyampaikan hal serupa. Ia menyebut, praktik penarikan parkir yang dilakukan secara paksa tidak dibenarkan. \"Selama mereka melakukan tindak pidana pemerasan pasti bakal kita tindaklanjuti,\" tandas dia.\n",
      "https://www.liputan6.com/news/read/4789538/benda-mirip-tank-ditemukan-di-perairan-natuna-ini-kata-tni-al?page=all\n",
      "Liputan6.com, Natuna - Sebuah benda menyerupai kendaraan tempur tank ditemukan di Perairan Natuna, Kepulauan Riau. Benda tersebut ditemukan oleh pekerja migas di perairan tersebut. Pangkalan Utama TNI Angkatan Laut (Lantamal) IV Tanjungpinang memastikan benda menyerupai tank itu tidak berbahaya. Baca Juga \"Iya, memang betul ada temuan benda mirip tank, tapi tidak berbahaya,\" kata Kepala Dinas Penerangan Lantamal IV Mayor Marinir Saul Jamlaay, seperti dilansir Antara, Sabtu 18 Desember 2021. Menurut dia, benda tersebut merupakan milik perusahaan migas Star Energy dari rig blok kakap yang melakukan pengeboran di Laut Natuna. \"Pihak perusahaan sudah mengakui hal itu. Benda itu hanyut sendiri,\" jelas Saul.   Terkait ketegangan di perairan Natuna Utara, Menteri Luar Negeri Retno Marsudi menegaskan telah terjadi pelanggaran oleh kapal-kapal China di wilayah Zona Ekonomi Ekslusif Indonesia. Saat ini, kapal perang dari unsur KRI Gugus Tempur Laut (Guspurla) sudah merapat ke lokasi benda tersebut. Sementara itu, Lantamal IV belum bisa mendekat ke sana karena cuaca ekstrem. \"Kami belum dapat informasi apakah sudah dievakuasi atau belum,\" kata Saul. Penemuan benda mirip tank itu sempat viral di media sosial Facebook dan WhatsApp, khususnya di kalangan warga Natuna sejak Kamis 16 Desember 2021.\n",
      "https://www.liputan6.com/news/read/4767737/cegah-penyebaran-varian-omicron-bpjs-kesehatan-perkuat-aplikasi-p-care-vaksinasi?page=all\n",
      "Liputan6.com, Jakarta Varian Omicron Covid-19 telah menyebar ke seluruh dunia. Varian virus ini pertama kali terdeteksi di Benua Afrika. Kini, varian ini telah tersebar 57 negara. Melihat hal itu, pemerintah Indonesia kini tengah mengantisipasi penyebaran mutasi dari varian virus tersebut. Selain itu, pemerintah juga terus mengupayakan vaksinasi bagi seluruh penduduk. Hal itu agar terbentuk herd immunity bagi masyarakat. Baca Juga Dalam Forum Denpasar 12 edisi 84 bertema “Mengenal Lebih Lanjut Omicron\", Direktur Utama BPJS Kesehatan menjadi penanggap terkait perkembangan pandemi khususnya antisipasi pada varian asal Afrika tersebut. “Antisipasi pada varian Omicron ini diharapkan 3 T atau testing, tracing dan treatment serta 5 M perlu terus kita lakukan. Walaupun tingkat keparahan varian ini lebih rendah dibanding varian Delta serta harus dipantau dan diteliti lebih lanjut, diharapkan bagi masyarakat yang sudah vaksinasi lebih terlindungi dari ancaman varian ini. Selain itu masyarakat juga harus tetap memperhatikan kondisi ventilasi udara di sekitar baik di rumah maupun di tempat bekerja,” ujar Ghufron, yang sebelumnya menjabat sebagai Ketua Konsorsium Riset dan Inovasi Covid 19, Badan Riset Inovasi Nasional. Ghufron juga mengungkapkan, kondisi pandemi harus terus dipantau perkembangannya. Kegiatan surveilans kesehatan mencakup deteksi, pencatatan, pelaporan data, analisis data, konfirmasi epidemiologis maupun laboratoris, umpan-balik (feedback) harus dielaborasi bersama. Selain itu, BPJS Kesehatan siap mendukung pemerintah dalam hal ini serta menyukseskan upaya vaksinasi. “Sesuai dengan arahan dari Bapak Presiden yang menyatakan bahwa vaksinasi Covid-19 didorong 2 juta vaksin per hari dan pemberian vaksinasi kepada masyarakat usia 12-17 tahun. BPJS Kesehatan telah melakukan persiapan untuk mendukung hal tersebut, khususnya penyesuaian pada aplikasi P-Care Vaksinasi sehingga dapat meng-input peserta vaksinasi usia tersebut,” kata Ghufron. Selain itu, BPJS Kesehatan juga melakukan pemantauan rutin untuk memastikan infrastruktur P-Care Vaksinasi tetap berjalan normal, menyiapkan alur koordinasi penanganan keluhan apabila ada kendala sistem, serta penambahan kapasitas infrastruktur jika pemanfaatan sistem sudah mencapai limit atau sebesar 70%-80%. Ghufron juga menyampaikan pencatatan vaksinasi Covid-19 dari bulan Januari – September 2021 terus meningkat. Pencapaian vaksinasi sampai tanggal 20 September 2021 mencapai 25.325.489. Selain itu, aplikasi P-Care Vaksinasi ini telah digunakan pada 17.076 fasilitas kesehatan atau sentra vaksinasi yang tersebar di seluruh Indonesia. Forum Denpasar 12 edisi 84 tersebut digagas oleh Wakil Ketua MPR RI Koordinator Bidang Penyerapan Aspirasi Masyarakat dan Daerah, Lestari Moerdijat. Hadir sebagai narasumber, Wakil Menteri Kesehatan RI Dante Saksono, Wakil Rektor Bidang Riset Inovasi dan Community Development Universitas Airlangga, Ni Nyoman Tri Puspaningsing, Pakar Medis Satgas Percepatan Penanganan Covid-19, Tonny Loho, serta Direktur Pasca Sarjana Universitas YARSI, Tjandra Yoga Aditama.   (*)\n"
     ]
    }
   ],
   "source": [
    "url = 'https://www.liputan6.com'\n",
    "pencarian = ''\n",
    "testing = Liputan6(url, pencarian)\n",
    "testing.getUrlDetail(1)\n",
    "testing.scrapingDataTribun()"
   ]
  },
  {
   "cell_type": "code",
   "execution_count": 85,
   "metadata": {},
   "outputs": [
    {
     "name": "stdout",
     "output_type": "stream",
     "text": [
      "19%2F12%2F2021\n"
     ]
    }
   ],
   "source": [
    "today = datetime.now()\n",
    "dateNow = today.strftime(\"%d/%m/%Y\")\n",
    "print(dateNow.replace('/','%2F'))\n",
    "      "
   ]
  },
  {
   "cell_type": "code",
   "execution_count": null,
   "metadata": {},
   "outputs": [],
   "source": []
  },
  {
   "cell_type": "code",
   "execution_count": null,
   "metadata": {},
   "outputs": [],
   "source": []
  }
 ],
 "metadata": {
  "kernelspec": {
   "display_name": "Python 3",
   "language": "python",
   "name": "python3"
  },
  "language_info": {
   "codemirror_mode": {
    "name": "ipython",
    "version": 3
   },
   "file_extension": ".py",
   "mimetype": "text/x-python",
   "name": "python",
   "nbconvert_exporter": "python",
   "pygments_lexer": "ipython3",
   "version": "3.8.5"
  }
 },
 "nbformat": 4,
 "nbformat_minor": 4
}
